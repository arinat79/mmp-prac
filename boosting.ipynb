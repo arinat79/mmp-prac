{
 "cells": [
  {
   "cell_type": "markdown",
   "metadata": {},
   "source": [
    "# Машинное обучение, ММП ВМК МГУ\n",
    "\n",
    "## Практическое задание 4. Разложение ошибки на смещение и разброс. Градиентный бустинг ~~своими руками~~\n",
    "\n",
    "### Общая информация\n",
    "\n",
    "Дата выдачи: 09.12.2019\n",
    "\n",
    "Мягкий дедлайн: 23:59MSK 22.12.2019\n",
    "\n",
    "Жесткий дедлайн: 23:59MSK 29.12.2019\n",
    "\n",
    "### Оценивание и штрафы\n",
    "Каждая из задач имеет определенную «стоимость» (указана в скобках около задачи). Максимально допустимая оценка за работу — 10 баллов.\n",
    "\n",
    "Сдавать задание после указанного срока сдачи нельзя. При выставлении неполного балла за задание в связи с наличием ошибок на усмотрение проверяющего предусмотрена возможность исправить работу на указанных в ответном письме условиях.\n",
    "\n",
    "Задание выполняется самостоятельно. «Похожие» решения считаются плагиатом и все задействованные студенты (в том числе те, у кого списали) не могут получить за него больше 0 баллов (подробнее о плагиате см. на странице курса). Если вы нашли решение какого-то из заданий (или его часть) в открытом источнике, необходимо указать ссылку на этот источник в отдельном блоке в конце вашей работы (скорее всего вы будете не единственным, кто это нашел, поэтому чтобы исключить подозрение в плагиате, необходима ссылка на источник).\n",
    "\n",
    "Неэффективная реализация кода может негативно отразиться на оценке.\n",
    "\n",
    "### Формат сдачи\n",
    "Задания сдаются через систему anytask. Посылка должна содержать:\n",
    "* Ноутбук homework-practice-06-Username.ipynb\n",
    "\n",
    "Username — ваша фамилия и имя на латинице именно в таком порядке\n",
    "\n",
    "### О задании\n",
    "\n",
    "В этом задании вам предстоит воспользоваться возможностями bootstraping для оценки смещения и разброса алгоритмов машинного обучения. Делать мы это будем на данных boston. \n",
    "Также в задании вам будет предложено пообучать готовые модели градиентного бустинга и CatBoost."
   ]
  },
  {
   "cell_type": "markdown",
   "metadata": {},
   "source": [
    "## Часть 1. Bias-Variance Decomposition"
   ]
  },
  {
   "cell_type": "code",
   "execution_count": 1,
   "metadata": {},
   "outputs": [],
   "source": [
    "import numpy as np\n",
    "import pandas as pd\n",
    "from matplotlib import pyplot as plt\n",
    "%matplotlib inline"
   ]
  },
  {
   "cell_type": "code",
   "execution_count": 2,
   "metadata": {},
   "outputs": [],
   "source": [
    "from sklearn.datasets import load_boston"
   ]
  },
  {
   "cell_type": "code",
   "execution_count": 126,
   "metadata": {},
   "outputs": [],
   "source": [
    "boston = load_boston()"
   ]
  },
  {
   "cell_type": "code",
   "execution_count": 127,
   "metadata": {},
   "outputs": [],
   "source": [
    "X = boston[\"data\"]\n",
    "y = boston[\"target\"]"
   ]
  },
  {
   "cell_type": "code",
   "execution_count": 128,
   "metadata": {},
   "outputs": [
    {
     "data": {
      "text/plain": [
       "((506, 13), (506,))"
      ]
     },
     "execution_count": 128,
     "metadata": {},
     "output_type": "execute_result"
    }
   ],
   "source": [
    "X.shape, y.shape"
   ]
  },
  {
   "cell_type": "code",
   "execution_count": 3,
   "metadata": {},
   "outputs": [],
   "source": [
    "import warnings\n",
    "warnings.filterwarnings('ignore')"
   ]
  },
  {
   "cell_type": "markdown",
   "metadata": {},
   "source": [
    "### Вычисление bias и variance с помощью бутстрапа\n",
    "На лекции была выведено следующая формула, показывающая, как можно представить ошибку алгоритма регрессии в виде суммы трех компонент:\n",
    "$$\n",
    "L(\\mu) = \n",
    "    \\mathbb{E}_{x, y}\\bigl[\\mathbb{E}_{X}\\bigl[ (y - \\mu(X)(x))^2 \\bigr]\\bigr] = \n",
    "$$\n",
    "$$\n",
    "    \\underbrace{\\mathbb{E}_{x, y}\\bigl[(y - \\mathbb{E}[y|x] )^2\\bigr]}_{\\text{шум}} + \\underbrace{\\mathbb{E}_{x}\\bigl[(\\mathbb{E}_{X}[\\mu(X)(x)] - \\mathbb{E}[y|x] )^2\\bigr]}_{\\text{смещение}} +\n",
    "    \\underbrace{\\mathbb{E}_{x}\\bigl[\\mathbb{E}_{X}\\bigl[(\\mu(X)(x) - \\mathbb{E}_{X}[\\mu(X)(x)] )^2\\bigr]\\bigr]}_{\\text{разброс}},\n",
    "$$\n",
    "* $\\mu(X)$ — алгоритм, обученный по выборке $X = \\{(x_1, y_1), \\dots (x_\\ell, y_\\ell)\\}$;\n",
    "* $\\mu(X)(x)$ — ответ алгоритма, обученного по выборке $X$, на объекте $x$;\n",
    "* $\\mathbb{E}_{X}$ — мат. ожидание по всем возможным выборкам;\n",
    "* $\\mathbb{E}_{X}[\\mu(X)(x)]$ — \"средний\" ответ алгоритма, обученного по всем возможным выборкам $X$, на объекте $x$.\n",
    "    \n",
    "С помощью этой формулы мы можем анализировать свойства алгоритма обучения модели $\\mu$, если зададим вероятностную модель порождения пар $p(x, y)$.\n",
    "\n",
    "В реальных задачах мы, конечно же, не знаем распределение на парах объект - правильный ответ. Однако у нас есть набор семплов из этого распределения (обучающую выборка), и мы можем использовать его, чтобы оценивать математические ожидания. Для оценки мат. ожиданий по выборкам мы будем пользоваться бутстрэпом - методом генерации \"новых\" выборок из одной с помощью выбора объектов с возвращением. Разберем несколько шагов на пути к оценке смещения и разброса.\n",
    "\n",
    "#### Приближенное вычисление интегралов\n",
    "На занятиях мы разбирали примеры аналитического вычисления смещения и разброса нескольких алгоритмов обучения. Для большинства моделей данных и алгоритмов обучения аналитически рассчитать математические ожидания в формулах не удастся. Однако мат. ожидания можно оценивать приближенно. Чтобы оценить математическое ожидание $\\mathbb{E}_{\\bar z} f(\\bar z)$ функции от многомерной случайной величины $\\bar z = (z_1, \\dots, z_d)$, $\\bar z \\sim p(\\bar z)$, можно сгенерировать выборку из распределения $p(\\bar z)$ и усреднить значение функции на элементах этой выборки:\n",
    "$$\\mathbb{E}_{\\bar z} f(z) = \\int f(\\bar z) p(\\bar z) d \\bar z \\approx \\frac 1 m \\sum_{i=1}^m f(\\bar z_i), \\, \\bar z_i \\sim p(\\bar z), i = 1, \\dots, m.$$\n",
    "\n",
    "Например, оценим $\\mathbb{E}_z z^2,$ $z \\sim \\mathcal{N}(\\mu=5, \\sigma=3)$ (из теории вероятностей мы знаем, что\n",
    "$\\mathbb{E}_z z^2 = \\sigma^2 + \\mu^2 = 34$):"
   ]
  },
  {
   "cell_type": "code",
   "execution_count": 7,
   "metadata": {},
   "outputs": [
    {
     "data": {
      "text/plain": [
       "33.357036033750106"
      ]
     },
     "execution_count": 7,
     "metadata": {},
     "output_type": "execute_result"
    }
   ],
   "source": [
    "z = np.random.normal(loc=5, scale=3, size=1000)\n",
    "(z**2).mean()"
   ]
  },
  {
   "cell_type": "markdown",
   "metadata": {},
   "source": [
    "#### Оценивание $\\mathbb{E}_{x, y}$\n",
    "Оценить мат. ожидания по $x$ и по $x, y$, встречающиеся во всех трех компонентах разложения, несложно, потому что у нас есть выборка объектов из распределения данных $p(x, y)$:\n",
    "$$ \\mathbb{E}_{x} f(x) \\approx \\frac 1 N \\sum_{i=1}^N f(x_i), \\quad\n",
    "\\mathbb{E}_{x, y} f(x, y) \\approx \\frac 1 N \\sum_{i=1}^N f(x_i, y_i),$$\n",
    "где $N$ - число объектов в выборке, $\\{(x_i, y_i)\\}_{i=1}^N$ - сама выборка. \n",
    "\n",
    "#### Оценивание $\\mathbb{E}_X$ с помощью бутстрапа\n",
    "Чтобы оценить мат. ожидание по $X$, нам понадобится выборка из выборок:\n",
    "$$\\mathbb{E}_X f(X) \\approx \\frac 1 s \\sum_{j=1}^s f(X_j),$$\n",
    "где $X_j$ - $j$-я выборка. Чтобы их получить, мы можем воспользоваться бутстрапом - методом генерации выборок на основе выбора объектов с возвращением. Чтобы составить одну выборку, будем $N$ раз выбирать индекс объекта $i \\sim \\text{Uniform}(1 \\dots N)$ и добавлять $i$-ю пару (объект, целевая переменная) в выборку. В результате в каждой выборке могут появиться повторяющиеся объекты, а какие-то объекты могут вовсе не войти в некоторые выборки.\n",
    "\n",
    "#### Итоговый алгоритм оценки смещения и разброса алгоритма $a$\n",
    "1. Сгенерировать $s$ выборок $X_j$ методом бутстрапа.\n",
    "1. На каждой выборке $X_j$ обучить алгоритм $a_j$.\n",
    "1. Для каждой выборки $X_j$ определить множество объектов $T_j$, не вошедших в нее (out-of-bag). Вычислить предсказания алгоритма $a_j$ на объектах $T_j$. \n",
    "\n",
    "Поскольку у нас есть только один ответ для каждого объекта, мы будем считать шум равным 0, а $\\mathbb{E}[y|x]$ равным имеющемуся правильному ответу для объекта $x$. \n",
    "\n",
    "Итоговые оценки:\n",
    "* Смещение: для одного объекта - квадрат разности среднего предсказания и правильного ответа. Среднее предсказание берется только по тем алгоритмам $a_j$, для которых этот объект входил в out-of-bag выборку $T_j$. Для получения общего смещения выполнить усреденение смещений по объектам.\n",
    "* Разброс: для одного объекта - выборочная дисперсия предсказаний алгоритмов $a_j$, для которых этот объект входил в out-of-bag выборку $T_j$. Для получения общего разброса выполнить усреденение разбросов по объектам.\n",
    "* Ошибка $L$: усреднить квадраты разностей предсказания и правильного ответа по всем выполненным предсказаниям для всех объектов.\n",
    "\n",
    "В результате должно получиться, что ошибка приблизительно равна сумме смещения и разброса!\n",
    "\n",
    "Алгоритм также вкратце описан по [ссылке](https://web.engr.oregonstate.edu/~tgd/classes/534/slides/part9.pdf) (слайды 19-21).\n",
    "\n",
    "__Задание 1. (3 балла)__\n",
    "\n",
    "Реализуйте описанный алгоритм. Обратите внимание, что если объект не вошел ни в одну из out-of-bag выборок, учитывать его в вычислении итоговых величин не нужно. Как обычно, разрешается использовать только один цикл - по выборкам (от 0 до num_runs-1)."
   ]
  },
  {
   "cell_type": "code",
   "execution_count": 172,
   "metadata": {},
   "outputs": [],
   "source": [
    "def compute_biase_variance(regressor, X, y, num_runs=1000):\n",
    "    \"\"\"\n",
    "    :param regressor: sklearn estimator with fit(...) and predict(...) method\n",
    "    :param X: numpy-array representing training set ob objects, shape [n_obj, n_feat]\n",
    "    :param y: numpy-array representing target for training objects, shape [n_obj]\n",
    "    :param num_runs: int, number of samples (s in the description of the algorithm)\n",
    "    \n",
    "    :returns: bias (float), variance (float), error (float) \n",
    "    each value is computed using bootstrap\n",
    "    \"\"\"\n",
    "    preds = np.empty((num_runs, X.shape[0]))\n",
    "    preds.fill(np.nan)\n",
    "    \n",
    "    all_idx = set(np.arange(X.shape[0]))\n",
    "    for i in range(num_runs):\n",
    "        idx = np.random.randint(0, X.shape[0], X.shape[0])\n",
    "        idx_t = list(all_idx.difference(idx))\n",
    "        a = regressor.fit(X[idx], y[idx])\n",
    "        pred = regressor.predict(X[idx_t])\n",
    "        preds[i, idx_t] = pred\n",
    "        \n",
    "    \n",
    "    #смещение\n",
    "    b = np.mean((np.nanmean(preds, axis = 0) - y)**2)\n",
    "    #разброс\n",
    "    v = np.mean(np.nanmean((preds - np.nanmean(preds, axis = 0))**2, axis = 0))\n",
    "    #ошибка\n",
    "    l = np.nanmean((preds - y)**2)\n",
    "    \n",
    "    return b, v, l, b+v-l\n",
    "    \n",
    "    ### your code here ╰( ͡° ͜ʖ ͡° )つ──☆*:・ﾟ"
   ]
  },
  {
   "cell_type": "markdown",
   "metadata": {},
   "source": [
    "**Задание 2. (1 балл)**\n",
    "\n",
    "Оцените смещение, разброс и ошибку для трех алгоритмов с гиперпараметрами по умолчанию: линейная регрессия, решающее дерево, случайный лес.\n"
   ]
  },
  {
   "cell_type": "code",
   "execution_count": 4,
   "metadata": {},
   "outputs": [],
   "source": [
    "from sklearn.tree import DecisionTreeRegressor\n",
    "from sklearn.linear_model import LinearRegression\n",
    "from sklearn.ensemble import RandomForestRegressor"
   ]
  },
  {
   "cell_type": "code",
   "execution_count": 177,
   "metadata": {},
   "outputs": [
    {
     "name": "stdout",
     "output_type": "stream",
     "text": [
      "bias =  10.294122240805095 , variance =  13.0149424219365 L =  23.387853344874493 , difference =  -0.07878868213289891\n"
     ]
    }
   ],
   "source": [
    "b, v, l, diff = compute_biase_variance(DecisionTreeRegressor(), X, y)\n",
    "print(\"bias = \", b, \", variance = \", v, 'L = ', l,', difference = ', diff)"
   ]
  },
  {
   "cell_type": "code",
   "execution_count": 178,
   "metadata": {},
   "outputs": [
    {
     "name": "stdout",
     "output_type": "stream",
     "text": [
      "bias =  23.745499732562234 , variance =  0.9350169396342697 L =  24.619825579620887 , difference =  0.06069109257561678\n"
     ]
    }
   ],
   "source": [
    "b, v, l, diff = compute_biase_variance(LinearRegression(), X, y)\n",
    "print(\"bias = \", b, \", variance = \", v, 'L = ', l,', difference = ', diff)"
   ]
  },
  {
   "cell_type": "code",
   "execution_count": 179,
   "metadata": {},
   "outputs": [
    {
     "name": "stdout",
     "output_type": "stream",
     "text": [
      "bias =  10.691715990898091 , variance =  3.42050607111665 L =  14.157095421336985 , difference =  -0.0448733593222439\n"
     ]
    }
   ],
   "source": [
    "b, v, l, diff = compute_biase_variance(RandomForestRegressor(), X, y)\n",
    "print(\"bias = \", b, \", variance = \", v, 'L = ', l,', difference = ', diff)"
   ]
  },
  {
   "cell_type": "markdown",
   "metadata": {},
   "source": [
    "Проанализируйте полученный результат. Согласуются ли полученные результаты с теми, что мы обсуждали на семинарах (с комментарием)?\n",
    "\n",
    "\n",
    "\n",
    "Дерево решений: небольшое смещение, большой разброс, суммарная ошибка большая\n",
    "\n",
    "Линейная регрессия: большое смещение, маленький разброс, суммарная ошибка большая\n",
    "\n",
    "Случайный лес: небольшое смещение, средний разброс, суммарная ошибка небольшая\n",
    "\n",
    "\n",
    "Небольшое смещение означает, что в среднем модель выдает правильный ответ, а небольшой разброс - что прогнозы модели мало отклоняются от среднего значения. Случайный лес обладет меньшей дисперсий по сравнению с деревом решений, так как усреднение по прогнозов непохожих деревьев, обученных на разных бутстраповских выборках, позволяет скорректировать и уменьшить дисперсии.\n",
    "\n",
    "Для случайного леса в теории дисперсия должна уменьшиться в n_estimators = 100 раз относительно одного решающего дерева, однако в эксперименте уменьшилась лишь в 3. Это может быть связано с особенностями выборки и ее небольшим размером, деревья леса могут получаться похожими, зависимыми.\n",
    "\n",
    "\n"
   ]
  },
  {
   "cell_type": "markdown",
   "metadata": {},
   "source": [
    "### Визуализация предсказаний базовых алгоритмов бэггинга\n",
    "\n",
    "В материалах лекций можно найти изображение, похожее на мишень - визуализация алгоритмов с разным смещением и разным разбросом. В центре \"мишени\" - правильный ответ, а \"попадания\" - предсказания алгоритмов, обученных по разным выборкам. Построим похожее изображение на наших данных для трех алгоритмов. Наши \"мишени\" будут одномерными, потому что мы решаем задачу одномерной регрессии.\n",
    "\n",
    "__Задание 3. (2 балла)__\n",
    "\n",
    "Реализуйте фукнцию plot_predictions. Она должна выполнять следующие действия:\n",
    "1. Случайно выбрать num_test_objects пар объект-целевая переменная из выборки X, y. Получится две выборки: маленькая X_test, y_test (выбранные тестовые объекты) и X_train, y_train (остальные объекты).\n",
    "1. Сгенерировать num_runs выборок методом бутстарапа из X_train, y_train. На каждой выборке обучить алгоритм regressor и сделать предсказания для X_test.\n",
    "1. Нарисовать scatter-график. По оси абсцисс - объекты тестовой выборки (номера от 0 до num_test_objects-1), по оси ординат - предсказания. В итоге получится num_test_objects столбиков с точками. Для каждого тестового объекта надо отметить одним цветом все предсказания для него, а также черным цветом отметить правильный ответ.\n",
    "1. Подпишите оси и название графика (аргумент title)."
   ]
  },
  {
   "cell_type": "code",
   "execution_count": 5,
   "metadata": {},
   "outputs": [],
   "source": [
    "import matplotlib.pyplot as plt"
   ]
  },
  {
   "cell_type": "code",
   "execution_count": 133,
   "metadata": {},
   "outputs": [],
   "source": [
    "def plot_predictions(regressor, X, y, num_runs=100, num_test_objects=10, title=\"\"):\n",
    "    \"\"\"\n",
    "    plot graphics described above\n",
    "    \"\"\"\n",
    "    idx = np.arange(X.shape[0])\n",
    "    np.random.shuffle(idx)\n",
    "    idx_test = idx[:num_test_objects]\n",
    "    \n",
    "    X_test = X[idx_test]\n",
    "    y_test = y[idx_test]\n",
    "\n",
    "    idx_train = idx[num_test_objects:]\n",
    "    \n",
    "    X_train = X[idx_train]\n",
    "    y_train = y[idx_train]\n",
    "    \n",
    "    preds = np.zeros((num_runs, X_test.shape[0]))\n",
    "    all_idx = set(np.arange(X_train.shape[0]))\n",
    "    for i in range(num_runs):\n",
    "        idx = np.random.randint(0, X_train.shape[0], X_train.shape[0])\n",
    "        idx_t = list(all_idx.difference(idx))\n",
    "        a = regressor.fit(X_train[idx], y_train[idx])\n",
    "        pred = regressor.predict(X_test)\n",
    "        preds[i] = pred\n",
    "    \n",
    "    \n",
    "    fig = plt.figure(figsize=(6, 4))\n",
    "    ax = plt.subplot(111)\n",
    "    ax.scatter(np.arange(num_test_objects), y_test, c='black')\n",
    "\n",
    "    for i in range(num_runs):\n",
    "        ax.scatter(np.arange(num_test_objects), preds[i], c='r')\n",
    "    ax.scatter(np.arange(num_test_objects), y_test, c='black')\n",
    "\n",
    "    ax.legend(['истинный ответ', 'предсказанный ответ'])\n",
    "    ax.set_ylabel('прогноз')\n",
    "    ax.set_xlabel('номер объекта')\n",
    "    ax.set_title(title)\n",
    "    ax.grid()\n",
    "\n",
    "\n",
    "    ### your code here ╰( ͡° ͜ʖ ͡° )つ──☆*:・ﾟ"
   ]
  },
  {
   "cell_type": "markdown",
   "metadata": {},
   "source": [
    "Нарисуйте графики для линейной регрессии, решающего дерева и случайного леса. Нарисуйте три графика в строчку (это можно сделать с помощью plt.subplot) с одинаковой осью ординат (это важно для понимания масштаба разброса у разных алгоритмов):"
   ]
  },
  {
   "cell_type": "code",
   "execution_count": 148,
   "metadata": {},
   "outputs": [],
   "source": [
    "def plot_predictions_str(regressor1,regressor2, regressor3, X, y, num_runs=100, num_test_objects=10, \n",
    "                         title1 =\"\", title2=\"\", title3=\"\"):\n",
    "    \"\"\"\n",
    "    plot graphics described above\n",
    "    \"\"\"\n",
    "    idx = np.arange(X.shape[0])\n",
    "    np.random.shuffle(idx)\n",
    "    idx_test = idx[:num_test_objects]\n",
    "    \n",
    "    X_test = X[idx_test]\n",
    "    y_test = y[idx_test]\n",
    "\n",
    "    idx_train = idx[num_test_objects:]\n",
    "    \n",
    "    X_train = X[idx_train]\n",
    "    y_train = y[idx_train]\n",
    "    \n",
    "    preds1 = np.zeros((num_runs, X_test.shape[0]))\n",
    "    preds2 = np.zeros((num_runs, X_test.shape[0]))\n",
    "    preds3 = np.zeros((num_runs, X_test.shape[0]))\n",
    "\n",
    "    all_idx = set(np.arange(X_train.shape[0]))\n",
    "    for i in range(num_runs):\n",
    "        idx = np.random.randint(0, X_train.shape[0], X_train.shape[0])\n",
    "        idx_t = list(all_idx.difference(idx))\n",
    "        a = regressor1.fit(X_train[idx], y_train[idx])\n",
    "        pred = regressor1.predict(X_test)\n",
    "        preds1[i] = pred\n",
    "        \n",
    "        a = regressor2.fit(X_train[idx], y_train[idx])\n",
    "        pred = regressor2.predict(X_test)\n",
    "        preds2[i] = pred\n",
    "        \n",
    "        a = regressor3.fit(X_train[idx], y_train[idx])\n",
    "        pred = regressor3.predict(X_test)\n",
    "        preds3[i] = pred\n",
    "    \n",
    "       \n",
    "    f, (ax1, ax2, ax3) = plt.subplots(ncols = 3, nrows =1, sharey = 'all', figsize=(15, 4)) \n",
    "    \n",
    "    ax1.scatter(np.arange(num_test_objects), y_test, c='black')\n",
    "    ax2.scatter(np.arange(num_test_objects), y_test, c='black')\n",
    "    ax3.scatter(np.arange(num_test_objects), y_test, c='black')\n",
    "\n",
    "\n",
    "    for i in range(num_runs):\n",
    "        ax1.scatter(np.arange(num_test_objects), preds1[i], c='r')\n",
    "        ax2.scatter(np.arange(num_test_objects), preds2[i], c='r')\n",
    "        ax3.scatter(np.arange(num_test_objects), preds3[i], c='r')\n",
    "    ax1.scatter(np.arange(num_test_objects), y_test, c='black')\n",
    "    ax2.scatter(np.arange(num_test_objects), y_test, c='black')\n",
    "    ax3.scatter(np.arange(num_test_objects), y_test, c='black')\n",
    "    \n",
    "    ax1.legend(['истинный ответ', 'предсказанный ответ'])\n",
    "    ax1.set_ylabel('прогноз')\n",
    "    ax1.set_xlabel('номер объекта')\n",
    "    ax1.set_title(title1)\n",
    "    ax1.grid()\n",
    "\n",
    "        \n",
    "    ax2.set_xlabel('номер объекта')\n",
    "    ax2.set_title(title2)\n",
    "    ax2.grid()\n",
    "        \n",
    "    ax3.set_xlabel('номер объекта')\n",
    "    ax3.set_title(title3)\n",
    "    ax3.grid()\n",
    "\n",
    "    ### your code here ╰( ͡° ͜ʖ ͡° )つ──☆*:・ﾟ"
   ]
  },
  {
   "cell_type": "code",
   "execution_count": 149,
   "metadata": {},
   "outputs": [
    {
     "data": {
      "image/png": "[encoded data removed]",
      "text/plain": [
       "<Figure size 1080x288 with 3 Axes>"
      ]
     },
     "metadata": {},
     "output_type": "display_data"
    }
   ],
   "source": [
    " plot_predictions_str(DecisionTreeRegressor(), LinearRegression(),RandomForestRegressor(),X, y,100, 10, \"Дерево решений\", \"Линейная регрессия\", \"Случайный лес\")"
   ]
  },
  {
   "cell_type": "markdown",
   "metadata": {},
   "source": [
    "Дерево решений: небольшое смещение, большой разброс\n",
    "\n",
    "\n",
    "Линейная регрессия: большое смещение, маленький разброс\n",
    "\n",
    "\n",
    "Случайный лес: небольшое смещение, средний разброс\n",
    "\n",
    "\n",
    "Визуализация совпадает с ожидаемыми значениями смещения и дисперсии, посчитанными выше."
   ]
  },
  {
   "cell_type": "markdown",
   "metadata": {},
   "source": [
    "### Часть 2. Градиентный бустинг"
   ]
  },
  {
   "cell_type": "markdown",
   "metadata": {},
   "source": [
    "**Задание 4 (1 балл)**\n",
    "\n",
    "Мы будем использовать данные из [соревнования](https://www.kaggle.com/t/b710e05dc0bd424995ca94da5b639869). \n",
    "* Загрузите таблицу application_train.csv;\n",
    "* Запишите в Y столбец с целевой переменной (TARGET);\n",
    "* Удалите ненужные столбцы (для этого воспользуйтесь описанием);\n",
    "* Определите тип столбцов и заполните пропуски - стратегия произвольная;\n",
    "* Разбейте выборку в соотношении 70:30 с random_state=0.\n",
    "\n",
    "Так как в данных имеется значительный дисбаланс классов, в качестве метрики качества везде будем использовать площадь под precision-recall кривой (AUC-PR)."
   ]
  },
  {
   "cell_type": "markdown",
   "metadata": {},
   "source": [
    "Для категориальных признаков сделан LabelEncoding, пропусти в вещественных параметрах заполнены средним, в целочисленных - самым частым значением."
   ]
  },
  {
   "cell_type": "code",
   "execution_count": 32,
   "metadata": {},
   "outputs": [],
   "source": [
    "from  sklearn.preprocessing import LabelEncoder"
   ]
  },
  {
   "cell_type": "code",
   "execution_count": 33,
   "metadata": {},
   "outputs": [],
   "source": [
    "md = LabelEncoder()"
   ]
  },
  {
   "cell_type": "code",
   "execution_count": 34,
   "metadata": {},
   "outputs": [],
   "source": [
    "data = pd.read_csv(\"application_train.csv\")"
   ]
  },
  {
   "cell_type": "code",
   "execution_count": 35,
   "metadata": {},
   "outputs": [
    {
     "data": {
      "text/plain": [
       "(215257, 122)"
      ]
     },
     "execution_count": 35,
     "metadata": {},
     "output_type": "execute_result"
    }
   ],
   "source": [
    "data.shape"
   ]
  },
  {
   "cell_type": "code",
   "execution_count": 36,
   "metadata": {},
   "outputs": [],
   "source": [
    "cat = ['CODE_GENDER', 'FLAG_OWN_CAR', 'FLAG_OWN_REALTY', 'NAME_CONTRACT_TYPE', 'NAME_TYPE_SUITE',\n",
    "       'NAME_EDUCATION_TYPE', 'NAME_FAMILY_STATUS', 'NAME_INCOME_TYPE','NAME_HOUSING_TYPE', 'OCCUPATION_TYPE', 'WEEKDAY_APPR_PROCESS_START', \n",
    "       'ORGANIZATION_TYPE', 'FONDKAPREMONT_MODE', 'HOUSETYPE_MODE', 'WALLSMATERIAL_MODE', 'EMERGENCYSTATE_MODE']"
   ]
  },
  {
   "cell_type": "code",
   "execution_count": 37,
   "metadata": {},
   "outputs": [],
   "source": [
    "for c in cat:\n",
    "    data[c] = data[c].apply(lambda s:str(s))\n",
    "    data[c] = md.fit_transform(data[c])"
   ]
  },
  {
   "cell_type": "code",
   "execution_count": 38,
   "metadata": {},
   "outputs": [],
   "source": [
    "y = data['TARGET']"
   ]
  },
  {
   "cell_type": "code",
   "execution_count": 39,
   "metadata": {},
   "outputs": [],
   "source": [
    "data.drop(['SK_ID_CURR', 'TARGET', 'FONDKAPREMONT_MODE', 'EMERGENCYSTATE_MODE', 'FLAG_CONT_MOBILE',\n",
    "          'REG_REGION_NOT_LIVE_REGION', 'REG_REGION_NOT_WORK_REGION', 'LIVE_REGION_NOT_WORK_REGION'], axis = 1, inplace = True)\n",
    "#Целочисленные признаки удалены, если по описанию они принимают почти для всех объектов одинаковые значения, или много пропусков"
   ]
  },
  {
   "cell_type": "code",
   "execution_count": 40,
   "metadata": {},
   "outputs": [
    {
     "name": "stdout",
     "output_type": "stream",
     "text": [
      "OWN_CAR_AGE\n",
      "YEARS_BUILD_AVG\n",
      "COMMONAREA_AVG\n",
      "FLOORSMIN_AVG\n",
      "LIVINGAPARTMENTS_AVG\n",
      "NONLIVINGAPARTMENTS_AVG\n",
      "YEARS_BUILD_MODE\n",
      "COMMONAREA_MODE\n",
      "FLOORSMIN_MODE\n",
      "LIVINGAPARTMENTS_MODE\n",
      "NONLIVINGAPARTMENTS_MODE\n",
      "YEARS_BUILD_MEDI\n",
      "COMMONAREA_MEDI\n",
      "FLOORSMIN_MEDI\n",
      "LIVINGAPARTMENTS_MEDI\n",
      "NONLIVINGAPARTMENTS_MEDI\n"
     ]
    }
   ],
   "source": [
    "for cols in data:\n",
    "    if data[cols].isna().sum() / data[cols].shape[0] * 100 >  60:\n",
    "        data.drop(cols, axis = 1, inplace = True)\n",
    "        print(cols)\n",
    "        \n",
    "#дополниетльно удалены все признаки, в которых больше 60% пропусков"
   ]
  },
  {
   "cell_type": "code",
   "execution_count": 41,
   "metadata": {},
   "outputs": [],
   "source": [
    "for cols in data:\n",
    "    if data[cols].dtype  == 'int64':\n",
    "        data[cols].fillna(data[cols].value_counts().index[0], inplace = True) #самое популярнное знач\n",
    "    else:\n",
    "        data[cols].fillna(data[cols].mean(), inplace = True) #среднее\n",
    "        \n",
    "#заполнили пропуски"
   ]
  },
  {
   "cell_type": "code",
   "execution_count": 42,
   "metadata": {},
   "outputs": [],
   "source": [
    "from sklearn.model_selection import train_test_split"
   ]
  },
  {
   "cell_type": "code",
   "execution_count": 43,
   "metadata": {},
   "outputs": [],
   "source": [
    "data_float = data.copy()"
   ]
  },
  {
   "cell_type": "code",
   "execution_count": 46,
   "metadata": {},
   "outputs": [
    {
     "data": {
      "text/plain": [
       "(215257, 49)"
      ]
     },
     "execution_count": 46,
     "metadata": {},
     "output_type": "execute_result"
    }
   ],
   "source": [
    "data_float.shape"
   ]
  },
  {
   "cell_type": "code",
   "execution_count": 47,
   "metadata": {},
   "outputs": [],
   "source": [
    "X_train, X_test, y_train, y_test= train_test_split(data_float, y, test_size = 0.3, random_state = 0)"
   ]
  },
  {
   "cell_type": "code",
   "execution_count": 48,
   "metadata": {},
   "outputs": [
    {
     "data": {
      "text/plain": [
       "((150679, 49), (150679,))"
      ]
     },
     "execution_count": 48,
     "metadata": {},
     "output_type": "execute_result"
    }
   ],
   "source": [
    "X_train.shape, y_train.shape"
   ]
  },
  {
   "cell_type": "markdown",
   "metadata": {},
   "source": [
    "**Задание 5 (1 балл)**"
   ]
  },
  {
   "cell_type": "markdown",
   "metadata": {},
   "source": [
    "Обучите реализации градиентного бустинга LightGBM и Catboost на вещественных признаках без подбора параметров. **Почему получилась заметная разница в качестве?**\n",
    "\n",
    "В этом и последующих экспериментах необходимо измерять время обучения моделей."
   ]
  },
  {
   "cell_type": "code",
   "execution_count": 49,
   "metadata": {
    "collapsed": true
   },
   "outputs": [
    {
     "name": "stdout",
     "output_type": "stream",
     "text": [
      "Requirement already satisfied: lightgbm in c:\\anaconda\\lib\\site-packages (2.3.1)\n",
      "Requirement already satisfied: scipy in c:\\anaconda\\lib\\site-packages (from lightgbm) (1.1.0)\n",
      "Requirement already satisfied: numpy in c:\\anaconda\\lib\\site-packages (from lightgbm) (1.17.4)\n",
      "Requirement already satisfied: scikit-learn in c:\\anaconda\\lib\\site-packages (from lightgbm) (0.19.1)\n",
      "Requirement already up-to-date: catboost==0.19.1 in c:\\users\\пользователь\\appdata\\roaming\\python\\python36\\site-packages (0.19.1)\n",
      "Requirement already satisfied, skipping upgrade: scipy in c:\\anaconda\\lib\\site-packages (from catboost==0.19.1) (1.1.0)\n",
      "Requirement already satisfied, skipping upgrade: six in c:\\anaconda\\lib\\site-packages (from catboost==0.19.1) (1.11.0)\n",
      "Requirement already satisfied, skipping upgrade: graphviz in c:\\users\\пользователь\\appdata\\roaming\\python\\python36\\site-packages (from catboost==0.19.1) (0.13.2)\n",
      "Requirement already satisfied, skipping upgrade: numpy>=1.16.0 in c:\\anaconda\\lib\\site-packages (from catboost==0.19.1) (1.17.4)\n",
      "Requirement already satisfied, skipping upgrade: matplotlib in c:\\anaconda\\lib\\site-packages (from catboost==0.19.1) (2.2.2)\n",
      "Requirement already satisfied, skipping upgrade: plotly in c:\\users\\пользователь\\appdata\\roaming\\python\\python36\\site-packages (from catboost==0.19.1) (4.4.1)\n",
      "Requirement already satisfied, skipping upgrade: pandas>=0.24.0 in c:\\users\\пользователь\\appdata\\roaming\\python\\python36\\site-packages (from catboost==0.19.1) (0.25.3)\n",
      "Requirement already satisfied, skipping upgrade: cycler>=0.10 in c:\\anaconda\\lib\\site-packages (from matplotlib->catboost==0.19.1) (0.10.0)\n",
      "Requirement already satisfied, skipping upgrade: pyparsing!=2.0.4,!=2.1.2,!=2.1.6,>=2.0.1 in c:\\anaconda\\lib\\site-packages (from matplotlib->catboost==0.19.1) (2.2.0)\n",
      "Requirement already satisfied, skipping upgrade: python-dateutil>=2.1 in c:\\anaconda\\lib\\site-packages (from matplotlib->catboost==0.19.1) (2.7.3)\n",
      "Requirement already satisfied, skipping upgrade: pytz in c:\\anaconda\\lib\\site-packages (from matplotlib->catboost==0.19.1) (2018.4)\n",
      "Requirement already satisfied, skipping upgrade: kiwisolver>=1.0.1 in c:\\anaconda\\lib\\site-packages (from matplotlib->catboost==0.19.1) (1.0.1)\n",
      "Requirement already satisfied, skipping upgrade: retrying>=1.3.3 in c:\\users\\пользователь\\appdata\\roaming\\python\\python36\\site-packages (from plotly->catboost==0.19.1) (1.3.3)\n",
      "Requirement already satisfied, skipping upgrade: setuptools in c:\\anaconda\\lib\\site-packages (from kiwisolver>=1.0.1->matplotlib->catboost==0.19.1) (39.1.0)\n"
     ]
    }
   ],
   "source": [
    "! pip install lightgbm\n",
    "! pip install --upgrade catboost==0.19.1"
   ]
  },
  {
   "cell_type": "code",
   "execution_count": 23,
   "metadata": {},
   "outputs": [],
   "source": [
    "from sklearn.metrics import precision_recall_curve, auc\n",
    "from time import time\n",
    "\n",
    "def time_auc_score(clf, X_train, y_train, X_test, y_test):\n",
    "    start = time()\n",
    "    clf.fit(X_train, y_train)\n",
    "    end = time()\n",
    "    print(\"time = \", end - start)\n",
    "    pred = clf.predict(X_test)\n",
    "    precision, recall, _ = precision_recall_curve(y_test, pred)\n",
    "    return (auc(recall, precision))"
   ]
  },
  {
   "cell_type": "code",
   "execution_count": 24,
   "metadata": {},
   "outputs": [
    {
     "name": "stdout",
     "output_type": "stream",
     "text": [
      "time =  73.23544549942017\n"
     ]
    },
    {
     "data": {
      "text/plain": [
       "0.33951783824327997"
      ]
     },
     "execution_count": 24,
     "metadata": {},
     "output_type": "execute_result"
    }
   ],
   "source": [
    "from catboost import CatBoostClassifier \n",
    "clf = CatBoostClassifier(verbose = 0)\n",
    "time_auc_score(clf, X_train, y_train, X_test, y_test)"
   ]
  },
  {
   "cell_type": "code",
   "execution_count": 25,
   "metadata": {},
   "outputs": [
    {
     "name": "stdout",
     "output_type": "stream",
     "text": [
      "time =  5.819442987442017\n"
     ]
    },
    {
     "data": {
      "text/plain": [
       "0.37637560010155735"
      ]
     },
     "execution_count": 25,
     "metadata": {},
     "output_type": "execute_result"
    }
   ],
   "source": [
    "from lightgbm import LGBMClassifier\n",
    "from time import time\n",
    "clf = LGBMClassifier()\n",
    "time_auc_score(clf, X_train, y_train, X_test, y_test)"
   ]
  },
  {
   "cell_type": "markdown",
   "metadata": {},
   "source": [
    "Заметной разницы в качестве не получилось. Без подбора параметров точность классификации моделями хуже, чем у случайного классификатора. Разница во времени работы обусловлена реализацией алгоритмов: LGBM сильно оптимизирует вычислительные затраты через сокращение количества объектов и признаков выборки."
   ]
  },
  {
   "cell_type": "markdown",
   "metadata": {},
   "source": [
    "**Your answer here:**"
   ]
  },
  {
   "cell_type": "markdown",
   "metadata": {},
   "source": [
    "__Задание 6. (2 балла)__\n",
    "\n",
    "Подберите оптимальные с точки зрения метрики качества параметры алгоритмов, изменяя:\n",
    "\n",
    "* глубину деревьев;\n",
    "* количество деревьев;\n",
    "* темп обучения;\n",
    "* оптимизируемый функционал.\n",
    "\n",
    "Масштаб значений предлагается посмотреть в [семинаре](https://github.com/esokolov/ml-course-hse/blob/master/2019-fall/seminars/sem10-gbm.ipynb) про библиотеки.\n",
    "\n",
    "**Проанализируйте соотношения глубины и количества деревьев в зависимости от алгоритма.** \n",
    "\n",
    "**Если на перебор гиперпараметров уходит много времени, то переберите значениях каких-нибудь 1-2 гиперпараметров, а не всех предложенных 4**"
   ]
  },
  {
   "cell_type": "code",
   "execution_count": 8,
   "metadata": {},
   "outputs": [],
   "source": [
    "from sklearn.model_selection import GridSearchCV, KFold"
   ]
  },
  {
   "cell_type": "code",
   "execution_count": 38,
   "metadata": {},
   "outputs": [],
   "source": [
    "n_trees = [1, 5, 10, 100, 200, 300, 400, 500, 600, 700]\n",
    "depth = list(range(1, 12, 2))\n",
    "depth.append(None)\n",
    "learning_rate = np.logspace(-5, 0, 10)\n",
    "learning_rate = list(learning_rate)\n",
    "loss = ['Logloss', 'CrossEntropy']"
   ]
  },
  {
   "cell_type": "code",
   "execution_count": 59,
   "metadata": {},
   "outputs": [],
   "source": [
    "from sklearn.metrics import fbeta_score, make_scorer\n",
    "\n",
    "def my_custom_loss_func(y_true, y_pred):\n",
    "    precision, recall, _ = precision_recall_curve(y_true, y_pred)\n",
    "    return auc(recall, precision)\n",
    "\n",
    "score = make_scorer(my_custom_loss_func, greater_is_better=True)"
   ]
  },
  {
   "cell_type": "code",
   "execution_count": 74,
   "metadata": {},
   "outputs": [],
   "source": [
    "def search_params(clf, param, X_train, y_train):\n",
    "    kf = KFold(n_splits=5)\n",
    "    cv = kf.split(X_train)\n",
    "    search = GridSearchCV(clf, param, cv = cv, scoring = score)\n",
    "    search.fit(X_train, y_train)  \n",
    "    print(search.best_params_)\n",
    "    return search.best_params_"
   ]
  },
  {
   "cell_type": "code",
   "execution_count": 66,
   "metadata": {},
   "outputs": [
    {
     "name": "stdout",
     "output_type": "stream",
     "text": [
      "{'n_estimators': 1}\n",
      "time =  1.0432116985321045\n"
     ]
    },
    {
     "data": {
      "text/plain": [
       "0.5398897457338413"
      ]
     },
     "execution_count": 66,
     "metadata": {},
     "output_type": "execute_result"
    }
   ],
   "source": [
    "param = {'n_estimators':n_trees}\n",
    "c = search_params(CatBoostClassifier(verbose = 0), param, X_train, y_train)\n",
    "time_auc_score(CatBoostClassifier(verbose = 0, n_estimators = c['n_estimators']), X_train, y_train, X_test, y_test)"
   ]
  },
  {
   "cell_type": "code",
   "execution_count": 76,
   "metadata": {},
   "outputs": [
    {
     "name": "stdout",
     "output_type": "stream",
     "text": [
      "{'max_depth': 1}\n",
      "time =  0.6642646789550781\n"
     ]
    },
    {
     "data": {
      "text/plain": [
       "0.5398897457338413"
      ]
     },
     "execution_count": 76,
     "metadata": {},
     "output_type": "execute_result"
    }
   ],
   "source": [
    "param = {'max_depth':depth}\n",
    "\n",
    "c = search_params(CatBoostClassifier(verbose = 0, n_estimators = 1), param, X_train, y_train)\n",
    "time_auc_score(CatBoostClassifier(verbose = 0, n_estimators = 1, max_depth = c['max_depth']), X_train, y_train, X_test, y_test)"
   ]
  },
  {
   "cell_type": "code",
   "execution_count": 77,
   "metadata": {},
   "outputs": [
    {
     "name": "stdout",
     "output_type": "stream",
     "text": [
      "{'loss_function': 'Logloss'}\n",
      "time =  0.5383603572845459\n"
     ]
    },
    {
     "data": {
      "text/plain": [
       "0.5398897457338413"
      ]
     },
     "execution_count": 77,
     "metadata": {},
     "output_type": "execute_result"
    }
   ],
   "source": [
    "param = {'loss_function':loss}\n",
    "\n",
    "c = search_params(CatBoostClassifier(verbose = 0, n_estimators = 1, max_depth = 1), param, X_train, y_train)\n",
    "time_auc_score(CatBoostClassifier(verbose = 0, n_estimators = 1, max_depth = 1, loss_function = c['loss_function']),\n",
    "               X_train, y_train, X_test, y_test)"
   ]
  },
  {
   "cell_type": "code",
   "execution_count": 79,
   "metadata": {},
   "outputs": [
    {
     "name": "stdout",
     "output_type": "stream",
     "text": [
      "{'learning_rate': 1e-05}\n",
      "time =  0.6779425144195557\n"
     ]
    },
    {
     "data": {
      "text/plain": [
       "0.5398897457338413"
      ]
     },
     "execution_count": 79,
     "metadata": {},
     "output_type": "execute_result"
    }
   ],
   "source": [
    "param = {'learning_rate':learning_rate}\n",
    "c = search_params(CatBoostClassifier(verbose = 0, n_estimators = 1, max_depth = 1), param, X_train, y_train)\n",
    "time_auc_score(CatBoostClassifier(verbose = 0, n_estimators = 1, max_depth = 1, learning_rate = c['learning_rate']),\n",
    "               X_train, y_train, X_test, y_test)"
   ]
  },
  {
   "cell_type": "markdown",
   "metadata": {},
   "source": [
    "Оптимальные гиперпараметры для CatBoost: learning rate = $10^{-5}$, n_estimators = 1, max_depth = 1, loss_function = LogLoss.\n",
    "С ними AUC = 0.54."
   ]
  },
  {
   "cell_type": "code",
   "execution_count": 80,
   "metadata": {},
   "outputs": [
    {
     "name": "stdout",
     "output_type": "stream",
     "text": [
      "{'n_estimators': 1}\n",
      "time =  1.1860969066619873\n"
     ]
    },
    {
     "data": {
      "text/plain": [
       "0.5398897457338413"
      ]
     },
     "execution_count": 80,
     "metadata": {},
     "output_type": "execute_result"
    }
   ],
   "source": [
    "param = {'n_estimators':n_trees}\n",
    "c = search_params(LGBMClassifier(verbose = 0), param, X_train, y_train)\n",
    "time_auc_score(LGBMClassifier(verbose = 0, n_estimators = c['n_estimators']), X_train, y_train, X_test, y_test)"
   ]
  },
  {
   "cell_type": "code",
   "execution_count": 81,
   "metadata": {},
   "outputs": [
    {
     "name": "stdout",
     "output_type": "stream",
     "text": [
      "{'max_depth': 1}\n",
      "time =  1.1226377487182617\n"
     ]
    },
    {
     "data": {
      "text/plain": [
       "0.5398897457338413"
      ]
     },
     "execution_count": 81,
     "metadata": {},
     "output_type": "execute_result"
    }
   ],
   "source": [
    "param = {'max_depth':depth}\n",
    "\n",
    "c = search_params(LGBMClassifier(verbose = 0, n_estimators = 1), param, X_train, y_train)\n",
    "time_auc_score(LGBMClassifier(verbose = 0, n_estimators = 1, max_depth = c['max_depth']), X_train, y_train, X_test, y_test)"
   ]
  },
  {
   "cell_type": "code",
   "execution_count": 82,
   "metadata": {},
   "outputs": [
    {
     "name": "stdout",
     "output_type": "stream",
     "text": [
      "{'loss_function': 'Logloss'}\n",
      "time =  1.0869359970092773\n"
     ]
    },
    {
     "data": {
      "text/plain": [
       "0.5398897457338413"
      ]
     },
     "execution_count": 82,
     "metadata": {},
     "output_type": "execute_result"
    }
   ],
   "source": [
    "param = {'loss_function':loss}\n",
    "\n",
    "c = search_params(LGBMClassifier(verbose = 0, n_estimators = 1, max_depth = 1), param, X_train, y_train)\n",
    "time_auc_score(LGBMClassifier(verbose = 0, n_estimators = 1, max_depth = 1, loss_function = c['loss_function']),\n",
    "               X_train, y_train, X_test, y_test)"
   ]
  },
  {
   "cell_type": "code",
   "execution_count": 83,
   "metadata": {},
   "outputs": [
    {
     "name": "stdout",
     "output_type": "stream",
     "text": [
      "{'learning_rate': 1e-05}\n",
      "time =  1.0955135822296143\n"
     ]
    },
    {
     "data": {
      "text/plain": [
       "0.5398897457338413"
      ]
     },
     "execution_count": 83,
     "metadata": {},
     "output_type": "execute_result"
    }
   ],
   "source": [
    "param = {'learning_rate':learning_rate}\n",
    "c = search_params(LGBMClassifier(verbose = 0, n_estimators = 1, max_depth = 1), param, X_train, y_train)\n",
    "time_auc_score(LGBMClassifier(verbose = 0, n_estimators = 1, max_depth = 1, learning_rate = c['learning_rate']),\n",
    "               X_train, y_train, X_test, y_test)"
   ]
  },
  {
   "cell_type": "markdown",
   "metadata": {},
   "source": [
    "Оптимальные гиперпараметры для LightGBM: learning rate = $10^{-5}$, n_estimators = 1, max_depth = 1, loss_function = LogLoss.\n",
    "С ними AUC = 0.54. Подобранные гипермапараметры и лучшее качество совпадает с соответствующими параметрами для Catboost, однако силу особенностей реализации алгоритм LightGBM работает значительно быстрее."
   ]
  }
 ],
 "metadata": {
  "kernelspec": {
   "display_name": "Python 3",
   "language": "python",
   "name": "python3"
  },
  "language_info": {
   "codemirror_mode": {
    "name": "ipython",
    "version": 3
   },
   "file_extension": ".py",
   "mimetype": "text/x-python",
   "name": "python",
   "nbconvert_exporter": "python",
   "pygments_lexer": "ipython3",
   "version": "3.6.5"
  }
 },
 "nbformat": 4,
 "nbformat_minor": 2
}
