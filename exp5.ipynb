{
 "cells": [
  {
   "cell_type": "code",
   "execution_count": 1,
   "metadata": {},
   "outputs": [],
   "source": [
    "import numpy as np\n",
    "from sklearn.neighbors import NearestNeighbors\n",
    "from sklearn import datasets\n",
    "from sklearn.datasets import fetch_mldata\n",
    "import time\n",
    "%matplotlib inline  \n",
    "import matplotlib.pyplot as plt\n",
    "import scipy.ndimage as ndimage\n",
    "import skimage.io as io\n",
    "import skimage.transform as transform\n",
    "from sklearn import metrics\n",
    "from skimage import filters\n",
    "from skimage.transform import SimilarityTransform\n",
    "import random\n",
    "\n",
    "#import "
   ]
  },
  {
   "cell_type": "code",
   "execution_count": 2,
   "metadata": {},
   "outputs": [],
   "source": [
    "def euclidean_distance(X, Y):\n",
    "    return np.sqrt(np.abs((X ** 2).sum(axis=1).reshape(-1, 1) +\n",
    "                   (Y ** 2).sum(axis=1) - 2 * np.dot(X, Y.T)))\n",
    "\n",
    "def cosine_distance(X, Y):\n",
    "    return 1 - np.dot(X, Y.T) / np.sqrt((X\n",
    "            ** 2).sum(axis=1)).reshape(-1, 1) / np.sqrt((Y\n",
    "            ** 2).sum(axis=1))"
   ]
  },
  {
   "cell_type": "code",
   "execution_count": 3,
   "metadata": {},
   "outputs": [],
   "source": [
    "class KNNClassifier:\n",
    "    def __init__(self, k, strategy, metric,\n",
    "                 weights, test_block_size):\n",
    "        self.k = k\n",
    "        self.strategy = strategy\n",
    "        self.metric = metric\n",
    "        self.weights = weights\n",
    "        self.test_block_size = test_block_size\n",
    "        if self.strategy != 'my_own':\n",
    "            self.knn_classifier = NearestNeighbors(n_neighbors = self.k, \n",
    "                                                   algorithm=self.strategy, \n",
    "                                                   metric = self.metric)\n",
    "        self.eps = 1e-5\n",
    "    \n",
    "    def fit(self, X, y):\n",
    "        self.y = np.copy(y).astype(int)\n",
    "        if self.strategy != 'my_own':\n",
    "            self.knn_classifier.fit(X, y)\n",
    "        else:\n",
    "            self.X = np.copy(X).astype(float)\n",
    "\n",
    "            \n",
    "    def find_kneighbors(self, X, return_distance):\n",
    "        test = np.copy(X)\n",
    "        if self.strategy != 'my_own':\n",
    "            dist, idx = self.knn_classifier.kneighbors(test, n_neighbors = self.k)\n",
    "            dist = dist.reshape(-1, self.k)\n",
    "            idx = idx.reshape(-1, self.k)\n",
    "        else:\n",
    "            if self.metric == 'euclidean':\n",
    "                d = euclidean_distance(test, self.X)\n",
    "            else:\n",
    "                d = cosine_distance(test, self.X)\n",
    "            print(8)\n",
    "            idx = np.argsort(dist, axis = 1)[:, :self.k]\n",
    "            dist = a = [a[i][j] for i, j in enumerate(idx)]\n",
    "            print(10)\n",
    "        if return_distance:\n",
    "            return (dist, idx.astype(int))\n",
    "        else:\n",
    "            return idx.astype(int)\n",
    "    \n",
    "    def predict(self, X):\n",
    "        self.eps = 1e-5\n",
    "        pred = np.zeros(0).astype(int)\n",
    "        for i in range(0, X.shape[0], self.test_block_size):\n",
    "            test = np.copy(X[i : i + self.test_block_size])\n",
    "            \n",
    "            if not self.weights:\n",
    "                idx = self.find_kneighbors(test, return_distance = False)\n",
    "                classes = self.y[idx]\n",
    "                p = np.array([np.bincount(classes[i]).argmax() for i in range(classes.shape[0])]).astype(int)\n",
    "                pred = np.hstack((pred, p))\n",
    "            else:\n",
    "                dist, idx = self.find_kneighbors(test, return_distance = True)\n",
    "                w = 1 / (dist + self.eps)\n",
    "                classes = self.y[idx]\n",
    "                p = np.array([np.bincount(classes[i], w[i]).argmax() for i in range(classes.shape[0])]).astype(int)\n",
    "                pred = np.hstack((pred, p))\n",
    "            \n",
    "        return pred     \n",
    "    \n",
    "    \n",
    "    \n"
   ]
  },
  {
   "cell_type": "code",
   "execution_count": 4,
   "metadata": {},
   "outputs": [],
   "source": [
    "def kfold(n, n_folds):\n",
    "    folds = []\n",
    "    size = n // n_folds\n",
    "    pos_valid = 0 \n",
    "    for i in range(n_folds):\n",
    "        if (i >= n % n_folds):\n",
    "            valid = np.arange(pos_valid, pos_valid + size)\n",
    "            train = np.arange(0, pos_valid)\n",
    "            train = np.hstack((train, np.arange(pos_valid + size, n)))\n",
    "            pos_valid = pos_valid + size\n",
    "        else:\n",
    "            valid = np.arange(pos_valid, pos_valid + size + 1)\n",
    "            train = np.arange(0, pos_valid)\n",
    "            train = np.hstack((train, np.arange(pos_valid + size + 1, n)))\n",
    "            pos_valid = pos_valid+ size + 1\n",
    "        folds.append((train, valid))\n",
    "    return folds\n",
    "\n",
    "def knn_cross_val_score(X, y, k_list, score, cv, **kwargs):\n",
    "    if cv == None:\n",
    "            cv = kfold(X.shape[0], 3)\n",
    "    if score == 'accuracy':\n",
    "        m = KNNClassifier(max(k_list), **kwargs)\n",
    "        sc = {}\n",
    "        \n",
    "        for fold in cv:\n",
    "            train = fold[0]\n",
    "            valid = fold[1]\n",
    "            x_val = X[valid]\n",
    "            y_val = y[valid].astype(int)\n",
    "            y_train = y[train].astype(int)\n",
    "\n",
    "            m.fit(X[train], y_train)\n",
    "            if not kwargs['weights']:\n",
    "                idx = m.find_kneighbors(x_val, return_distance = False)\n",
    "                w = np.ones((idx.shape[0], idx.shape[1]))\n",
    "            else:\n",
    "                dist, idx = m.find_kneighbors(x_val, return_distance = True)\n",
    "                w = 1 / (dist + 1e-5)\n",
    "\n",
    "            classes = y_train[idx]\n",
    "            for k in k_list:\n",
    "                p = np.array([np.bincount(classes[i][:k], w[i][:k]).argmax()\n",
    "                             for i in range(classes.shape[0])]).astype(int)\n",
    "                if k in sc:\n",
    "                    sc[k] = np.hstack((sc[k], np.array(np.mean(y_val == p))))\n",
    "                else:\n",
    "                    sc[k] = np.array([np.mean(y_val == p)])\n",
    "        return sc\n",
    "    elif score == 'clock':\n",
    "        m = KNNClassifier(max(k_list), **kwargs)\n",
    "        t1 = time.perf_counter()\n",
    "        for i, fold in enumerate(cv):\n",
    "            train = fold[0]\n",
    "            valid = fold[1]\n",
    "            x_val = X[valid]\n",
    "            y_train = y[train].astype(int)\n",
    "            m.fit(X[train], y[train])\n",
    "            p = m.predict(x_val)\n",
    "        t2 = time.perf_counter()\n",
    "        return t2 - t1"
   ]
  },
  {
   "cell_type": "code",
   "execution_count": 5,
   "metadata": {},
   "outputs": [],
   "source": [
    "mnist = fetch_mldata('MNIST original')\n",
    "X_train = mnist.data[:10000]\n",
    "y_train = mnist.target[:10000]\n",
    "X_test = mnist.data[60000:]\n",
    "y_test = mnist.target[60000:]"
   ]
  },
  {
   "cell_type": "markdown",
   "metadata": {},
   "source": [
    "Ошибки связаны с изменением наклона, слиянием частей цифры, недорисованными линиями"
   ]
  },
  {
   "cell_type": "code",
   "execution_count": 6,
   "metadata": {},
   "outputs": [],
   "source": [
    "changes = {'rotate', 'shift_lr', 'shift_ud', 'gauss'}\n",
    "rot = [0, 5, 10, 15]\n",
    "shift = [0, 1, 2, 3]\n",
    "gauss = [0, 0.5, 1, 1.5]\n"
   ]
  },
  {
   "cell_type": "code",
   "execution_count": 7,
   "metadata": {},
   "outputs": [],
   "source": [
    "def change_im(X_train, name, v):\n",
    "    X = np.copy(X_train)\n",
    "    \n",
    "    if name == 'gauss':\n",
    "        res = np.empty((X.shape[0] * 2, X.shape[1]))\n",
    "        res[0:X.shape[0]] = np.copy(X_train)\n",
    "        pos = X.shape[0]\n",
    "        for im in X:\n",
    "            res[pos] = filters.gaussian(im.reshape(-1, 28), v).reshape(1, -1)\n",
    "            pos += 1\n",
    "            \n",
    "    if name == 'rotate':\n",
    "        res = np.empty((X.shape[0] * 3, X.shape[1]))\n",
    "        res[0:X.shape[0]] = np.copy(X_train)\n",
    "        pos = X.shape[0]\n",
    "        for im in X:\n",
    "            res[pos] = transform.rotate(im.reshape(-1, 28), v).reshape(1, -1)\n",
    "            pos += 1     \n",
    "        for im in X:\n",
    "            res[pos] = transform.rotate(im.reshape(-1, 28), -v).reshape(1, -1)\n",
    "            pos += 1  \n",
    "            \n",
    "    if name == 'shift':\n",
    "        res = np.empty((X.shape[0] * 5, X.shape[1]))\n",
    "        res[0:X.shape[0]] = np.copy(X_train)\n",
    "        pos = X.shape[0]\n",
    "        for im in X:\n",
    "            tform = SimilarityTransform(translation=(0, v))\n",
    "            res[pos] = transform.warp(im.reshape(-1, 28), tform).reshape(1, -1)\n",
    "            pos += 1  \n",
    "        for im in X:\n",
    "            tform = SimilarityTransform(translation=(0, -v))\n",
    "            res[pos] = transform.warp(im.reshape(-1, 28), tform).reshape(1, -1)\n",
    "            pos += 1  \n",
    "        for im in X:\n",
    "            tform = SimilarityTransform(translation=(v, 0))\n",
    "            res[pos] = transform.warp(im.reshape(-1, 28), tform).reshape(1, -1)\n",
    "            pos += 1  \n",
    "        for im in X:\n",
    "            tform = SimilarityTransform(translation=(-v, 0))\n",
    "            res[pos] = transform.warp(im.reshape(-1, 28), tform).reshape(1, -1)\n",
    "            pos += 1  \n",
    "           \n",
    "    return res\n",
    "            \n",
    "        "
   ]
  },
  {
   "cell_type": "code",
   "execution_count": 8,
   "metadata": {},
   "outputs": [],
   "source": [
    "def cross_val(X_t, y_t, k=4, **kwargs):\n",
    "    \n",
    "    iters = 100\n",
    "    size = X_t.shape[0] * 2 // iters // 3 \n",
    "    \n",
    "    cv = kfold(X_t.shape[0], 3)\n",
    "    m = KNNClassifier(k, **kwargs)\n",
    "    \n",
    "    sc = []\n",
    "    pred = []\n",
    "\n",
    "    for fold in cv:\n",
    "        distance = np.empty((X_t.shape[0] // 3, k * iters))\n",
    "        classes = np.empty((X_t.shape[0] // 3, k * iters))        \n",
    "            \n",
    "        train = fold[0]\n",
    "        valid = fold[1]\n",
    "        x_val = X_t[valid]\n",
    "        y_val = y_t[valid].astype(int)\n",
    "        y_train = y_t[train].astype(int)\n",
    "        x_train = X_t[train]\n",
    "        \n",
    "    \n",
    "        for i in range(iters):\n",
    "            X = x_train[i * size: i * size + size, :]\n",
    "            y = y_train[i * size: i * size + size]\n",
    "            m.fit(X, y)\n",
    "            dist, idx = m.find_kneighbors(x_val, return_distance=True)\n",
    "            distance[:, i * k : i * k + k] = dist\n",
    "            classes[:, i * k : i * k + k] = y[idx]\n",
    "        \n",
    "        d1 = np.copy(distance)\n",
    "        dist = (np.sort(distance, axis=1))[:, :k]\n",
    "        cl = (np.argsort(d1, axis = 1))[:, :k]\n",
    "        classes = np.array([classes[i][j] for i, j  in enumerate(cl)]).astype(int)\n",
    "\n",
    "        classes = classes[:, :k]\n",
    "        w = 1/(dist + 1e-5)\n",
    "            \n",
    "            \n",
    "        p = np.array([np.bincount(classes[i], w[i]).argmax()\n",
    "                     for i in range(classes.shape[0])]).astype(int)\n",
    "\n",
    "        sc.append(([np.mean(y_val == p)]))\n",
    "        pred.append(p)\n",
    "    return sc, pred"
   ]
  },
  {
   "cell_type": "code",
   "execution_count": 13,
   "metadata": {},
   "outputs": [],
   "source": [
    "def cross_val_pred(X_t, y_t, x_val, y_val, k=4, **kwargs):\n",
    "    \n",
    "    iters = 100\n",
    "    size = X_t.shape[0] // iters\n",
    "    \n",
    "    m = KNNClassifier(k, **kwargs)\n",
    "\n",
    "    distance = np.empty((x_val.shape[0], k * iters))\n",
    "    classes = np.empty((x_val.shape[0], k * iters))        \n",
    "\n",
    "    y_train = y_t.astype(int)\n",
    "    x_train = X_t\n",
    "\n",
    "    for i in range(iters):\n",
    "        X = x_train[i * size: i * size + size, :]\n",
    "        y = y_train[i * size: i * size + size]\n",
    "        m.fit(X, y)\n",
    "        dist, idx = m.find_kneighbors(x_val, return_distance=True)\n",
    "        distance[:, i * k : i * k + k] = dist\n",
    "        classes[:, i * k : i * k + k] = y[idx]\n",
    "\n",
    "    d1 = np.copy(distance)\n",
    "    dist = (np.sort(distance, axis=1))[:, :k]\n",
    "    cl = (np.argsort(d1, axis = 1))[:, :k]\n",
    "    classes = np.array([classes[i][j] for i, j  in enumerate(cl)]).astype(int)\n",
    "\n",
    "    classes = classes[:, :k]\n",
    "    w = 1/(dist + 1e-5)\n",
    "\n",
    "    p = np.array([np.bincount(classes[i], w[i]).argmax()\n",
    "                 for i in range(classes.shape[0])]).astype(int)\n",
    "\n",
    "    return np.mean(y_val == p), p"
   ]
  },
  {
   "cell_type": "code",
   "execution_count": 10,
   "metadata": {},
   "outputs": [],
   "source": [
    "mnist = fetch_mldata('MNIST original')\n",
    "X_train = mnist.data[:60000]\n",
    "y_train = mnist.target[:60000]\n",
    "\n",
    "X = np.hstack((X_train, y_train.reshape(-1, 1)))\n",
    "np.random.shuffle(X)\n",
    "X_train = X[:, :784]\n",
    "y_train = X[:, 784:]\n",
    "\n",
    "X_test = mnist.data[60000:]\n",
    "y_test = mnist.target[60000:]\n",
    "y_train = y_train.reshape(60000,)\n",
    "\n"
   ]
  },
  {
   "cell_type": "code",
   "execution_count": 13,
   "metadata": {},
   "outputs": [
    {
     "name": "stdout",
     "output_type": "stream",
     "text": [
      "1\n",
      "0.9761\n",
      "1\n",
      "0.97675\n",
      "1\n",
      "0.97595\n",
      "1\n",
      "0.97975\n",
      "1\n",
      "0.98055\n",
      "1\n",
      "0.97985\n",
      "1\n",
      "0.9778\n",
      "1\n",
      "0.97955\n",
      "1\n",
      "0.9785\n"
     ]
    },
    {
     "data": {
      "text/plain": [
       "[0.9762666666666666, 0.98005, 0.9786166666666666]"
      ]
     },
     "execution_count": 13,
     "metadata": {},
     "output_type": "execute_result"
    }
   ],
   "source": [
    "score = []\n",
    "pred = []\n",
    "\n",
    "cv = kfold(60000, 3)\n",
    "\n",
    "for g in gauss[1:]:\n",
    "    sc = []\n",
    "    for fold in cv:\n",
    "        X_t = X_train[fold[0]]\n",
    "        y_t = y_train[fold[0]]\n",
    "        y = np.copy(y_t)\n",
    "        for i in range(1):\n",
    "            y = np.concatenate((y, y_t))\n",
    "        X = change_im(X_t, 'gauss', g)\n",
    "        print(1)\n",
    "        res, p = cross_val_pred(X, y, X_train[fold[1]],y_train[fold[1]],  k = 4, strategy = 'brute', metric = 'cosine',  \n",
    "                    weights = True, test_block_size = 1024)\n",
    "        print(res)\n",
    "        sc.append(res)\n",
    "    score.append(np.mean(sc))\n",
    "score"
   ]
  },
  {
   "cell_type": "code",
   "execution_count": 14,
   "metadata": {},
   "outputs": [
    {
     "name": "stdout",
     "output_type": "stream",
     "text": [
      "1\n",
      "0.98025\n",
      "1\n",
      "0.9811\n",
      "1\n",
      "0.9812\n",
      "1\n",
      "0.9808\n",
      "1\n",
      "0.9819\n",
      "1\n",
      "0.98045\n",
      "1\n",
      "0.97815\n",
      "1\n",
      "0.98085\n",
      "1\n",
      "0.9779\n"
     ]
    },
    {
     "data": {
      "text/plain": [
       "[0.9808499999999999, 0.9810500000000001, 0.9789666666666667]"
      ]
     },
     "execution_count": 14,
     "metadata": {},
     "output_type": "execute_result"
    }
   ],
   "source": [
    "score = []\n",
    "pred = []\n",
    "\n",
    "cv = kfold(60000, 3)\n",
    "\n",
    "for r in rot[1:]:\n",
    "    sc = []\n",
    "    for fold in cv:\n",
    "        X_t = X_train[fold[0]]\n",
    "        y_t = y_train[fold[0]]\n",
    "        y = np.copy(y_t)\n",
    "        for i in range(2):\n",
    "            y = np.concatenate((y, y_t))\n",
    "        X = change_im(X_t, 'rotate', r)\n",
    "        print(1)\n",
    "        res, p = cross_val_pred(X, y, X_train[fold[1]],y_train[fold[1]],  k = 4, strategy = 'brute', metric = 'cosine',  \n",
    "                    weights = True, test_block_size = 1024)\n",
    "        print(res)\n",
    "        sc.append(res)\n",
    "    score.append(np.mean(sc))\n",
    "score\n",
    "     "
   ]
  },
  {
   "cell_type": "code",
   "execution_count": 15,
   "metadata": {},
   "outputs": [
    {
     "name": "stdout",
     "output_type": "stream",
     "text": [
      "1\n",
      "0.9808\n",
      "1\n",
      "0.98265\n",
      "1\n",
      "0.98195\n",
      "1\n",
      "0.97695\n",
      "1\n",
      "0.97845\n",
      "1\n",
      "0.9788\n",
      "1\n",
      "0.9749\n",
      "1\n",
      "0.9768\n",
      "1\n",
      "0.97675\n"
     ]
    },
    {
     "data": {
      "text/plain": [
       "[0.9817999999999999, 0.9780666666666668, 0.97615]"
      ]
     },
     "execution_count": 15,
     "metadata": {},
     "output_type": "execute_result"
    }
   ],
   "source": [
    "y_t = y_train[:51000]\n",
    "X_t = X_train[:51000]\n",
    "    \n",
    "score = []\n",
    "pred = []\n",
    "\n",
    "cv = kfold(60000, 3)\n",
    "\n",
    "for s in shift[1:]:\n",
    "    sc = []\n",
    "    for fold in cv:\n",
    "        X_t = X_train[fold[0]]\n",
    "        y_t = y_train[fold[0]]\n",
    "        y = np.copy(y_t)\n",
    "        for i in range(4):\n",
    "            y = np.concatenate((y, y_t))\n",
    "        X = change_im(X_t, 'shift', s)\n",
    "        print(1)\n",
    "        res, p = cross_val_pred(X, y, X_train[fold[1]],y_train[fold[1]],  k = 4, strategy = 'brute', metric = 'cosine',  \n",
    "                    weights = True, test_block_size = 1024)\n",
    "        print(res)\n",
    "        sc.append(res)\n",
    "    score.append(np.mean(sc))\n",
    "score\n",
    "     "
   ]
  },
  {
   "cell_type": "code",
   "execution_count": 24,
   "metadata": {},
   "outputs": [],
   "source": [
    "pred_s = np.copy(pred)"
   ]
  },
  {
   "cell_type": "code",
   "execution_count": 38,
   "metadata": {},
   "outputs": [
    {
     "name": "stdout",
     "output_type": "stream",
     "text": [
      "1\n",
      "2\n"
     ]
    }
   ],
   "source": [
    "X = change_im(X_train, 'shift', 1)\n",
    "y = np.copy(y_train)\n",
    "for i in range(4):\n",
    "    y = np.concatenate((y, y_train))\n",
    "print(1)\n",
    "\n",
    "m = KNNClassifier(4, 'brute', 'cosine', True, 256)\n",
    "m.fit(X, y)\n",
    "print(2)\n",
    "res = m.predict(X_test)"
   ]
  },
  {
   "cell_type": "code",
   "execution_count": 36,
   "metadata": {},
   "outputs": [
    {
     "data": {
      "text/plain": [
       "(300000, 784)"
      ]
     },
     "execution_count": 36,
     "metadata": {},
     "output_type": "execute_result"
    }
   ],
   "source": [
    "X.shape"
   ]
  },
  {
   "cell_type": "code",
   "execution_count": 39,
   "metadata": {},
   "outputs": [
    {
     "data": {
      "text/plain": [
       "0.9798"
      ]
     },
     "execution_count": 39,
     "metadata": {},
     "output_type": "execute_result"
    }
   ],
   "source": [
    "np.mean(res == y_test)"
   ]
  },
  {
   "cell_type": "code",
   "execution_count": 40,
   "metadata": {},
   "outputs": [],
   "source": [
    "res_shift = np.copy(res)"
   ]
  },
  {
   "cell_type": "code",
   "execution_count": 42,
   "metadata": {},
   "outputs": [
    {
     "data": {
      "text/plain": [
       "array([[ 977,    0,    0,    0,    0,    0,    2,    1,    0,    0],\n",
       "       [   0, 1132,    3,    0,    0,    0,    0,    0,    0,    0],\n",
       "       [   8,    0, 1011,    1,    0,    0,    2,    9,    1,    0],\n",
       "       [   1,    0,    1,  988,    0,    7,    0,    5,    6,    2],\n",
       "       [   1,    1,    0,    0,  951,    0,    5,    0,    1,   23],\n",
       "       [   3,    0,    0,   10,    1,  861,    6,    2,    6,    3],\n",
       "       [   3,    2,    0,    0,    0,    2,  951,    0,    0,    0],\n",
       "       [   2,    8,    4,    0,    2,    0,    0, 1002,    0,   10],\n",
       "       [   3,    0,    2,    6,    1,    4,    5,    4,  945,    4],\n",
       "       [   6,    6,    1,    3,    4,    3,    0,    4,    2,  980]],\n",
       "      dtype=int64)"
      ]
     },
     "execution_count": 42,
     "metadata": {},
     "output_type": "execute_result"
    }
   ],
   "source": [
    "mist_shift = metrics.confusion_matrix(y_test, res)\n",
    "mist_shift"
   ]
  },
  {
   "cell_type": "code",
   "execution_count": 49,
   "metadata": {},
   "outputs": [
    {
     "name": "stdout",
     "output_type": "stream",
     "text": [
      "1\n",
      "2\n"
     ]
    }
   ],
   "source": [
    "X = change_im(X_train, 'rotate', 10)\n",
    "y = np.copy(y_train)\n",
    "for i in range(2):\n",
    "    y = np.concatenate((y, y_train))\n",
    "print(1)\n",
    "\n",
    "m = KNNClassifier(4, 'brute', 'cosine', True, 256)\n",
    "m.fit(X, y)\n",
    "print(2)\n",
    "res = m.predict(X_test)"
   ]
  },
  {
   "cell_type": "code",
   "execution_count": null,
   "metadata": {},
   "outputs": [],
   "source": [
    "np.mean(res == y_test)"
   ]
  },
  {
   "cell_type": "code",
   "execution_count": 51,
   "metadata": {},
   "outputs": [
    {
     "data": {
      "text/plain": [
       "array([[ 976,    1,    0,    0,    0,    0,    2,    1,    0,    0],\n",
       "       [   0, 1132,    2,    0,    0,    0,    0,    1,    0,    0],\n",
       "       [   6,    2, 1008,    2,    1,    0,    1,   10,    2,    0],\n",
       "       [   0,    0,    1,  986,    1,    7,    0,    3,    7,    5],\n",
       "       [   1,    0,    0,    0,  952,    0,    5,    2,    0,   22],\n",
       "       [   3,    0,    0,    6,    1,  874,    3,    2,    1,    2],\n",
       "       [   2,    3,    0,    0,    0,    1,  951,    0,    1,    0],\n",
       "       [   2,    7,    3,    0,    0,    0,    0, 1008,    0,    8],\n",
       "       [   2,    0,    3,    5,    4,    3,    2,    3,  947,    5],\n",
       "       [   4,    4,    1,    5,    5,    2,    1,    5,    3,  979]],\n",
       "      dtype=int64)"
      ]
     },
     "execution_count": 51,
     "metadata": {},
     "output_type": "execute_result"
    }
   ],
   "source": [
    "res_rot_10= np.copy(res)\n",
    "mist_rot_10 = metrics.confusion_matrix(y_test, res)\n",
    "mist_rot_10"
   ]
  },
  {
   "cell_type": "code",
   "execution_count": 61,
   "metadata": {},
   "outputs": [
    {
     "name": "stdout",
     "output_type": "stream",
     "text": [
      "1\n",
      "2\n"
     ]
    }
   ],
   "source": [
    "X = change_im(X_train, 'gauss', 1)\n",
    "y = np.copy(y_train)\n",
    "for i in range(1):\n",
    "    y = np.concatenate((y, y_train))\n",
    "print(1)\n",
    "\n",
    "m = KNNClassifier(4, 'brute', 'cosine', True, 256)\n",
    "m.fit(X, y)\n",
    "print(2)\n",
    "res = m.predict(X_test)"
   ]
  },
  {
   "cell_type": "code",
   "execution_count": 62,
   "metadata": {},
   "outputs": [
    {
     "data": {
      "text/plain": [
       "0.9813"
      ]
     },
     "execution_count": 62,
     "metadata": {},
     "output_type": "execute_result"
    }
   ],
   "source": [
    "np.mean(res == y_test)"
   ]
  },
  {
   "cell_type": "code",
   "execution_count": 63,
   "metadata": {},
   "outputs": [
    {
     "data": {
      "text/plain": [
       "array([[ 977,    1,    0,    0,    0,    0,    0,    2,    0,    0],\n",
       "       [   0, 1130,    3,    0,    0,    0,    2,    0,    0,    0],\n",
       "       [   7,    1, 1006,    2,    1,    0,    1,   12,    2,    0],\n",
       "       [   0,    0,    1,  986,    1,    9,    0,    4,    5,    4],\n",
       "       [   0,    0,    0,    0,  960,    0,    4,    3,    0,   15],\n",
       "       [   2,    1,    0,    6,    1,  872,    4,    1,    2,    3],\n",
       "       [   3,    3,    0,    0,    1,    3,  948,    0,    0,    0],\n",
       "       [   0,    7,    6,    0,    3,    1,    0, 1003,    0,    8],\n",
       "       [   3,    0,    1,    3,    3,    3,    3,    4,  951,    3],\n",
       "       [   2,    4,    0,    2,    8,    3,    1,    7,    2,  980]],\n",
       "      dtype=int64)"
      ]
     },
     "execution_count": 63,
     "metadata": {},
     "output_type": "execute_result"
    }
   ],
   "source": [
    "res_gauss1 = np.copy(res)\n",
    "mist_gauss1 = metrics.confusion_matrix(y_test, res)\n",
    "mist_gauss1"
   ]
  },
  {
   "cell_type": "code",
   "execution_count": 11,
   "metadata": {},
   "outputs": [],
   "source": [
    "\n",
    "def change_im_rand_best(X_train):\n",
    "    rot = [-15, -10,-5, 5, 10, 15]\n",
    "    shift = [-3, -2, -1, 1, 2, 3]\n",
    "    gauss = [1, 1.5, 0.5]\n",
    "    X = np.copy(X_train)\n",
    "    \n",
    "    a = random.randint(1, 3)\n",
    "    res = np.empty((X.shape[0] * 4, X.shape[1]))\n",
    "    res[0:X.shape[0]] = np.copy(X_train)\n",
    "    pos = X.shape[0]\n",
    "    \n",
    "    for i in range(3):\n",
    "        for im in X:\n",
    "            if a == 1: #gauss\n",
    "                b = random.randint(0, 1)\n",
    "                res[pos] = filters.gaussian(im.reshape(-1, 28), gauss[b]).reshape(1, -1)\n",
    "                pos += 1\n",
    "\n",
    "            if a == 2: #rotate\n",
    "                b = random.randint(0, 3)\n",
    "                res[pos] = transform.rotate(im.reshape(-1, 28), rot[b]).reshape(1, -1)\n",
    "                pos += 1     \n",
    "\n",
    "            if a == 3: #shift\n",
    "                b = random.randint(0, 5)\n",
    "                c = random.randint(0, 5)\n",
    "                d = random.randint(0, 1)\n",
    "                if d == 0:\n",
    "                    b = 0\n",
    "                else:\n",
    "                    c = 0\n",
    "                tform = SimilarityTransform(translation=(shift[b], shift[c]))\n",
    "                res[pos] = transform.warp(im.reshape(-1, 28), tform).reshape(1, -1)\n",
    "                pos += 1  \n",
    "           \n",
    "    return res\n",
    "            \n",
    "        "
   ]
  },
  {
   "cell_type": "code",
   "execution_count": 66,
   "metadata": {},
   "outputs": [
    {
     "name": "stdout",
     "output_type": "stream",
     "text": [
      "1\n",
      "2\n"
     ]
    }
   ],
   "source": [
    "X = change_im_rand_best(X_train)\n",
    "y = np.copy(y_train)\n",
    "for i in range(3):\n",
    "    y = np.concatenate((y, y_train))\n",
    "print(1)\n",
    "\n",
    "m = KNNClassifier(4, 'brute', 'cosine', True, 256)\n",
    "m.fit(X, y)\n",
    "print(2)\n",
    "res = m.predict(X_test)"
   ]
  },
  {
   "cell_type": "code",
   "execution_count": 67,
   "metadata": {},
   "outputs": [
    {
     "data": {
      "text/plain": [
       "0.9787"
      ]
     },
     "execution_count": 67,
     "metadata": {},
     "output_type": "execute_result"
    }
   ],
   "source": [
    "np.mean(res == y_test)"
   ]
  },
  {
   "cell_type": "code",
   "execution_count": 68,
   "metadata": {},
   "outputs": [
    {
     "data": {
      "text/plain": [
       "array([[ 975,    1,    0,    0,    0,    1,    1,    1,    1,    0],\n",
       "       [   0, 1131,    2,    0,    0,    1,    1,    0,    0,    0],\n",
       "       [   6,    2, 1006,    3,    1,    0,    1,   11,    2,    0],\n",
       "       [   0,    0,    1,  983,    1,   10,    0,    5,    5,    5],\n",
       "       [   0,    0,    0,    0,  957,    0,    4,    3,    1,   17],\n",
       "       [   1,    2,    0,    9,    1,  868,    5,    1,    2,    3],\n",
       "       [   3,    3,    0,    0,    1,    3,  947,    0,    1,    0],\n",
       "       [   0,    7,    4,    2,    4,    0,    1, 1000,    0,   10],\n",
       "       [   2,    0,    5,    7,    3,    5,    5,    3,  940,    4],\n",
       "       [   2,    4,    0,    1,   10,    4,    0,    6,    2,  980]],\n",
       "      dtype=int64)"
      ]
     },
     "execution_count": 68,
     "metadata": {},
     "output_type": "execute_result"
    }
   ],
   "source": [
    "res_rand = np.copy(res)\n",
    "mist_rand = metrics.confusion_matrix(y_test, res)\n",
    "mist_rand"
   ]
  },
  {
   "cell_type": "code",
   "execution_count": 97,
   "metadata": {},
   "outputs": [],
   "source": [
    "\n",
    "def change_im_all(X_train):\n",
    "    rot = [-10, 10]\n",
    "    shift = [-1,0, 1]\n",
    "    gauss = [1]\n",
    "    X = np.copy(X_train)\n",
    "    \n",
    "    res = np.empty((X.shape[0] * 8, X.shape[1]))\n",
    "    res[0:X.shape[0]] = np.copy(X_train)\n",
    "    pos = X.shape[0]\n",
    "    \n",
    "    for im in X:\n",
    "        res[pos] = filters.gaussian(im.reshape(-1, 28), 1).reshape(1, -1)\n",
    "        pos += 1\n",
    "            \n",
    "    for im in X:\n",
    "        res[pos] = transform.rotate(im.reshape(-1, 28), -10).reshape(1, -1)\n",
    "        pos += 1\n",
    "    for im in X:\n",
    "        res[pos] = transform.rotate(im.reshape(-1, 28), 10).reshape(1, -1)\n",
    "        pos += 1\n",
    "\n",
    "        \n",
    "    for im in X:\n",
    "        tform = SimilarityTransform(translation=(0, 1))\n",
    "        res[pos] = transform.warp(im.reshape(-1, 28), tform).reshape(1, -1)\n",
    "        pos += 1  \n",
    "    for im in X:\n",
    "        tform = SimilarityTransform(translation=(1, 0))\n",
    "        res[pos] = transform.warp(im.reshape(-1, 28), tform).reshape(1, -1)\n",
    "        pos += 1 \n",
    "    for im in X:\n",
    "        tform = SimilarityTransform(translation=(-1, 0))\n",
    "        res[pos] = transform.warp(im.reshape(-1, 28), tform).reshape(1, -1)\n",
    "        pos += 1             \n",
    "    for im in X:\n",
    "        tform = SimilarityTransform(translation=(0, -1))\n",
    "        res[pos] = transform.warp(im.reshape(-1, 28), tform).reshape(1, -1)\n",
    "        pos += 1 \n",
    "           \n",
    "    return res\n",
    "            \n",
    "        "
   ]
  },
  {
   "cell_type": "code",
   "execution_count": 98,
   "metadata": {},
   "outputs": [
    {
     "name": "stdout",
     "output_type": "stream",
     "text": [
      "1\n",
      "2\n"
     ]
    }
   ],
   "source": [
    "X = change_im_all(X_train)\n",
    "y = np.copy(y_train)\n",
    "for i in range(7):\n",
    "    y = np.concatenate((y, y_train))\n",
    "print(1)\n",
    "\n",
    "m = KNNClassifier(4, 'brute', 'cosine', True, 128)\n",
    "m.fit(X, y)\n",
    "print(2)\n",
    "res = m.predict(X_test)"
   ]
  },
  {
   "cell_type": "code",
   "execution_count": 99,
   "metadata": {},
   "outputs": [
    {
     "data": {
      "text/plain": [
       "0.985"
      ]
     },
     "execution_count": 99,
     "metadata": {},
     "output_type": "execute_result"
    }
   ],
   "source": [
    "np.mean(res == y_test)"
   ]
  },
  {
   "cell_type": "code",
   "execution_count": 100,
   "metadata": {},
   "outputs": [
    {
     "data": {
      "text/plain": [
       "array([[ 976,    0,    0,    0,    0,    0,    3,    1,    0,    0],\n",
       "       [   0, 1132,    3,    0,    0,    0,    0,    0,    0,    0],\n",
       "       [   5,    1, 1013,    0,    1,    0,    2,   10,    0,    0],\n",
       "       [   0,    0,    2,  992,    1,    4,    0,    3,    4,    4],\n",
       "       [   0,    0,    0,    0,  962,    0,    4,    2,    0,   14],\n",
       "       [   2,    0,    0,    5,    1,  875,    6,    1,    0,    2],\n",
       "       [   2,    2,    0,    0,    0,    1,  953,    0,    0,    0],\n",
       "       [   1,    7,    4,    0,    0,    0,    0, 1009,    0,    7],\n",
       "       [   2,    0,    3,    2,    2,    4,    3,    4,  952,    2],\n",
       "       [   1,    3,    1,    3,    5,    2,    1,    4,    3,  986]],\n",
       "      dtype=int64)"
      ]
     },
     "execution_count": 100,
     "metadata": {},
     "output_type": "execute_result"
    }
   ],
   "source": [
    "res_best = np.copy(res)\n",
    "mist_best = metrics.confusion_matrix(y_test, res)\n",
    "mist_best"
   ]
  },
  {
   "cell_type": "code",
   "execution_count": 59,
   "metadata": {},
   "outputs": [],
   "source": [
    "def print_table(a, n=10, m=10):\n",
    "    print(\"\\\\begin{table}[h]\")\n",
    "    print(\"\\\\begin{center}\")\n",
    "\n",
    "    print(\"\\\\begin{{tabular}}{{|{0}|}}\".format(\"l\" * m))\n",
    "    print(\"\\\\hline\")\n",
    "    for i in range(n):\n",
    "        for j in range(m):\n",
    "            if j > 0:\n",
    "                print(\"& \", end=\"\")\n",
    "            print(a[i, j], end=\" \")\n",
    "        if i < n:\n",
    "            print(\" \\\\\\\\\")\n",
    "        else:\n",
    "            print()\n",
    "    print(\"\\\\hline\")\n",
    "\n",
    "    print(\"\\\\end{tabular}\")\n",
    "    print(\"\\\\end{center}\")\n",
    "\n",
    "    print(\"\\\\end{table}\")\n"
   ]
  },
  {
   "cell_type": "code",
   "execution_count": null,
   "metadata": {},
   "outputs": [],
   "source": []
  }
 ],
 "metadata": {
  "kernelspec": {
   "display_name": "Python 3",
   "language": "python",
   "name": "python3"
  },
  "language_info": {
   "codemirror_mode": {
    "name": "ipython",
    "version": 3
   },
   "file_extension": ".py",
   "mimetype": "text/x-python",
   "name": "python",
   "nbconvert_exporter": "python",
   "pygments_lexer": "ipython3",
   "version": "3.6.5"
  }
 },
 "nbformat": 4,
 "nbformat_minor": 2
}
