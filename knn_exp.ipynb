{
 "cells": [
  {
   "cell_type": "code",
   "execution_count": 1,
   "metadata": {},
   "outputs": [],
   "source": [
    "import numpy as np\n",
    "from sklearn.neighbors import NearestNeighbors\n",
    "from sklearn import datasets\n",
    "from sklearn.datasets import fetch_mldata\n",
    "import time\n",
    "%matplotlib inline  \n",
    "import matplotlib.pyplot as plt\n",
    "import scipy.ndimage as ndimage\n",
    "import skimage.io as io\n",
    "import skimage.transform as transform\n",
    "from sklearn import metrics\n",
    "from skimage import filters\n",
    "from skimage.transform import SimilarityTransform\n",
    "import random\n",
    "\n",
    "#import "
   ]
  },
  {
   "cell_type": "code",
   "execution_count": 2,
   "metadata": {},
   "outputs": [],
   "source": [
    "def euclidean_distance(X, Y):\n",
    "    return np.sqrt(np.abs((X ** 2).sum(axis=1).reshape(-1, 1) +\n",
    "                   (Y ** 2).sum(axis=1) - 2 * np.dot(X, Y.T)))\n",
    "\n",
    "def cosine_distance(X, Y):\n",
    "    return 1 - np.dot(X, Y.T) / np.sqrt((X\n",
    "            ** 2).sum(axis=1)).reshape(-1, 1) / np.sqrt((Y\n",
    "            ** 2).sum(axis=1))"
   ]
  },
  {
   "cell_type": "code",
   "execution_count": 3,
   "metadata": {},
   "outputs": [],
   "source": [
    "class KNNClassifier:\n",
    "    def __init__(self, k, strategy, metric,\n",
    "                 weights, test_block_size):\n",
    "        self.k = k\n",
    "        self.strategy = strategy\n",
    "        self.metric = metric\n",
    "        self.weights = weights\n",
    "        self.test_block_size = test_block_size\n",
    "        if self.strategy != 'my_own':\n",
    "            self.knn_classifier = NearestNeighbors(n_neighbors = self.k, \n",
    "                                                   algorithm=self.strategy, \n",
    "                                                   metric = self.metric)\n",
    "        self.eps = 1e-5\n",
    "    \n",
    "    def fit(self, X, y):\n",
    "        self.y = np.copy(y).astype(int)\n",
    "        if self.strategy != 'my_own':\n",
    "            self.knn_classifier.fit(X, y)\n",
    "        else:\n",
    "            self.X = np.copy(X).astype(float)\n",
    "\n",
    "            \n",
    "    def find_kneighbors(self, X, return_distance):\n",
    "        test = np.copy(X)\n",
    "        if self.strategy != 'my_own':\n",
    "            dist, idx = self.knn_classifier.kneighbors(test, n_neighbors = self.k)\n",
    "            dist = dist.reshape(-1, self.k)\n",
    "            idx = idx.reshape(-1, self.k)\n",
    "        else:\n",
    "            if self.metric == 'euclidean':\n",
    "                d = euclidean_distance(test, self.X)\n",
    "            else:\n",
    "                d = cosine_distance(test, self.X)\n",
    "            d1 = np.copy(d)\n",
    "            dist = np.sort(d, axis = 1)[:, :self.k]\n",
    "            idx = np.argsort(d1, axis = 1)[:, :self.k]\n",
    "        if return_distance:\n",
    "            return (dist, idx.astype(int))\n",
    "        else:\n",
    "            return idx.astype(int)\n",
    "    \n",
    "    def predict(self, X):\n",
    "        self.eps = 1e-5\n",
    "        pred = np.zeros(0).astype(int)\n",
    "        for i in range(0, X.shape[0], self.test_block_size):\n",
    "            test = np.copy(X[i : i + self.test_block_size])\n",
    "            \n",
    "            if not self.weights:\n",
    "                idx = self.find_kneighbors(test, return_distance = False)\n",
    "                classes = self.y[idx]\n",
    "                p = np.array([np.bincount(classes[i]).argmax() for i in range(classes.shape[0])]).astype(int)\n",
    "                pred = np.hstack((pred, p))\n",
    "            else:\n",
    "                dist, idx = self.find_kneighbors(test, return_distance = True)\n",
    "                w = 1 / (dist + self.eps)\n",
    "                classes = self.y[idx]\n",
    "                p = np.array([np.bincount(classes[i], w[i]).argmax() for i in range(classes.shape[0])]).astype(int)\n",
    "                pred = np.hstack((pred, p))\n",
    "            \n",
    "        return pred  \n"
   ]
  },
  {
   "cell_type": "code",
   "execution_count": 4,
   "metadata": {},
   "outputs": [],
   "source": [
    "def kfold(n, n_folds):\n",
    "    folds = []\n",
    "    size = n // n_folds\n",
    "    pos_valid = 0 \n",
    "    for i in range(n_folds):\n",
    "        if (i >= n % n_folds):\n",
    "            valid = np.arange(pos_valid, pos_valid + size)\n",
    "            train = np.arange(0, pos_valid)\n",
    "            train = np.hstack((train, np.arange(pos_valid + size, n)))\n",
    "            pos_valid = pos_valid + size\n",
    "        else:\n",
    "            valid = np.arange(pos_valid, pos_valid + size + 1)\n",
    "            train = np.arange(0, pos_valid)\n",
    "            train = np.hstack((train, np.arange(pos_valid + size + 1, n)))\n",
    "            pos_valid = pos_valid+ size + 1\n",
    "        folds.append((train, valid))\n",
    "    return folds\n",
    "\n",
    "def knn_cross_val_score(X, y, k_list, score, cv, **kwargs):\n",
    "    if cv == None:\n",
    "        cv = kfold(X.shape[0], 3)\n",
    "    if score == 'accuracy':\n",
    "        m = KNNClassifier(max(k_list), **kwargs)\n",
    "        sc = {}\n",
    "        \n",
    "        for fold in cv:\n",
    "            train = fold[0]\n",
    "            valid = fold[1]\n",
    "            x_val = X[valid]\n",
    "            y_val = y[valid].astype(int)\n",
    "            y_train = y[train].astype(int)\n",
    "\n",
    "            m.fit(X[train], y_train)\n",
    "            if not kwargs['weights']:\n",
    "                idx = m.find_kneighbors(x_val, return_distance = False)\n",
    "                w = np.ones((idx.shape[0], idx.shape[1]))\n",
    "            else:\n",
    "                dist, idx = m.find_kneighbors(x_val, return_distance = True)\n",
    "                w = 1 / (dist + 1e-5)\n",
    "\n",
    "            classes = y_train[idx]\n",
    "            for k in k_list:\n",
    "                p = np.array([np.bincount(classes[i][:k], w[i][:k]).argmax()\n",
    "                             for i in range(classes.shape[0])]).astype(int)\n",
    "                if k in sc:\n",
    "                    sc[k] = np.hstack((sc[k], np.array(np.mean(y_val == p))))\n",
    "                else:\n",
    "                    sc[k] = np.array([np.mean(y_val == p)])\n",
    "        return sc\n",
    "    \n",
    "def cross_val_clock(X, y, **kwargs):\n",
    "    m = KNNClassifier(**kwargs)\n",
    "    t1 = time.perf_counter()\n",
    "    cv = kfold(X.shape[0], 3)\n",
    "    for i, fold in enumerate(cv):\n",
    "        train = fold[0]\n",
    "        valid = fold[1]\n",
    "        x_val = X[valid]\n",
    "        y_train = y[train].astype(int)\n",
    "        m.fit(X[train], y[train])\n",
    "        p = m.predict(x_val)\n",
    "    t2 = time.perf_counter()\n",
    "    return t2 - t1"
   ]
  },
  {
   "cell_type": "code",
   "execution_count": 5,
   "metadata": {},
   "outputs": [],
   "source": [
    "mnist = fetch_mldata('MNIST original')\n",
    "X_train = mnist.data[:60000]\n",
    "y_train = mnist.target[:60000]\n",
    "X_test = mnist.data[60000:]\n",
    "y_test = mnist.target[60000:]"
   ]
  },
  {
   "cell_type": "markdown",
   "metadata": {},
   "source": [
    "\n",
    "5 ближ соседей в обуч выборке для евклидовой метрики\n",
    "10, 20, 100 признаков случайно"
   ]
  },
  {
   "cell_type": "code",
   "execution_count": 8,
   "metadata": {},
   "outputs": [
    {
     "name": "stdout",
     "output_type": "stream",
     "text": [
      "0\n",
      "0\n",
      "1\n",
      "2\n",
      "3\n",
      "1\n",
      "0\n",
      "1\n",
      "2\n",
      "3\n",
      "2\n",
      "0\n",
      "1\n",
      "2\n",
      "3\n"
     ]
    }
   ],
   "source": [
    "k = [10, 20, 100]\n",
    "strategy = ['my_own', 'brute', 'kd_tree', 'ball_tree']\n",
    "models_time = [[], [], [], []]\n",
    "\n",
    "for j, cnt_f in enumerate(k):\n",
    "    print(j)\n",
    "    idx_f = np.arange(0, X_train.shape[1])\n",
    "    np.random.shuffle(idx_f)\n",
    "    idx_f = idx_f[:cnt_f]\n",
    "    for i, strat in enumerate(strategy):\n",
    "        print(i)\n",
    "        m = KNNClassifier(5, strat, 'euclidean', False, 1024)\n",
    "        m.fit(X_train[:, idx_f], y_train)\n",
    "        t1 = time.perf_counter()\n",
    "        m.find_kneighbors(X_test[:,idx_f], False)\n",
    "        t2 = time.perf_counter()\n",
    "        models_time[i].append(t2 - t1)\n",
    "    "
   ]
  },
  {
   "cell_type": "code",
   "execution_count": 9,
   "metadata": {},
   "outputs": [
    {
     "data": {
      "image/png": "[encoded data removed]",
      "text/plain": [
       "<Figure size 432x288 with 1 Axes>"
      ]
     },
     "metadata": {},
     "output_type": "display_data"
    }
   ],
   "source": [
    "fig = plt.figure(figsize=(6, 4))\n",
    "ax = plt.subplot(111)\n",
    "ax.plot(k, models_time[0], 'rs', k, models_time[1], 'bs', k, models_time[2], 'gs', k, models_time[3], 'ys')\n",
    "\n",
    "ax.plot(k, models_time[0], 'r', k, models_time[1], 'b', k, models_time[2], 'g', k, models_time[3], 'y')\n",
    "ax.set_xlabel('число признаков')\n",
    "ax.set_ylabel('время, с')\n",
    "ax.set_title(\"время поиска 5 ближайших соседей от числа признаков\")\n",
    "ax.legend(strategy)\n",
    "ax.grid()\n"
   ]
  },
  {
   "cell_type": "code",
   "execution_count": 12,
   "metadata": {},
   "outputs": [],
   "source": [
    "fig.savefig(\"f.pdf\")"
   ]
  },
  {
   "cell_type": "code",
   "execution_count": 13,
   "metadata": {},
   "outputs": [
    {
     "data": {
      "image/png": "[encoded data removed]",
      "text/plain": [
       "<Figure size 432x288 with 1 Axes>"
      ]
     },
     "metadata": {},
     "output_type": "display_data"
    }
   ],
   "source": [
    "fig = plt.figure(figsize=(6, 4))\n",
    "ax = plt.subplot(111)\n",
    "ax.bar(np.arange(3), models_time[1], width = 0.2, color = 'b')\n",
    "ax.bar(np.arange(3)+0.2, models_time[2], width = 0.2, color = 'g')\n",
    "ax.bar(np.arange(3)+0.4, models_time[3], width = 0.2, color = 'y')\n",
    "\n",
    "ax.set_xlabel('число признаков')\n",
    "ax.set_ylabel('время, с')\n",
    "ax.set_title(\"время поиска 5 ближайших соседей от числа признаков\")\n",
    "ax.legend(strategy[1:])\n",
    "plt.xticks([0.1, 1.1, 2.1], [10, 20, 100])\n",
    "ax.grid()\n",
    "\n",
    "fig.savefig(\"f1.pdf\")"
   ]
  },
  {
   "cell_type": "markdown",
   "metadata": {},
   "source": [
    "3 фолда, точность (к от 1 до 10 + МЕТРИКА) на кросс валидации и время работы от метрики"
   ]
  },
  {
   "cell_type": "code",
   "execution_count": 14,
   "metadata": {},
   "outputs": [],
   "source": [
    "mnist = fetch_mldata('MNIST original')\n",
    "X_train = mnist.data[:60000]\n",
    "y_train = mnist.target[:60000]\n",
    "\n",
    "X = np.hstack((X_train, y_train.reshape(-1, 1)))\n",
    "np.random.shuffle(X)\n",
    "X_train = X[:, :784]\n",
    "y_train = X[:, 784:]\n",
    "\n",
    "X_test = mnist.data[60000:]\n",
    "y_test = mnist.target[60000:]\n",
    "y_train = y_train.reshape(60000,)\n"
   ]
  },
  {
   "cell_type": "code",
   "execution_count": 80,
   "metadata": {},
   "outputs": [
    {
     "name": "stdout",
     "output_type": "stream",
     "text": [
      "1\n"
     ]
    }
   ],
   "source": [
    "k = np.arange(1, 11).astype(int)\n",
    "\n",
    "euclidean_accuracy = knn_cross_val_score(X_train, y_train, k, score = 'accuracy', \n",
    "                    cv = None, strategy = 'brute', metric = 'euclidean',  \n",
    "                    weights = False, test_block_size = 1024)\n",
    "print(1)"
   ]
  },
  {
   "cell_type": "code",
   "execution_count": 82,
   "metadata": {},
   "outputs": [],
   "source": [
    "cosine_accuracy = knn_cross_val_score(X_train, y_train, k, score = 'accuracy', \n",
    "                    cv = None, strategy = 'brute', metric = 'cosine',  \n",
    "                    weights = False, test_block_size = 1024)"
   ]
  },
  {
   "cell_type": "code",
   "execution_count": 86,
   "metadata": {},
   "outputs": [
    {
     "data": {
      "image/png": "[encoded data removed]",
      "text/plain": [
       "<Figure size 432x288 with 1 Axes>"
      ]
     },
     "metadata": {},
     "output_type": "display_data"
    }
   ],
   "source": [
    "metric = ['euclidean', 'cosine']\n",
    "euc = [np.mean(i[1]) for i in euclidean_accuracy.items()]\n",
    "cos = [np.mean(i[1]) for i in cosine_accuracy.items()]\n",
    "fig = plt.figure(figsize=(6, 4))\n",
    "ax = plt.subplot(111)\n",
    "ax.plot(k, euc, 'r', k, cos, 'b')\n",
    "ax.plot(k, euc, 'rs', k, cos, 'bs')\n",
    "ax.set_xlabel('число соседей')\n",
    "ax.set_ylabel('доля правильно предсказанных ответов')\n",
    "ax.set_title(\"зависимость точности от числа соседей\")\n",
    "ax.legend(metric)\n",
    "\n",
    "ax.grid()\n",
    "\n",
    "fig.savefig(\"fig1.pdf\")"
   ]
  },
  {
   "cell_type": "code",
   "execution_count": 32,
   "metadata": {},
   "outputs": [],
   "source": [
    "euc_time =  cross_val_clock(X_train, y_train, k = 10, strategy = 'brute', \n",
    "                            metric = 'euclidean', weights = False, \n",
    "                            test_block_size = 1024)"
   ]
  },
  {
   "cell_type": "code",
   "execution_count": 34,
   "metadata": {},
   "outputs": [],
   "source": [
    "cos_time = cross_val_clock(X_train, y_train, k = 10, \n",
    "                    strategy = 'brute', metric = 'cosine',  \n",
    "                    weights = False, test_block_size = 1024)"
   ]
  },
  {
   "cell_type": "code",
   "execution_count": 33,
   "metadata": {},
   "outputs": [
    {
     "data": {
      "text/plain": [
       "119.25340989999995"
      ]
     },
     "execution_count": 33,
     "metadata": {},
     "output_type": "execute_result"
    }
   ],
   "source": [
    "euc_time"
   ]
  },
  {
   "cell_type": "code",
   "execution_count": 35,
   "metadata": {},
   "outputs": [
    {
     "data": {
      "text/plain": [
       "148.17294420000007"
      ]
     },
     "execution_count": 35,
     "metadata": {},
     "output_type": "execute_result"
    }
   ],
   "source": [
    "cos_time"
   ]
  },
  {
   "cell_type": "code",
   "execution_count": 38,
   "metadata": {},
   "outputs": [
    {
     "data": {
      "text/plain": [
       "([<matplotlib.axis.XTick at 0x21980d19cf8>,\n",
       "  <matplotlib.axis.XTick at 0x21980d19630>],\n",
       " <a list of 2 Text xticklabel objects>)"
      ]
     },
     "execution_count": 38,
     "metadata": {},
     "output_type": "execute_result"
    },
    {
     "data": {
      "image/png": "[encoded data removed]",
      "text/plain": [
       "<Figure size 432x288 with 1 Axes>"
      ]
     },
     "metadata": {},
     "output_type": "display_data"
    }
   ],
   "source": [
    "fig = plt.figure(figsize=(6, 4))\n",
    "ax = plt.subplot(111)\n",
    "ax.bar(np.arange(1), [euc_time], 0.2, color = 'r')\n",
    "ax.bar(np.arange(1) - 0.3, [cos_time], width = 0.2, color = 'b')\n",
    "\n",
    "ax.set_xlabel('метрика')\n",
    "ax.set_ylabel('время, с')\n",
    "ax.set_title(\"зависимость времени работы модели от метрики\")\n",
    "ax.legend(['euclidean', 'cosine'])\n",
    "plt.xticks([-0.3, 0.0], ['cosine', 'euclidean'])\n"
   ]
  },
  {
   "cell_type": "code",
   "execution_count": 24,
   "metadata": {},
   "outputs": [],
   "source": [
    "fig.savefig(\"fig2_1.pdf\")"
   ]
  },
  {
   "cell_type": "code",
   "execution_count": null,
   "metadata": {},
   "outputs": [],
   "source": [
    "k = np.arange(1, 11).astype(int)\n",
    "\n",
    "euclidean_accuracy_w = knn_cross_val_score(X_train, y_train, k, score = 'accuracy', \n",
    "                    cv = None, strategy = 'brute', metric = 'euclidean',  \n",
    "                    weights = True, test_block_size = 1024)\n",
    "print(1)\n",
    "cosine_accuracy_w = knn_cross_val_score(X_train, y_train, k, score = 'accuracy', \n",
    "                    cv = None, strategy = 'brute', metric = 'cosine',  \n",
    "                    weights = True, test_block_size = 1024)\n",
    "print(2)"
   ]
  },
  {
   "cell_type": "code",
   "execution_count": 101,
   "metadata": {
    "scrolled": true
   },
   "outputs": [
    {
     "data": {
      "image/png": "[encoded data removed]",
      "text/plain": [
       "<Figure size 432x288 with 1 Axes>"
      ]
     },
     "metadata": {},
     "output_type": "display_data"
    }
   ],
   "source": [
    "metric = ['euclidean', 'cosine', 'euclidean_weight', 'cosine_weight']\n",
    "euc_w = [np.mean(i[1]) for i in euclidean_accuracy_w.items()]\n",
    "cos_w = [np.mean(i[1]) for i in cosine_accuracy_w.items()]\n",
    "fig = plt.figure(figsize=(6, 4))\n",
    "ax = plt.subplot(111)\n",
    "ax.plot(k, euc, 'r', k, cos, 'b', k, euc_w, 'y', k, cos_w, 'g')\n",
    "#ax.plot(k, euc_w, 'rs', k, cos_w, 'bs')\n",
    "ax.set_xlabel('число соседей')\n",
    "ax.set_ylabel('доля правильно предсказанных ответов')\n",
    "ax.set_title(\"зависимость точности от числа соседей\")\n",
    "ax.legend(metric)\n",
    "\n",
    "ax.grid()\n",
    "\n",
    "fig.savefig(\"fig3.pdf\")"
   ]
  },
  {
   "cell_type": "code",
   "execution_count": 102,
   "metadata": {},
   "outputs": [
    {
     "data": {
      "image/png": "[encoded data removed]",
      "text/plain": [
       "<Figure size 432x288 with 1 Axes>"
      ]
     },
     "metadata": {},
     "output_type": "display_data"
    }
   ],
   "source": [
    "metric = ['euclidean_weight', 'cosine_weight']\n",
    "euc_w = [np.mean(i[1]) for i in euclidean_accuracy_w.items()]\n",
    "cos_w = [np.mean(i[1]) for i in cosine_accuracy_w.items()]\n",
    "fig = plt.figure(figsize=(6, 4))\n",
    "ax = plt.subplot(111)\n",
    "ax.plot(k, euc_w, 'y', k, cos_w, 'g')\n",
    "#ax.plot(k, euc_w, 'rs', k, cos_w, 'bs')\n",
    "ax.set_xlabel('число соседей')\n",
    "ax.set_ylabel('доля правильно предсказанных ответов')\n",
    "ax.set_title(\"зависимость точности от числа соседей\")\n",
    "ax.legend(metric)\n",
    "\n",
    "ax.grid()\n",
    "\n",
    "fig.savefig(\"fig44.pdf\")"
   ]
  },
  {
   "cell_type": "code",
   "execution_count": null,
   "metadata": {},
   "outputs": [],
   "source": [
    "k = np.arange(1, 11).astype(int)\n",
    "\n",
    "euc_time_w =  cross_val_clock(X_train, y_train, k = 10, strategy = 'brute', \n",
    "                            metric = 'euclidean', weights = True, \n",
    "                            test_block_size = 1024)\n",
    "print(1)"
   ]
  },
  {
   "cell_type": "code",
   "execution_count": 36,
   "metadata": {},
   "outputs": [],
   "source": [
    "cos_time_w = cross_val_clock(X_train, y_train, k = 10, strategy = 'brute', \n",
    "                            metric = 'cosine', weights = True, \n",
    "                            test_block_size = 1024)"
   ]
  },
  {
   "cell_type": "code",
   "execution_count": 26,
   "metadata": {},
   "outputs": [
    {
     "data": {
      "text/plain": [
       "128.9846315000001"
      ]
     },
     "execution_count": 26,
     "metadata": {},
     "output_type": "execute_result"
    }
   ],
   "source": [
    "euc_time_w"
   ]
  },
  {
   "cell_type": "code",
   "execution_count": 37,
   "metadata": {},
   "outputs": [
    {
     "data": {
      "text/plain": [
       "161.9320227000003"
      ]
     },
     "execution_count": 37,
     "metadata": {},
     "output_type": "execute_result"
    }
   ],
   "source": [
    "cos_time_w"
   ]
  },
  {
   "cell_type": "code",
   "execution_count": 39,
   "metadata": {},
   "outputs": [
    {
     "data": {
      "image/png": "[encoded data removed]",
      "text/plain": [
       "<Figure size 432x288 with 1 Axes>"
      ]
     },
     "metadata": {},
     "output_type": "display_data"
    }
   ],
   "source": [
    "fig = plt.figure(figsize=(6, 4))\n",
    "ax = plt.subplot(111)\n",
    "ax.bar(np.arange(1), [euc_time_w], 0.2, color = 'y')\n",
    "ax.bar(np.arange(1) - 0.3, [cos_time_w], width = 0.2, color = 'g')\n",
    "\n",
    "ax.set_xlabel('метрика')\n",
    "ax.set_ylabel('время, с')\n",
    "ax.set_title(\"зависимость времени работы модели от метрики\")\n",
    "ax.legend(['euclidean_weight', 'cosine_weight'])\n",
    "plt.xticks([-0.3, 0.0], ['cosine', 'euclidean'])\n",
    "fig.savefig(\"fig5.pdf\")"
   ]
  },
  {
   "cell_type": "code",
   "execution_count": 40,
   "metadata": {
    "scrolled": true
   },
   "outputs": [
    {
     "data": {
      "text/plain": [
       "([<matplotlib.axis.XTick at 0x21980dee208>,\n",
       "  <matplotlib.axis.XTick at 0x21980ddeb38>,\n",
       "  <matplotlib.axis.XTick at 0x21980dde898>,\n",
       "  <matplotlib.axis.XTick at 0x21980e1e278>],\n",
       " <a list of 4 Text xticklabel objects>)"
      ]
     },
     "execution_count": 40,
     "metadata": {},
     "output_type": "execute_result"
    },
    {
     "data": {
      "image/png": "[encoded data removed]",
      "text/plain": [
       "<Figure size 504x288 with 1 Axes>"
      ]
     },
     "metadata": {},
     "output_type": "display_data"
    }
   ],
   "source": [
    "fig = plt.figure(figsize=(7, 4))\n",
    "ax = plt.subplot(111)\n",
    "ax.bar(np.arange(1) - 0.2, [euc_time], width = 0.2, color = 'r')\n",
    "ax.bar(np.arange(1), [euc_time_w], width = 0.2, color = 'y')\n",
    "ax.bar(np.arange(1) + 0.3, [cos_time], width = 0.2, color = 'b')\n",
    "ax.bar(np.arange(1) + 0.5, [cos_time_w], width = 0.2, color = 'g')\n",
    "\n",
    "\n",
    "ax.set_xlabel('метрика')\n",
    "ax.set_ylabel('время, с')\n",
    "ax.set_title(\"зависимость времени работы модели от метрики\")\n",
    "ax.legend(['euclidean', 'eclidean + weight', 'cosine', 'cosine + weight'])\n",
    "plt.xticks([-0.2, 0.0, 0.3, 0.5], ['euclidean', 'eclidean + weight', 'cosine', 'cosine + weight'])\n"
   ]
  },
  {
   "cell_type": "code",
   "execution_count": 41,
   "metadata": {},
   "outputs": [],
   "source": [
    "fig.savefig(\"fig6.png\")"
   ]
  },
  {
   "cell_type": "markdown",
   "metadata": {},
   "source": [
    "4 - лучший алгоритм: brute cosine weight"
   ]
  },
  {
   "cell_type": "code",
   "execution_count": 117,
   "metadata": {},
   "outputs": [],
   "source": [
    "mnist = fetch_mldata('MNIST original')\n",
    "X_train = mnist.data[:60000]\n",
    "y_train = mnist.target[:60000]\n",
    "X_test = mnist.data[60000:]\n",
    "y_test = mnist.target[60000:]"
   ]
  },
  {
   "cell_type": "code",
   "execution_count": 118,
   "metadata": {},
   "outputs": [],
   "source": [
    "k_list = np.arange(1, 11)\n",
    "score = []\n",
    "for k in k_list:\n",
    "    m = KNNClassifier(k, 'brute', 'cosine', True, 1024)\n",
    "    m.fit(X_train, y_train)\n",
    "    res = m.predict(X_test)\n",
    "    score.append(np.mean(y_test == res))\n"
   ]
  },
  {
   "cell_type": "code",
   "execution_count": 127,
   "metadata": {},
   "outputs": [
    {
     "data": {
      "image/png": "[encoded data removed]",
      "text/plain": [
       "<Figure size 432x288 with 1 Axes>"
      ]
     },
     "metadata": {},
     "output_type": "display_data"
    }
   ],
   "source": [
    "fig = plt.figure(figsize=(6, 4))\n",
    "ax = plt.subplot(111)\n",
    "\n",
    "ax.plot(k_list, score, 'c')\n",
    "ax.set_xlabel('число соседей')\n",
    "ax.set_ylabel('доля правильно предсказанных ответов')\n",
    "ax.set_title(\"зависимость точности на тесте от числа соседей\")\n",
    "ax.grid()\n",
    "ax.legend(['cosine_weight'])\n",
    "ax.set_ylim(0.967, 0.976)\n",
    "plt.yticks(np.arange(0.968, 0.977, 0.002))\n",
    "\n",
    "fig.savefig(\"figure.pdf\")"
   ]
  },
  {
   "cell_type": "markdown",
   "metadata": {},
   "source": [
    "Лучшие результаты https://rodrigob.github.io/are_we_there_yet/build/classification_datasets_results.html#4d4e495354"
   ]
  },
  {
   "cell_type": "code",
   "execution_count": 79,
   "metadata": {},
   "outputs": [],
   "source": [
    "from sklearn import metrics"
   ]
  },
  {
   "cell_type": "code",
   "execution_count": 80,
   "metadata": {},
   "outputs": [
    {
     "data": {
      "text/plain": [
       "0.9752"
      ]
     },
     "execution_count": 80,
     "metadata": {},
     "output_type": "execute_result"
    }
   ],
   "source": [
    "m = KNNClassifier(4, 'brute', 'cosine', True, 1024)\n",
    "m.fit(X_train, y_train)\n",
    "res = m.predict(X_test)\n",
    "\n",
    "\n",
    "np.mean(y_test == res)"
   ]
  },
  {
   "cell_type": "code",
   "execution_count": 83,
   "metadata": {},
   "outputs": [
    {
     "data": {
      "text/plain": [
       "array([[ 977,    1,    0,    0,    0,    0,    1,    1,    0,    0],\n",
       "       [   0, 1129,    3,    1,    0,    0,    2,    0,    0,    0],\n",
       "       [   8,    0, 1009,    1,    1,    0,    0,    8,    5,    0],\n",
       "       [   0,    1,    3,  976,    1,   12,    0,    4,    9,    4],\n",
       "       [   2,    1,    0,    0,  946,    0,    6,    2,    0,   25],\n",
       "       [   4,    0,    0,    9,    1,  863,    7,    1,    4,    3],\n",
       "       [   3,    3,    0,    0,    1,    3,  948,    0,    0,    0],\n",
       "       [   2,   10,    4,    0,    1,    0,    0,  998,    0,   13],\n",
       "       [   7,    1,    2,    9,    3,    3,    5,    4,  936,    4],\n",
       "       [   7,    7,    2,    5,    7,    3,    1,    4,    3,  970]],\n",
       "      dtype=int64)"
      ]
     },
     "execution_count": 83,
     "metadata": {},
     "output_type": "execute_result"
    }
   ],
   "source": [
    "mist = metrics.confusion_matrix(y_test, res)\n",
    "mist"
   ]
  },
  {
   "cell_type": "markdown",
   "metadata": {},
   "source": [
    "By definition, entry $(i, j)$ in a confusion matrix is the number of observations actually in group $i$, but predicted to be in group $j$\n",
    "\n",
    "Основные ошибки $(4 -> 9)$; $(3 -> 5)$; $(7 -> 1)$; $(7->9)$"
   ]
  },
  {
   "cell_type": "code",
   "execution_count": 153,
   "metadata": {},
   "outputs": [
    {
     "data": {
      "image/png": "[encoded data removed]",
      "text/plain": [
       "<Figure size 576x720 with 4 Axes>"
      ]
     },
     "metadata": {},
     "output_type": "display_data"
    }
   ],
   "source": [
    "X = X_test[(y_test == 3) & (res == 5)][[6, 0, 11, 3]]\n",
    "fig, axs = plt.subplots(figsize=(8, 10), ncols = 4)\n",
    "for i in range(X.shape[0]):\n",
    "    axs[i].imshow(X[i].reshape(-1, 28),  cmap = 'Greys')\n",
    "    axs[i].axis(\"off\")\n"
   ]
  },
  {
   "cell_type": "code",
   "execution_count": 162,
   "metadata": {},
   "outputs": [
    {
     "data": {
      "image/png": "[encoded data removed]",
      "text/plain": [
       "<Figure size 576x360 with 4 Axes>"
      ]
     },
     "metadata": {},
     "output_type": "display_data"
    }
   ],
   "source": [
    "X = X_test[(y_test == 4) & (res == 9)][[4, 16, 23, 1]]\n",
    "fig, axs = plt.subplots(figsize=(8, 5), ncols = 4)\n",
    "for i in range(X.shape[0]):\n",
    "    axs[i].imshow(X[i].reshape(-1, 28), cmap = 'Greys')\n",
    "    axs[i].axis(\"off\")"
   ]
  },
  {
   "cell_type": "code",
   "execution_count": 166,
   "metadata": {},
   "outputs": [
    {
     "data": {
      "image/png": "[encoded data removed]",
      "text/plain": [
       "<Figure size 576x360 with 4 Axes>"
      ]
     },
     "metadata": {},
     "output_type": "display_data"
    }
   ],
   "source": [
    "X = X_test[(y_test == 7) & (res == 1)][[1, 4, 6, 9]]\n",
    "fig, axs = plt.subplots(figsize=(8, 5), ncols = 4)\n",
    "for i in range(X.shape[0]):\n",
    "    axs[i].imshow(X[i].reshape(-1, 28), cmap = 'Greys')\n",
    "    axs[i].axis(\"off\")"
   ]
  },
  {
   "cell_type": "code",
   "execution_count": 170,
   "metadata": {},
   "outputs": [
    {
     "data": {
      "image/png": "[encoded data removed]",
      "text/plain": [
       "<Figure size 576x360 with 4 Axes>"
      ]
     },
     "metadata": {},
     "output_type": "display_data"
    }
   ],
   "source": [
    "X = X_test[(y_test == 7) & (res == 9)][[6, 12, 0, 9]]\n",
    "fig, axs = plt.subplots(figsize=(8, 5), ncols = 4)\n",
    "for i in range(X.shape[0]):\n",
    "    axs[i].imshow(X[i].reshape(-1, 28), cmap = 'Greys')\n",
    "    axs[i].axis(\"off\")"
   ]
  },
  {
   "cell_type": "markdown",
   "metadata": {},
   "source": [
    "Ошибки связаны с изменением наклона, слиянием частей цифры, недорисованными линиями\n",
    "\n",
    "Эксперимент 5 - Размножение выборки"
   ]
  },
  {
   "cell_type": "code",
   "execution_count": 10,
   "metadata": {},
   "outputs": [],
   "source": [
    "changes = {'rotate', 'shift_lr', 'shift_ud', 'gauss'}\n",
    "rot = [0, 5, 10, 15]\n",
    "shift = [0, 1, 2, 3]\n",
    "gauss = [0, 0.5, 1, 1.5]\n"
   ]
  },
  {
   "cell_type": "code",
   "execution_count": 11,
   "metadata": {},
   "outputs": [],
   "source": [
    "def change_im(X_train, name, v):\n",
    "    X = np.copy(X_train)\n",
    "    \n",
    "    if name == 'gauss':\n",
    "        res = np.empty((X.shape[0] * 2, X.shape[1]))\n",
    "        res[0:X.shape[0]] = np.copy(X_train)\n",
    "        pos = X.shape[0]\n",
    "        for im in X:\n",
    "            res[pos] = filters.gaussian(im.reshape(-1, 28), v).reshape(1, -1)\n",
    "            pos += 1\n",
    "            \n",
    "    if name == 'rotate':\n",
    "        res = np.empty((X.shape[0] * 3, X.shape[1]))\n",
    "        res[0:X.shape[0]] = np.copy(X_train)\n",
    "        pos = X.shape[0]\n",
    "        for im in X:\n",
    "            res[pos] = transform.rotate(im.reshape(-1, 28), v).reshape(1, -1)\n",
    "            pos += 1     \n",
    "        for im in X:\n",
    "            res[pos] = transform.rotate(im.reshape(-1, 28), -v).reshape(1, -1)\n",
    "            pos += 1  \n",
    "            \n",
    "    if name == 'shift':\n",
    "        res = np.empty((X.shape[0] * 5, X.shape[1]))\n",
    "        res[0:X.shape[0]] = np.copy(X_train)\n",
    "        pos = X.shape[0]\n",
    "        for im in X:\n",
    "            tform = SimilarityTransform(translation=(0, v))\n",
    "            res[pos] = transform.warp(im.reshape(-1, 28), tform).reshape(1, -1)\n",
    "            pos += 1  \n",
    "        for im in X:\n",
    "            tform = SimilarityTransform(translation=(0, -v))\n",
    "            res[pos] = transform.warp(im.reshape(-1, 28), tform).reshape(1, -1)\n",
    "            pos += 1  \n",
    "        for im in X:\n",
    "            tform = SimilarityTransform(translation=(v, 0))\n",
    "            res[pos] = transform.warp(im.reshape(-1, 28), tform).reshape(1, -1)\n",
    "            pos += 1  \n",
    "        for im in X:\n",
    "            tform = SimilarityTransform(translation=(-v, 0))\n",
    "            res[pos] = transform.warp(im.reshape(-1, 28), tform).reshape(1, -1)\n",
    "            pos += 1  \n",
    "           \n",
    "    return res\n",
    "            \n",
    "        "
   ]
  },
  {
   "cell_type": "code",
   "execution_count": 12,
   "metadata": {},
   "outputs": [],
   "source": [
    "def cross_val(X_t, y_t, k=4, **kwargs):\n",
    "    \n",
    "    iters = 100\n",
    "    size = X_t.shape[0] * 2 // iters // 3 \n",
    "    \n",
    "    cv = kfold(X_t.shape[0], 3)\n",
    "    m = KNNClassifier(k, **kwargs)\n",
    "    \n",
    "    sc = []\n",
    "    pred = []\n",
    "\n",
    "    for fold in cv:\n",
    "        distance = np.empty((X_t.shape[0] // 3, k * iters))\n",
    "        classes = np.empty((X_t.shape[0] // 3, k * iters))        \n",
    "            \n",
    "        train = fold[0]\n",
    "        valid = fold[1]\n",
    "        x_val = X_t[valid]\n",
    "        y_val = y_t[valid].astype(int)\n",
    "        y_train = y_t[train].astype(int)\n",
    "        x_train = X_t[train]\n",
    "        \n",
    "    \n",
    "        for i in range(iters):\n",
    "            X = x_train[i * size: i * size + size, :]\n",
    "            y = y_train[i * size: i * size + size]\n",
    "            m.fit(X, y)\n",
    "            dist, idx = m.find_kneighbors(x_val, return_distance=True)\n",
    "            distance[:, i * k : i * k + k] = dist\n",
    "            classes[:, i * k : i * k + k] = y[idx]\n",
    "        \n",
    "        d1 = np.copy(distance)\n",
    "        dist = (np.sort(distance, axis=1))[:, :k]\n",
    "        cl = (np.argsort(d1, axis = 1))[:, :k]\n",
    "        classes = np.array([classes[i][j] for i, j  in enumerate(cl)]).astype(int)\n",
    "\n",
    "        classes = classes[:, :k]\n",
    "        w = 1/(dist + 1e-5)\n",
    "            \n",
    "            \n",
    "        p = np.array([np.bincount(classes[i], w[i]).argmax()\n",
    "                     for i in range(classes.shape[0])]).astype(int)\n",
    "\n",
    "        sc.append(([np.mean(y_val == p)]))\n",
    "        pred.append(p)\n",
    "    return sc, pred"
   ]
  },
  {
   "cell_type": "code",
   "execution_count": 13,
   "metadata": {},
   "outputs": [],
   "source": [
    "def cross_val_pred(X_t, y_t, x_val, y_val, k=4, **kwargs):\n",
    "    \n",
    "    iters = 100\n",
    "    size = X_t.shape[0] // iters\n",
    "    \n",
    "    m = KNNClassifier(k, **kwargs)\n",
    "\n",
    "    distance = np.empty((x_val.shape[0], k * iters))\n",
    "    classes = np.empty((x_val.shape[0], k * iters))        \n",
    "\n",
    "    y_train = y_t.astype(int)\n",
    "    x_train = X_t\n",
    "\n",
    "    for i in range(iters):\n",
    "        if  i % 10 == 0:\n",
    "            print (i)\n",
    "        X = x_train[i * size: i * size + size, :]\n",
    "        y = y_train[i * size: i * size + size]\n",
    "        m.fit(X, y)\n",
    "        dist, idx = m.find_kneighbors(x_val, return_distance=True)\n",
    "        distance[:, i * k : i * k + k] = dist\n",
    "        classes[:, i * k : i * k + k] = y[idx]\n",
    "\n",
    "    d1 = np.copy(distance)\n",
    "    dist = (np.sort(distance, axis=1))[:, :k]\n",
    "    cl = (np.argsort(d1, axis = 1))[:, :k]\n",
    "    classes = np.array([classes[i][j] for i, j  in enumerate(cl)]).astype(int)\n",
    "\n",
    "    classes = classes[:, :k]\n",
    "    w = 1/(dist + 1e-5)\n",
    "\n",
    "    p = np.array([np.bincount(classes[i], w[i]).argmax()\n",
    "                 for i in range(classes.shape[0])]).astype(int)\n",
    "\n",
    "    return np.mean(y_val == p), p"
   ]
  },
  {
   "cell_type": "code",
   "execution_count": 14,
   "metadata": {},
   "outputs": [],
   "source": [
    "mnist = fetch_mldata('MNIST original')\n",
    "X_train = mnist.data[:60000]\n",
    "y_train = mnist.target[:60000]\n",
    "\n",
    "X = np.hstack((X_train, y_train.reshape(-1, 1)))\n",
    "np.random.shuffle(X)\n",
    "X_train = X[:, :784]\n",
    "y_train = X[:, 784:]\n",
    "\n",
    "X_test = mnist.data[60000:]\n",
    "y_test = mnist.target[60000:]\n",
    "y_train = y_train.reshape(60000,)\n",
    "\n"
   ]
  },
  {
   "cell_type": "markdown",
   "metadata": {},
   "source": [
    "подбор параметров по  кросс-валидации в ноутбуке exp5!"
   ]
  },
  {
   "cell_type": "code",
   "execution_count": 38,
   "metadata": {},
   "outputs": [
    {
     "name": "stdout",
     "output_type": "stream",
     "text": [
      "1\n",
      "2\n"
     ]
    }
   ],
   "source": [
    "X = change_im(X_train, 'shift', 1)\n",
    "y = np.copy(y_train)\n",
    "for i in range(4):\n",
    "    y = np.concatenate((y, y_train))\n",
    "print(1)\n",
    "\n",
    "m = KNNClassifier(4, 'brute', 'cosine', True, 256)\n",
    "m.fit(X, y)\n",
    "print(2)\n",
    "res = m.predict(X_test)"
   ]
  },
  {
   "cell_type": "code",
   "execution_count": 39,
   "metadata": {},
   "outputs": [
    {
     "data": {
      "text/plain": [
       "0.9798"
      ]
     },
     "execution_count": 39,
     "metadata": {},
     "output_type": "execute_result"
    }
   ],
   "source": [
    "np.mean(res == y_test)"
   ]
  },
  {
   "cell_type": "code",
   "execution_count": 40,
   "metadata": {},
   "outputs": [],
   "source": [
    "res_shift = np.copy(res)"
   ]
  },
  {
   "cell_type": "code",
   "execution_count": 42,
   "metadata": {},
   "outputs": [
    {
     "data": {
      "text/plain": [
       "array([[ 977,    0,    0,    0,    0,    0,    2,    1,    0,    0],\n",
       "       [   0, 1132,    3,    0,    0,    0,    0,    0,    0,    0],\n",
       "       [   8,    0, 1011,    1,    0,    0,    2,    9,    1,    0],\n",
       "       [   1,    0,    1,  988,    0,    7,    0,    5,    6,    2],\n",
       "       [   1,    1,    0,    0,  951,    0,    5,    0,    1,   23],\n",
       "       [   3,    0,    0,   10,    1,  861,    6,    2,    6,    3],\n",
       "       [   3,    2,    0,    0,    0,    2,  951,    0,    0,    0],\n",
       "       [   2,    8,    4,    0,    2,    0,    0, 1002,    0,   10],\n",
       "       [   3,    0,    2,    6,    1,    4,    5,    4,  945,    4],\n",
       "       [   6,    6,    1,    3,    4,    3,    0,    4,    2,  980]],\n",
       "      dtype=int64)"
      ]
     },
     "execution_count": 42,
     "metadata": {},
     "output_type": "execute_result"
    }
   ],
   "source": [
    "mist_shift = metrics.confusion_matrix(y_test, res)\n",
    "mist_shift"
   ]
  },
  {
   "cell_type": "code",
   "execution_count": 49,
   "metadata": {},
   "outputs": [
    {
     "name": "stdout",
     "output_type": "stream",
     "text": [
      "1\n",
      "2\n"
     ]
    }
   ],
   "source": [
    "X = change_im(X_train, 'rotate', 10)\n",
    "y = np.copy(y_train)\n",
    "for i in range(2):\n",
    "    y = np.concatenate((y, y_train))\n",
    "print(1)\n",
    "\n",
    "m = KNNClassifier(4, 'brute', 'cosine', True, 256)\n",
    "m.fit(X, y)\n",
    "print(2)\n",
    "res = m.predict(X_test)"
   ]
  },
  {
   "cell_type": "code",
   "execution_count": 50,
   "metadata": {},
   "outputs": [
    {
     "data": {
      "text/plain": [
       "0.9813"
      ]
     },
     "execution_count": 50,
     "metadata": {},
     "output_type": "execute_result"
    }
   ],
   "source": [
    "np.mean(res == y_test)"
   ]
  },
  {
   "cell_type": "code",
   "execution_count": 52,
   "metadata": {},
   "outputs": [
    {
     "data": {
      "text/plain": [
       "array([[ 976,    1,    0,    0,    0,    0,    2,    1,    0,    0],\n",
       "       [   0, 1132,    2,    0,    0,    0,    0,    1,    0,    0],\n",
       "       [   6,    2, 1008,    2,    1,    0,    1,   10,    2,    0],\n",
       "       [   0,    0,    1,  986,    1,    7,    0,    3,    7,    5],\n",
       "       [   1,    0,    0,    0,  952,    0,    5,    2,    0,   22],\n",
       "       [   3,    0,    0,    6,    1,  874,    3,    2,    1,    2],\n",
       "       [   2,    3,    0,    0,    0,    1,  951,    0,    1,    0],\n",
       "       [   2,    7,    3,    0,    0,    0,    0, 1008,    0,    8],\n",
       "       [   2,    0,    3,    5,    4,    3,    2,    3,  947,    5],\n",
       "       [   4,    4,    1,    5,    5,    2,    1,    5,    3,  979]],\n",
       "      dtype=int64)"
      ]
     },
     "execution_count": 52,
     "metadata": {},
     "output_type": "execute_result"
    }
   ],
   "source": [
    "res_rot_10= np.copy(res)\n",
    "mist_rot_10 = metrics.confusion_matrix(y_test, res)\n",
    "mist_rot_10"
   ]
  },
  {
   "cell_type": "code",
   "execution_count": 61,
   "metadata": {},
   "outputs": [
    {
     "name": "stdout",
     "output_type": "stream",
     "text": [
      "1\n",
      "2\n"
     ]
    }
   ],
   "source": [
    "X = change_im(X_train, 'gauss', 1)\n",
    "y = np.copy(y_train)\n",
    "for i in range(1):\n",
    "    y = np.concatenate((y, y_train))\n",
    "print(1)\n",
    "\n",
    "m = KNNClassifier(4, 'brute', 'cosine', True, 256)\n",
    "m.fit(X, y)\n",
    "print(2)\n",
    "res = m.predict(X_test)"
   ]
  },
  {
   "cell_type": "code",
   "execution_count": 62,
   "metadata": {},
   "outputs": [
    {
     "data": {
      "text/plain": [
       "0.9813"
      ]
     },
     "execution_count": 62,
     "metadata": {},
     "output_type": "execute_result"
    }
   ],
   "source": [
    "np.mean(res == y_test)"
   ]
  },
  {
   "cell_type": "code",
   "execution_count": 63,
   "metadata": {},
   "outputs": [
    {
     "data": {
      "text/plain": [
       "array([[ 977,    1,    0,    0,    0,    0,    0,    2,    0,    0],\n",
       "       [   0, 1130,    3,    0,    0,    0,    2,    0,    0,    0],\n",
       "       [   7,    1, 1006,    2,    1,    0,    1,   12,    2,    0],\n",
       "       [   0,    0,    1,  986,    1,    9,    0,    4,    5,    4],\n",
       "       [   0,    0,    0,    0,  960,    0,    4,    3,    0,   15],\n",
       "       [   2,    1,    0,    6,    1,  872,    4,    1,    2,    3],\n",
       "       [   3,    3,    0,    0,    1,    3,  948,    0,    0,    0],\n",
       "       [   0,    7,    6,    0,    3,    1,    0, 1003,    0,    8],\n",
       "       [   3,    0,    1,    3,    3,    3,    3,    4,  951,    3],\n",
       "       [   2,    4,    0,    2,    8,    3,    1,    7,    2,  980]],\n",
       "      dtype=int64)"
      ]
     },
     "execution_count": 63,
     "metadata": {},
     "output_type": "execute_result"
    }
   ],
   "source": [
    "res_gauss1 = np.copy(res)\n",
    "mist_gauss1 = metrics.confusion_matrix(y_test, res)\n",
    "mist_gauss1"
   ]
  },
  {
   "cell_type": "code",
   "execution_count": 9,
   "metadata": {},
   "outputs": [],
   "source": [
    "\n",
    "def change_im_rand_best(X_train):\n",
    "    rot = [-15, -10,-5, 5, 10, 15]\n",
    "    shift = [-3, -2, -1, 1, 2, 3]\n",
    "    gauss = [1, 1.5, 0.5]\n",
    "    X = np.copy(X_train)\n",
    "    \n",
    "    a = random.randint(1, 3)\n",
    "    res = np.empty((X.shape[0] * 4, X.shape[1]))\n",
    "    res[0:X.shape[0]] = np.copy(X_train)\n",
    "    pos = X.shape[0]\n",
    "    \n",
    "    for i in range(3):\n",
    "        for im in X:\n",
    "            if a == 1: #gauss\n",
    "                b = random.randint(0, 1)\n",
    "                res[pos] = filters.gaussian(im.reshape(-1, 28), gauss[b]).reshape(1, -1)\n",
    "                pos += 1\n",
    "\n",
    "            if a == 2: #rotate\n",
    "                b = random.randint(0, 3)\n",
    "                res[pos] = transform.rotate(im.reshape(-1, 28), rot[b]).reshape(1, -1)\n",
    "                pos += 1     \n",
    "\n",
    "            if a == 3: #shift\n",
    "                b = random.randint(0, 5)\n",
    "                c = random.randint(0, 5)\n",
    "                d = random.randint(0, 1)\n",
    "                if d == 0:\n",
    "                    b = 0\n",
    "                else:\n",
    "                    c = 0\n",
    "                tform = SimilarityTransform(translation=(shift[b], shift[c]))\n",
    "                res[pos] = transform.warp(im.reshape(-1, 28), tform).reshape(1, -1)\n",
    "                pos += 1  \n",
    "           \n",
    "    return res\n",
    "            \n",
    "        "
   ]
  },
  {
   "cell_type": "code",
   "execution_count": 66,
   "metadata": {},
   "outputs": [
    {
     "name": "stdout",
     "output_type": "stream",
     "text": [
      "1\n",
      "2\n"
     ]
    }
   ],
   "source": [
    "X = change_im_rand_best(X_train)\n",
    "y = np.copy(y_train)\n",
    "for i in range(3):\n",
    "    y = np.concatenate((y, y_train))\n",
    "print(1)\n",
    "\n",
    "m = KNNClassifier(4, 'brute', 'cosine', True, 256)\n",
    "m.fit(X, y)\n",
    "print(2)\n",
    "res = m.predict(X_test)"
   ]
  },
  {
   "cell_type": "code",
   "execution_count": 67,
   "metadata": {},
   "outputs": [
    {
     "data": {
      "text/plain": [
       "0.9787"
      ]
     },
     "execution_count": 67,
     "metadata": {},
     "output_type": "execute_result"
    }
   ],
   "source": [
    "np.mean(res == y_test)"
   ]
  },
  {
   "cell_type": "code",
   "execution_count": 68,
   "metadata": {},
   "outputs": [
    {
     "data": {
      "text/plain": [
       "array([[ 975,    1,    0,    0,    0,    1,    1,    1,    1,    0],\n",
       "       [   0, 1131,    2,    0,    0,    1,    1,    0,    0,    0],\n",
       "       [   6,    2, 1006,    3,    1,    0,    1,   11,    2,    0],\n",
       "       [   0,    0,    1,  983,    1,   10,    0,    5,    5,    5],\n",
       "       [   0,    0,    0,    0,  957,    0,    4,    3,    1,   17],\n",
       "       [   1,    2,    0,    9,    1,  868,    5,    1,    2,    3],\n",
       "       [   3,    3,    0,    0,    1,    3,  947,    0,    1,    0],\n",
       "       [   0,    7,    4,    2,    4,    0,    1, 1000,    0,   10],\n",
       "       [   2,    0,    5,    7,    3,    5,    5,    3,  940,    4],\n",
       "       [   2,    4,    0,    1,   10,    4,    0,    6,    2,  980]],\n",
       "      dtype=int64)"
      ]
     },
     "execution_count": 68,
     "metadata": {},
     "output_type": "execute_result"
    }
   ],
   "source": [
    "res_rand = np.copy(res)\n",
    "mist_rand = metrics.confusion_matrix(y_test, res)\n",
    "mist_rand"
   ]
  },
  {
   "cell_type": "code",
   "execution_count": 97,
   "metadata": {},
   "outputs": [],
   "source": [
    "\n",
    "def change_im_all(X_train):\n",
    "    rot = [-10, 10]\n",
    "    shift = [-1,0, 1]\n",
    "    gauss = [1]\n",
    "    X = np.copy(X_train)\n",
    "    \n",
    "    res = np.empty((X.shape[0] * 8, X.shape[1]))\n",
    "    res[0:X.shape[0]] = np.copy(X_train)\n",
    "    pos = X.shape[0]\n",
    "    \n",
    "    for im in X:\n",
    "        res[pos] = filters.gaussian(im.reshape(-1, 28), 1).reshape(1, -1)\n",
    "        pos += 1\n",
    "            \n",
    "    for im in X:\n",
    "        res[pos] = transform.rotate(im.reshape(-1, 28), -10).reshape(1, -1)\n",
    "        pos += 1\n",
    "    for im in X:\n",
    "        res[pos] = transform.rotate(im.reshape(-1, 28), 10).reshape(1, -1)\n",
    "        pos += 1\n",
    "\n",
    "        \n",
    "    for im in X:\n",
    "        tform = SimilarityTransform(translation=(0, 1))\n",
    "        res[pos] = transform.warp(im.reshape(-1, 28), tform).reshape(1, -1)\n",
    "        pos += 1  \n",
    "    for im in X:\n",
    "        tform = SimilarityTransform(translation=(1, 0))\n",
    "        res[pos] = transform.warp(im.reshape(-1, 28), tform).reshape(1, -1)\n",
    "        pos += 1 \n",
    "    for im in X:\n",
    "        tform = SimilarityTransform(translation=(-1, 0))\n",
    "        res[pos] = transform.warp(im.reshape(-1, 28), tform).reshape(1, -1)\n",
    "        pos += 1             \n",
    "    for im in X:\n",
    "        tform = SimilarityTransform(translation=(0, -1))\n",
    "        res[pos] = transform.warp(im.reshape(-1, 28), tform).reshape(1, -1)\n",
    "        pos += 1 \n",
    "           \n",
    "    return res\n",
    "            \n",
    "        "
   ]
  },
  {
   "cell_type": "code",
   "execution_count": 98,
   "metadata": {},
   "outputs": [
    {
     "name": "stdout",
     "output_type": "stream",
     "text": [
      "1\n",
      "2\n"
     ]
    }
   ],
   "source": [
    "X = change_im_all(X_train)\n",
    "y = np.copy(y_train)\n",
    "for i in range(7):\n",
    "    y = np.concatenate((y, y_train))\n",
    "print(1)\n",
    "\n",
    "m = KNNClassifier(4, 'brute', 'cosine', True, 128)\n",
    "m.fit(X, y)\n",
    "print(2)\n",
    "res = m.predict(X_test)"
   ]
  },
  {
   "cell_type": "code",
   "execution_count": 99,
   "metadata": {},
   "outputs": [
    {
     "data": {
      "text/plain": [
       "0.985"
      ]
     },
     "execution_count": 99,
     "metadata": {},
     "output_type": "execute_result"
    }
   ],
   "source": [
    "np.mean(res == y_test)"
   ]
  },
  {
   "cell_type": "code",
   "execution_count": 100,
   "metadata": {},
   "outputs": [
    {
     "data": {
      "text/plain": [
       "array([[ 976,    0,    0,    0,    0,    0,    3,    1,    0,    0],\n",
       "       [   0, 1132,    3,    0,    0,    0,    0,    0,    0,    0],\n",
       "       [   5,    1, 1013,    0,    1,    0,    2,   10,    0,    0],\n",
       "       [   0,    0,    2,  992,    1,    4,    0,    3,    4,    4],\n",
       "       [   0,    0,    0,    0,  962,    0,    4,    2,    0,   14],\n",
       "       [   2,    0,    0,    5,    1,  875,    6,    1,    0,    2],\n",
       "       [   2,    2,    0,    0,    0,    1,  953,    0,    0,    0],\n",
       "       [   1,    7,    4,    0,    0,    0,    0, 1009,    0,    7],\n",
       "       [   2,    0,    3,    2,    2,    4,    3,    4,  952,    2],\n",
       "       [   1,    3,    1,    3,    5,    2,    1,    4,    3,  986]],\n",
       "      dtype=int64)"
      ]
     },
     "execution_count": 100,
     "metadata": {},
     "output_type": "execute_result"
    }
   ],
   "source": [
    "res_best = np.copy(res)\n",
    "mist_best = metrics.confusion_matrix(y_test, res)\n",
    "mist_best"
   ]
  },
  {
   "cell_type": "markdown",
   "metadata": {},
   "source": [
    "ЭКСПЕРИМЕНТ 6"
   ]
  },
  {
   "cell_type": "code",
   "execution_count": 15,
   "metadata": {},
   "outputs": [],
   "source": [
    "mnist = fetch_mldata('MNIST original')\n",
    "X_train = mnist.data[:60000]\n",
    "y_train = mnist.target[:60000]\n",
    "\n",
    "X_test = mnist.data[60000:]\n",
    "y_test = mnist.target[60000:]\n"
   ]
  },
  {
   "cell_type": "code",
   "execution_count": 16,
   "metadata": {},
   "outputs": [],
   "source": [
    "m = KNNClassifier(4, 'brute', 'cosine', True, 1024)\n",
    "m.fit(X_train, y_train)\n",
    "\n",
    "n_simple, idx_simple = m.find_kneighbors(X_test, True)\n"
   ]
  },
  {
   "cell_type": "code",
   "execution_count": 32,
   "metadata": {},
   "outputs": [],
   "source": [
    "X_test_g_0 = change_im(X_test,  'gauss', 0.5)[10000:]\n",
    "\n",
    "n_g0, idx_g0 = m.find_kneighbors(X_test_g_0, True)\n"
   ]
  },
  {
   "cell_type": "code",
   "execution_count": null,
   "metadata": {},
   "outputs": [],
   "source": [
    "X_test_r = change_im(X_test, 'rotate', 10)\n",
    "X_test_r_1 = X_test_r[10000:20000]\n",
    "X_test_r_2 = X_test_r[20000:]\n",
    "\n",
    "X_test_s = change_im(X_test, 'shift', 1)\n",
    "X_test_s_1 = X_test_s[10000:20000]\n",
    "X_test_s_2 = X_test_s[20000:30000]\n",
    "X_test_s_3 = X_test_s[30000:40000]\n",
    "X_test_s_4 = X_test_s[40000:]"
   ]
  },
  {
   "cell_type": "code",
   "execution_count": 8,
   "metadata": {},
   "outputs": [
    {
     "name": "stdout",
     "output_type": "stream",
     "text": [
      "1\n",
      "2\n",
      "2\n",
      "2\n"
     ]
    },
    {
     "name": "stderr",
     "output_type": "stream",
     "text": [
      "\n",
      "KeyboardInterrupt\n",
      "\n"
     ]
    }
   ],
   "source": [
    "m = KNNClassifier(4, 'brute', 'cosine', True, 256)\n",
    "m.fit(X_train, y_train)\n",
    "n_g1, idx_g1 = m.find_kneighbors(X_test_g_1, True)\n",
    "print(1)\n",
    "n_r1, idx_r1 = m.find_kneighbors(X_test_r_1, True)\n",
    "print(2)\n",
    "n_r2, idx_r2 = m.find_kneighbors(X_test_r_2, True)\n",
    "print(2)\n",
    "n_s1, idx_s1 = m.find_kneighbors(X_test_s_1, True)\n",
    "print(2)\n",
    "n_s2, idx_s2 = m.find_kneighbors(X_test_s_2, True)\n",
    "print(2)\n",
    "n_s3, idx_s3 = m.find_kneighbors(X_test_s_3, True)\n",
    "print(2)\n",
    "n_s4, idx_s4 = m.find_kneighbors(X_test_s_4, True)"
   ]
  },
  {
   "cell_type": "code",
   "execution_count": 16,
   "metadata": {},
   "outputs": [],
   "source": [
    "np.savetxt('n_g1.txt', n_g1)\n",
    "np.savetxt('idx_g1.txt', idx_g1)\n",
    "np.savetxt('n_r1.txt', n_r1)\n",
    "np.savetxt('idx_r1.txt', idx_r1)\n",
    "np.savetxt('n_r2.txt', n_r2)\n",
    "np.savetxt('idx_r2.txt', idx_r2)\n",
    "np.savetxt('n_s1.txt', n_s1)\n",
    "np.savetxt('idx_s1.txt', idx_s1)"
   ]
  },
  {
   "cell_type": "code",
   "execution_count": 8,
   "metadata": {},
   "outputs": [],
   "source": [
    "X_test_s = change_im(X_test, 'shift', 1)\n",
    "X_test_s_2 = X_test_s[20000:30000]\n",
    "X_test_s_3 = X_test_s[30000:40000]\n",
    "X_test_s_4 = X_test_s[40000:]"
   ]
  },
  {
   "cell_type": "code",
   "execution_count": 10,
   "metadata": {},
   "outputs": [
    {
     "name": "stdout",
     "output_type": "stream",
     "text": [
      "2\n",
      "2\n"
     ]
    }
   ],
   "source": [
    "n_s2, idx_s2 = m.find_kneighbors(X_test_s_2, True)\n",
    "print(2)\n",
    "n_s3, idx_s3 = m.find_kneighbors(X_test_s_3, True)\n",
    "print(2)\n",
    "n_s4, idx_s4 = m.find_kneighbors(X_test_s_4, True)"
   ]
  },
  {
   "cell_type": "code",
   "execution_count": 11,
   "metadata": {},
   "outputs": [],
   "source": [
    "np.savetxt('n_s3.txt', n_s3)\n",
    "np.savetxt('idx_s3.txt', idx_s3)\n",
    "np.savetxt('n_s2.txt', n_s2)\n",
    "np.savetxt('idx_s2.txt', idx_s2)\n",
    "np.savetxt('n_s4.txt', n_s4)\n",
    "np.savetxt('idx_s4.txt', idx_s4)"
   ]
  },
  {
   "cell_type": "code",
   "execution_count": 20,
   "metadata": {},
   "outputs": [],
   "source": [
    "n_s1 = np.loadtxt('n_s1.txt')\n",
    "n_g1 = np.loadtxt('n_g1.txt')\n",
    "n_r1 = np.loadtxt('n_r1.txt')\n",
    "n_r2 = np.loadtxt('n_r2.txt')\n",
    "n_s2 = np.loadtxt('n_s2.txt')\n",
    "n_s3 = np.loadtxt('n_s3.txt')\n",
    "n_s4 = np.loadtxt('n_s4.txt')\n",
    "n_simple = np.loadtxt('n_simple.txt')"
   ]
  },
  {
   "cell_type": "code",
   "execution_count": 21,
   "metadata": {},
   "outputs": [],
   "source": [
    "idx_s1 = np.loadtxt('idx_s1.txt').astype(int)\n",
    "idx_g1 = np.loadtxt('idx_g1.txt').astype(int)\n",
    "idx_r1 = np.loadtxt('idx_r1.txt').astype(int)\n",
    "idx_r2 = np.loadtxt('idx_r2.txt').astype(int)\n",
    "idx_s2 = np.loadtxt('idx_s2.txt').astype(int)\n",
    "idx_s3 = np.loadtxt('idx_s3.txt').astype(int)\n",
    "idx_s4 = np.loadtxt('idx_s4.txt').astype(int)\n",
    "idx_simple = np.loadtxt('idx_simple.txt').astype(int)"
   ]
  },
  {
   "cell_type": "code",
   "execution_count": 22,
   "metadata": {},
   "outputs": [
    {
     "data": {
      "text/plain": [
       "array([[0.08318465, 0.0890482 , 0.09158651, 0.09171059],\n",
       "       [0.09213061, 0.09344634, 0.09726536, 0.10070936],\n",
       "       [0.06469561, 0.06586902, 0.07147202, 0.07286567],\n",
       "       ...,\n",
       "       [0.09368245, 0.11120276, 0.11308583, 0.11331232],\n",
       "       [0.08279892, 0.08741861, 0.09845767, 0.10005554],\n",
       "       [0.08249539, 0.08304616, 0.09005209, 0.09356169]])"
      ]
     },
     "execution_count": 22,
     "metadata": {},
     "output_type": "execute_result"
    }
   ],
   "source": [
    "y_s1 = y_train[idx_s1]\n",
    "y_s2 = y_train[idx_s2]\n",
    "y_s3 = y_train[idx_s3]\n",
    "y_s4 = y_train[idx_s4]\n",
    "y_g1 = y_train[idx_g1]\n",
    "y_r1 = y_train[idx_r1]\n",
    "y_r2 = y_train[idx_r2]\n",
    "y_simple = y_train[idx_simple]\n",
    "n_s1\n",
    "n_s2\n",
    "n_s3\n",
    "n_s4\n",
    "n_g1\n",
    "n_r1\n",
    "n_r2\n",
    "n_simple"
   ]
  },
  {
   "cell_type": "code",
   "execution_count": 23,
   "metadata": {},
   "outputs": [],
   "source": [
    "def score_mean(distance, classes, y_val):\n",
    "    d1 = np.copy(distance)\n",
    "    dist = (np.sort(distance, axis=1))[:, :4]\n",
    "    cl = (np.argsort(d1, axis = 1))[:, :4]\n",
    "    classes = np.array([classes[i][j] for i, j  in enumerate(cl)]).astype(int)\n",
    "\n",
    "    classes = classes[:, :4]\n",
    "    w = 1/(dist + 1e-5)\n",
    "\n",
    "    p = np.array([np.bincount(classes[i], w[i]).argmax()\n",
    "                 for i in range(classes.shape[0])]).astype(int)\n",
    "\n",
    "    return p, np.mean(y_val == p)"
   ]
  },
  {
   "cell_type": "code",
   "execution_count": 39,
   "metadata": {},
   "outputs": [
    {
     "data": {
      "text/plain": [
       "0.9632"
      ]
     },
     "execution_count": 39,
     "metadata": {},
     "output_type": "execute_result"
    }
   ],
   "source": [
    "n1 = np.hstack((n_simple, n_g1))\n",
    "y1 = np.hstack((y_simple, y_train[idx_g1]))\n",
    "p, m = score_mean(n1, y1, y_test)\n",
    "m"
   ]
  },
  {
   "cell_type": "code",
   "execution_count": 40,
   "metadata": {},
   "outputs": [
    {
     "data": {
      "text/plain": [
       "array([[ 976,    1,    0,    0,    0,    0,    1,    1,    1,    0],\n",
       "       [   0, 1130,    2,    2,    0,    0,    1,    0,    0,    0],\n",
       "       [  12,    0,  998,    2,    0,    0,    2,    9,    9,    0],\n",
       "       [   2,    2,    4,  971,    0,    7,    0,    5,   13,    6],\n",
       "       [   4,    3,    2,    0,  908,    0,   11,    2,    2,   50],\n",
       "       [  10,    2,    0,   17,    1,  832,   14,    0,   10,    6],\n",
       "       [   7,    4,    0,    0,    2,    1,  943,    0,    1,    0],\n",
       "       [   4,   17,    9,    0,    1,    0,    0,  980,    1,   16],\n",
       "       [   7,    9,    3,    4,    2,    3,    4,    7,  933,    2],\n",
       "       [  10,   10,    1,    3,    4,    2,    1,    7,   10,  961]],\n",
       "      dtype=int64)"
      ]
     },
     "execution_count": 40,
     "metadata": {},
     "output_type": "execute_result"
    }
   ],
   "source": [
    "metrics.confusion_matrix(y_test, p)"
   ]
  },
  {
   "cell_type": "code",
   "execution_count": 24,
   "metadata": {},
   "outputs": [
    {
     "data": {
      "text/plain": [
       "0.9765"
      ]
     },
     "execution_count": 24,
     "metadata": {},
     "output_type": "execute_result"
    }
   ],
   "source": [
    "n1 = np.hstack((n_simple, n_r0))\n",
    "y1 = np.hstack((y_simple, y_train[idx_r0]))\n",
    "n1 = np.hstack((n1, n_r00))\n",
    "y1 = np.hstack((y1, y_train[idx_r00]))\n",
    "p, m = score_mean(n1, y1, y_test)\n",
    "m"
   ]
  },
  {
   "cell_type": "code",
   "execution_count": 40,
   "metadata": {},
   "outputs": [
    {
     "data": {
      "text/plain": [
       "array([[ 978,    1,    0,    0,    0,    0,    0,    1,    0,    0],\n",
       "       [   0, 1129,    3,    1,    0,    1,    1,    0,    0,    0],\n",
       "       [   9,    0, 1004,    1,    1,    0,    2,    9,    6,    0],\n",
       "       [   0,    1,    1,  981,    1,    9,    0,    4,    9,    4],\n",
       "       [   2,    1,    0,    0,  943,    0,    6,    2,    1,   27],\n",
       "       [   3,    1,    0,   14,    1,  848,   10,    1,    8,    6],\n",
       "       [   3,    2,    0,    0,    2,    3,  948,    0,    0,    0],\n",
       "       [   3,   10,    7,    0,    2,    0,    0,  994,    0,   12],\n",
       "       [   7,    2,    2,   11,    2,    1,    5,    4,  937,    3],\n",
       "       [   7,    7,    1,    3,    9,    3,    1,    7,    4,  967]],\n",
       "      dtype=int64)"
      ]
     },
     "execution_count": 40,
     "metadata": {},
     "output_type": "execute_result"
    }
   ],
   "source": [
    "metrics.confusion_matrix(y_test, p)"
   ]
  },
  {
   "cell_type": "code",
   "execution_count": 25,
   "metadata": {},
   "outputs": [
    {
     "data": {
      "text/plain": [
       "0.9802"
      ]
     },
     "execution_count": 25,
     "metadata": {},
     "output_type": "execute_result"
    }
   ],
   "source": [
    "n1 = np.hstack((n_simple, n_r1))\n",
    "n1 = np.hstack((n1, n_r2))\n",
    "y1 = np.hstack((y_simple, y_r1))\n",
    "y1 = np.hstack((y1, y_r2))\n",
    "p, m = score_mean(n1, y1, y_test)\n",
    "m"
   ]
  },
  {
   "cell_type": "code",
   "execution_count": 26,
   "metadata": {},
   "outputs": [
    {
     "data": {
      "text/plain": [
       "array([[ 976,    1,    0,    0,    0,    0,    2,    1,    0,    0],\n",
       "       [   0, 1132,    2,    1,    0,    0,    0,    0,    0,    0],\n",
       "       [   6,    2, 1009,    1,    1,    0,    0,   10,    3,    0],\n",
       "       [   0,    0,    3,  988,    1,    5,    0,    3,    6,    4],\n",
       "       [   1,    1,    0,    0,  945,    0,    6,    2,    0,   27],\n",
       "       [   2,    0,    0,    6,    1,  869,    6,    3,    2,    3],\n",
       "       [   3,    2,    0,    0,    0,    0,  952,    0,    1,    0],\n",
       "       [   2,    7,    4,    0,    0,    0,    0, 1005,    0,   10],\n",
       "       [   1,    0,    1,    5,    3,    3,    0,    3,  953,    5],\n",
       "       [   4,    5,    2,    4,    6,    3,    1,    7,    4,  973]],\n",
       "      dtype=int64)"
      ]
     },
     "execution_count": 26,
     "metadata": {},
     "output_type": "execute_result"
    }
   ],
   "source": [
    "metrics.confusion_matrix(y_test, p)"
   ]
  },
  {
   "cell_type": "code",
   "execution_count": 48,
   "metadata": {},
   "outputs": [
    {
     "data": {
      "text/plain": [
       "0.9798"
      ]
     },
     "execution_count": 48,
     "metadata": {},
     "output_type": "execute_result"
    }
   ],
   "source": [
    "n1 = np.hstack((n_simple, n_s1))\n",
    "n1 = np.hstack((n1, n_s2))\n",
    "n1 = np.hstack((n1, n_s3))\n",
    "n1 = np.hstack((n1, n_s4))\n",
    "y1 = np.hstack((y_simple, y_s1))\n",
    "y1 = np.hstack((y1, y_s2))\n",
    "y1 = np.hstack((y1, y_s3))\n",
    "y1 = np.hstack((y1, y_s4))\n",
    "\n",
    "p, m = score_mean(n1, y1, y_test)\n",
    "m"
   ]
  },
  {
   "cell_type": "code",
   "execution_count": 49,
   "metadata": {},
   "outputs": [
    {
     "data": {
      "text/plain": [
       "array([[ 977,    0,    0,    0,    0,    0,    2,    1,    0,    0],\n",
       "       [   0, 1132,    3,    0,    0,    0,    0,    0,    0,    0],\n",
       "       [   8,    0, 1011,    1,    0,    0,    2,    9,    1,    0],\n",
       "       [   1,    0,    1,  988,    0,    7,    0,    5,    6,    2],\n",
       "       [   1,    1,    0,    0,  951,    0,    5,    0,    1,   23],\n",
       "       [   3,    0,    0,   10,    1,  861,    6,    2,    6,    3],\n",
       "       [   3,    2,    0,    0,    0,    2,  951,    0,    0,    0],\n",
       "       [   2,    8,    4,    0,    2,    0,    0, 1002,    0,   10],\n",
       "       [   3,    0,    2,    6,    1,    4,    5,    4,  945,    4],\n",
       "       [   6,    6,    1,    3,    4,    3,    0,    4,    2,  980]],\n",
       "      dtype=int64)"
      ]
     },
     "execution_count": 49,
     "metadata": {},
     "output_type": "execute_result"
    }
   ],
   "source": [
    "metrics.confusion_matrix(y_test, p)"
   ]
  },
  {
   "cell_type": "code",
   "execution_count": 42,
   "metadata": {},
   "outputs": [],
   "source": [
    "y_g0 = y_train[idx_g0]"
   ]
  },
  {
   "cell_type": "code",
   "execution_count": 50,
   "metadata": {},
   "outputs": [],
   "source": [
    "n1 = np.hstack((n_simple, n_s1))\n",
    "n1 = np.hstack((n1, n_s2))\n",
    "n1 = np.hstack((n1, n_s3))\n",
    "n1 = np.hstack((n1, n_s4))\n",
    "y1 = np.hstack((y_simple, y_s1))\n",
    "y1 = np.hstack((y1, y_s2))\n",
    "y1 = np.hstack((y1, y_s3))\n",
    "y1 = np.hstack((y1, y_s4))\n",
    "\n",
    "n1 = np.hstack((n1, n_g0))\n",
    "n1 = np.hstack((n1, n_r1))\n",
    "n1 = np.hstack((n1, n_r2))\n",
    "\n",
    "y1 = np.hstack((y1, y_g0))\n",
    "y1 = np.hstack((y1, y_r1))\n",
    "y1 = np.hstack((y1, y_r2))"
   ]
  },
  {
   "cell_type": "code",
   "execution_count": 51,
   "metadata": {},
   "outputs": [
    {
     "data": {
      "text/plain": [
       "0.9798"
      ]
     },
     "execution_count": 51,
     "metadata": {},
     "output_type": "execute_result"
    }
   ],
   "source": [
    "p, m = score_mean(n1, y1, y_test)\n",
    "m"
   ]
  },
  {
   "cell_type": "code",
   "execution_count": 66,
   "metadata": {},
   "outputs": [],
   "source": [
    "n1 = np.hstack((n_simple, n_s1))\n",
    "n1 = np.hstack((n1, n_s2))\n",
    "n1 = np.hstack((n1, n_s3))\n",
    "n1 = np.hstack((n1, n_s4))\n",
    "y1 = np.hstack((y_simple, y_s1))\n",
    "y1 = np.hstack((y1, y_s2))\n",
    "y1 = np.hstack((y1, y_s3))\n",
    "y1 = np.hstack((y1, y_s4))\n",
    "\n",
    "n1 = np.hstack((n1, n_r1))\n",
    "n1 = np.hstack((n1, n_r2))\n",
    "\n",
    "y1 = np.hstack((y1, y_r1))\n",
    "y1 = np.hstack((y1, y_r2))"
   ]
  },
  {
   "cell_type": "code",
   "execution_count": 67,
   "metadata": {},
   "outputs": [
    {
     "data": {
      "text/plain": [
       "0.9821"
      ]
     },
     "execution_count": 67,
     "metadata": {},
     "output_type": "execute_result"
    }
   ],
   "source": [
    "p, m = score_mean(n1, y1, y_test)\n",
    "m"
   ]
  },
  {
   "cell_type": "code",
   "execution_count": 63,
   "metadata": {},
   "outputs": [],
   "source": [
    "def print_table(a, n=10, m=10):\n",
    "    print(\"\\\\begin{table}[h]\")\n",
    "    print(\"\\\\begin{center}\")\n",
    "\n",
    "    print(\"\\\\begin{{tabular}}{{|{0}|}}\".format(\"l\" * m))\n",
    "    print(\"\\\\hline\")\n",
    "    for i in range(10):\n",
    "        print(\" &\", i,  end = \"\")\n",
    "    print(\"\\\\\\\\\")\n",
    "    for i in range(n):\n",
    "        for j in range(m):\n",
    "            if j > 0:\n",
    "                print(\"& \", end=\"\")\n",
    "            print(a[i, j], end=\" \")\n",
    "        if i < n:\n",
    "            print(\" \\\\\\\\\")\n",
    "        else:\n",
    "            print()\n",
    "    print(\"\\\\hline\")\n",
    "\n",
    "    print(\"\\\\end{tabular}\")\n",
    "    print(\"\\\\end{center}\")\n",
    "\n",
    "    print(\"\\\\end{table}\")\n"
   ]
  },
  {
   "cell_type": "code",
   "execution_count": 69,
   "metadata": {},
   "outputs": [
    {
     "data": {
      "text/plain": [
       "array([[ 977,    0,    0,    0,    0,    0,    2,    1,    0,    0],\n",
       "       [   0, 1133,    2,    0,    0,    0,    0,    0,    0,    0],\n",
       "       [   6,    1, 1012,    1,    1,    0,    1,    9,    1,    0],\n",
       "       [   0,    0,    3,  989,    1,    5,    0,    3,    5,    4],\n",
       "       [   0,    1,    0,    0,  947,    0,    7,    2,    0,   25],\n",
       "       [   2,    0,    0,    7,    1,  868,    7,    3,    1,    3],\n",
       "       [   3,    2,    0,    0,    0,    0,  953,    0,    0,    0],\n",
       "       [   2,    6,    3,    0,    0,    0,    0, 1010,    0,    7],\n",
       "       [   2,    0,    1,    4,    2,    3,    0,    3,  955,    4],\n",
       "       [   5,    4,    2,    4,    5,    4,    0,    4,    4,  977]],\n",
       "      dtype=int64)"
      ]
     },
     "execution_count": 69,
     "metadata": {},
     "output_type": "execute_result"
    }
   ],
   "source": [
    "res_rand = np.copy(p)\n",
    "mist_rand = metrics.confusion_matrix(y_test, p)\n",
    "mist_rand"
   ]
  },
  {
   "cell_type": "code",
   "execution_count": 70,
   "metadata": {},
   "outputs": [
    {
     "name": "stdout",
     "output_type": "stream",
     "text": [
      "\\begin{table}[h]\n",
      "\\begin{center}\n",
      "\\begin{tabular}{|llllllllll|}\n",
      "\\hline\n",
      " & 0 & 1 & 2 & 3 & 4 & 5 & 6 & 7 & 8 & 9\\\\\n",
      "977 & 0 & 0 & 0 & 0 & 0 & 2 & 1 & 0 & 0  \\\\\n",
      "0 & 1133 & 2 & 0 & 0 & 0 & 0 & 0 & 0 & 0  \\\\\n",
      "6 & 1 & 1012 & 1 & 1 & 0 & 1 & 9 & 1 & 0  \\\\\n",
      "0 & 0 & 3 & 989 & 1 & 5 & 0 & 3 & 5 & 4  \\\\\n",
      "0 & 1 & 0 & 0 & 947 & 0 & 7 & 2 & 0 & 25  \\\\\n",
      "2 & 0 & 0 & 7 & 1 & 868 & 7 & 3 & 1 & 3  \\\\\n",
      "3 & 2 & 0 & 0 & 0 & 0 & 953 & 0 & 0 & 0  \\\\\n",
      "2 & 6 & 3 & 0 & 0 & 0 & 0 & 1010 & 0 & 7  \\\\\n",
      "2 & 0 & 1 & 4 & 2 & 3 & 0 & 3 & 955 & 4  \\\\\n",
      "5 & 4 & 2 & 4 & 5 & 4 & 0 & 4 & 4 & 977  \\\\\n",
      "\\hline\n",
      "\\end{tabular}\n",
      "\\end{center}\n",
      "\\end{table}\n"
     ]
    }
   ],
   "source": [
    "print_table(metrics.confusion_matrix(y_test, p), 10, 10)"
   ]
  },
  {
   "cell_type": "code",
   "execution_count": 72,
   "metadata": {},
   "outputs": [
    {
     "data": {
      "image/png": "[encoded data removed]",
      "text/plain": [
       "<Figure size 576x360 with 4 Axes>"
      ]
     },
     "metadata": {},
     "output_type": "display_data"
    }
   ],
   "source": [
    "\n",
    "X = X_test[(y_test == 2) & (res == 7)][[0, 7, 8, 9]]\n",
    "\n",
    "fig, axs = plt.subplots(figsize=(8, 5), ncols = 4)\n",
    "for i in range(X.shape[0]):\n",
    "    axs[i].imshow(X[i].reshape(-1, 28), cmap = 'Greys')\n",
    "    axs[i].axis(\"off\")"
   ]
  },
  {
   "cell_type": "code",
   "execution_count": 83,
   "metadata": {},
   "outputs": [
    {
     "data": {
      "image/png": "[encoded data removed]",
      "text/plain": [
       "<Figure size 576x360 with 4 Axes>"
      ]
     },
     "metadata": {},
     "output_type": "display_data"
    }
   ],
   "source": [
    "\n",
    "X  = X_train[(y_train == 7)][46:50]\n",
    "\n",
    "fig, axs = plt.subplots(figsize=(8, 5), ncols = 4)\n",
    "for i in range(X.shape[0]):\n",
    "    z = transform.rotate(X[i].reshape(-1, 28), -10)\n",
    "    axs[i].imshow(z, cmap = 'Greys')\n",
    "    axs[i].axis(\"off\")"
   ]
  }
 ],
 "metadata": {
  "kernelspec": {
   "display_name": "Python 3",
   "language": "python",
   "name": "python3"
  },
  "language_info": {
   "codemirror_mode": {
    "name": "ipython",
    "version": 3
   },
   "file_extension": ".py",
   "mimetype": "text/x-python",
   "name": "python",
   "nbconvert_exporter": "python",
   "pygments_lexer": "ipython3",
   "version": "3.6.5"
  }
 },
 "nbformat": 4,
 "nbformat_minor": 2
}
