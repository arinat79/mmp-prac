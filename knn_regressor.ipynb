{
 "cells": [
  {
   "cell_type": "markdown",
   "metadata": {},
   "source": [
    "## Машинное обучение, ВМК МГУ\n",
    "\n",
    "## Практическое задание 2\n",
    "\n",
    "### Общая информация\n",
    "Дата выдачи: 9 октября 2019\n",
    "\n",
    "Максимальная оценка: 10 баллов + 1 бонусный балл\n",
    "\n",
    "Мягкий дедлайн: 23:59MSK 23 октября (за каждый день просрочки снимается 1 балл)\n",
    "\n",
    "Жесткий дедлайн: 23:59MSK 30 октября."
   ]
  },
  {
   "cell_type": "markdown",
   "metadata": {},
   "source": [
    "### О задании\n",
    "\n",
    "В этом задании вы:\n",
    "- Познакомитесь с методом решения задачи регрессии на основе метода ближайших соседей.\n",
    "- Реализуете алгоритм kNN для задачи регрессии.\n",
    "- Изучите методы работы с категориальными и текстовыми переменными.\n",
    "\n",
    "\n",
    "### Оценивание и штрафы\n",
    "Каждая из задач имеет определенную «стоимость» (указана в скобках около задачи). Максимально допустимая оценка за работу — 10 баллов.\n",
    "\n",
    "Сдавать задание после указанного срока сдачи нельзя. При выставлении неполного балла за задание в связи с наличием ошибок на усмотрение проверяющего предусмотрена возможность исправить работу на указанных в ответном письме условиях.\n",
    "\n",
    "Задание выполняется самостоятельно. «Похожие» решения считаются плагиатом и все задействованные студенты (в том числе те, у кого списали) не могут получить за него больше 0 баллов (подробнее о плагиате см. на странице курса). Если вы нашли решение какого-то из заданий (или его часть) в открытом источнике, необходимо указать ссылку на этот источник в отдельном блоке в конце вашей работы (скорее всего вы будете не единственным, кто это нашел, поэтому чтобы исключить подозрение в плагиате, необходима ссылка на источник).\n",
    "\n",
    "Неэффективная реализация кода может негативно отразиться на оценке.\n",
    "\n",
    "\n",
    "### Формат сдачи\n",
    "Для сдачи задания переименуйте получившийся файл *.ipynb в соответствии со следующим форматом: homework-practice-02-Username.ipynb, где Username — ваша фамилия и имя на латинице именно в таком порядке (например, homework-practice-02-ivanov.ipynb).\n",
    "\n",
    "Далее отправьте этот файл на anytask в соответсвующий раздел."
   ]
  },
  {
   "cell_type": "code",
   "execution_count": 94,
   "metadata": {},
   "outputs": [],
   "source": [
    "import numpy as np\n",
    "import pandas as pd"
   ]
  },
  {
   "cell_type": "markdown",
   "metadata": {},
   "source": [
    "Все эксперименты в этой лабораторной работе предлагается проводить на данных соревнования New York City Airbnb Open Data: https://www.kaggle.com/dgomonov/new-york-city-airbnb-open-data#AB_NYC_2019.csv\n",
    "\n",
    "В данной задаче предлагается предсказать цену на съем квартиры в зависимости от её параметров."
   ]
  },
  {
   "cell_type": "code",
   "execution_count": 95,
   "metadata": {},
   "outputs": [
    {
     "data": {
      "text/html": [
       "<div>\n",
       "<style scoped>\n",
       "    .dataframe tbody tr th:only-of-type {\n",
       "        vertical-align: middle;\n",
       "    }\n",
       "\n",
       "    .dataframe tbody tr th {\n",
       "        vertical-align: top;\n",
       "    }\n",
       "\n",
       "    .dataframe thead th {\n",
       "        text-align: right;\n",
       "    }\n",
       "</style>\n",
       "<table border=\"1\" class=\"dataframe\">\n",
       "  <thead>\n",
       "    <tr style=\"text-align: right;\">\n",
       "      <th></th>\n",
       "      <th>id</th>\n",
       "      <th>name</th>\n",
       "      <th>host_id</th>\n",
       "      <th>host_name</th>\n",
       "      <th>neighbourhood_group</th>\n",
       "      <th>neighbourhood</th>\n",
       "      <th>latitude</th>\n",
       "      <th>longitude</th>\n",
       "      <th>room_type</th>\n",
       "      <th>price</th>\n",
       "      <th>minimum_nights</th>\n",
       "      <th>number_of_reviews</th>\n",
       "      <th>last_review</th>\n",
       "      <th>reviews_per_month</th>\n",
       "      <th>calculated_host_listings_count</th>\n",
       "      <th>availability_365</th>\n",
       "    </tr>\n",
       "  </thead>\n",
       "  <tbody>\n",
       "    <tr>\n",
       "      <th>0</th>\n",
       "      <td>2539</td>\n",
       "      <td>Clean &amp; quiet apt home by the park</td>\n",
       "      <td>2787</td>\n",
       "      <td>John</td>\n",
       "      <td>Brooklyn</td>\n",
       "      <td>Kensington</td>\n",
       "      <td>40.64749</td>\n",
       "      <td>-73.97237</td>\n",
       "      <td>Private room</td>\n",
       "      <td>149</td>\n",
       "      <td>1</td>\n",
       "      <td>9</td>\n",
       "      <td>2018-10-19</td>\n",
       "      <td>0.21</td>\n",
       "      <td>6</td>\n",
       "      <td>365</td>\n",
       "    </tr>\n",
       "    <tr>\n",
       "      <th>1</th>\n",
       "      <td>2595</td>\n",
       "      <td>Skylit Midtown Castle</td>\n",
       "      <td>2845</td>\n",
       "      <td>Jennifer</td>\n",
       "      <td>Manhattan</td>\n",
       "      <td>Midtown</td>\n",
       "      <td>40.75362</td>\n",
       "      <td>-73.98377</td>\n",
       "      <td>Entire home/apt</td>\n",
       "      <td>225</td>\n",
       "      <td>1</td>\n",
       "      <td>45</td>\n",
       "      <td>2019-05-21</td>\n",
       "      <td>0.38</td>\n",
       "      <td>2</td>\n",
       "      <td>355</td>\n",
       "    </tr>\n",
       "    <tr>\n",
       "      <th>2</th>\n",
       "      <td>3647</td>\n",
       "      <td>THE VILLAGE OF HARLEM....NEW YORK !</td>\n",
       "      <td>4632</td>\n",
       "      <td>Elisabeth</td>\n",
       "      <td>Manhattan</td>\n",
       "      <td>Harlem</td>\n",
       "      <td>40.80902</td>\n",
       "      <td>-73.94190</td>\n",
       "      <td>Private room</td>\n",
       "      <td>150</td>\n",
       "      <td>3</td>\n",
       "      <td>0</td>\n",
       "      <td>NaN</td>\n",
       "      <td>NaN</td>\n",
       "      <td>1</td>\n",
       "      <td>365</td>\n",
       "    </tr>\n",
       "    <tr>\n",
       "      <th>3</th>\n",
       "      <td>3831</td>\n",
       "      <td>Cozy Entire Floor of Brownstone</td>\n",
       "      <td>4869</td>\n",
       "      <td>LisaRoxanne</td>\n",
       "      <td>Brooklyn</td>\n",
       "      <td>Clinton Hill</td>\n",
       "      <td>40.68514</td>\n",
       "      <td>-73.95976</td>\n",
       "      <td>Entire home/apt</td>\n",
       "      <td>89</td>\n",
       "      <td>1</td>\n",
       "      <td>270</td>\n",
       "      <td>2019-07-05</td>\n",
       "      <td>4.64</td>\n",
       "      <td>1</td>\n",
       "      <td>194</td>\n",
       "    </tr>\n",
       "    <tr>\n",
       "      <th>4</th>\n",
       "      <td>5022</td>\n",
       "      <td>Entire Apt: Spacious Studio/Loft by central park</td>\n",
       "      <td>7192</td>\n",
       "      <td>Laura</td>\n",
       "      <td>Manhattan</td>\n",
       "      <td>East Harlem</td>\n",
       "      <td>40.79851</td>\n",
       "      <td>-73.94399</td>\n",
       "      <td>Entire home/apt</td>\n",
       "      <td>80</td>\n",
       "      <td>10</td>\n",
       "      <td>9</td>\n",
       "      <td>2018-11-19</td>\n",
       "      <td>0.10</td>\n",
       "      <td>1</td>\n",
       "      <td>0</td>\n",
       "    </tr>\n",
       "  </tbody>\n",
       "</table>\n",
       "</div>"
      ],
      "text/plain": [
       "     id                                              name  host_id  \\\n",
       "0  2539                Clean & quiet apt home by the park     2787   \n",
       "1  2595                             Skylit Midtown Castle     2845   \n",
       "2  3647               THE VILLAGE OF HARLEM....NEW YORK !     4632   \n",
       "3  3831                   Cozy Entire Floor of Brownstone     4869   \n",
       "4  5022  Entire Apt: Spacious Studio/Loft by central park     7192   \n",
       "\n",
       "     host_name neighbourhood_group neighbourhood  latitude  longitude  \\\n",
       "0         John            Brooklyn    Kensington  40.64749  -73.97237   \n",
       "1     Jennifer           Manhattan       Midtown  40.75362  -73.98377   \n",
       "2    Elisabeth           Manhattan        Harlem  40.80902  -73.94190   \n",
       "3  LisaRoxanne            Brooklyn  Clinton Hill  40.68514  -73.95976   \n",
       "4        Laura           Manhattan   East Harlem  40.79851  -73.94399   \n",
       "\n",
       "         room_type  price  minimum_nights  number_of_reviews last_review  \\\n",
       "0     Private room    149               1                  9  2018-10-19   \n",
       "1  Entire home/apt    225               1                 45  2019-05-21   \n",
       "2     Private room    150               3                  0         NaN   \n",
       "3  Entire home/apt     89               1                270  2019-07-05   \n",
       "4  Entire home/apt     80              10                  9  2018-11-19   \n",
       "\n",
       "   reviews_per_month  calculated_host_listings_count  availability_365  \n",
       "0               0.21                               6               365  \n",
       "1               0.38                               2               355  \n",
       "2                NaN                               1               365  \n",
       "3               4.64                               1               194  \n",
       "4               0.10                               1                 0  "
      ]
     },
     "execution_count": 95,
     "metadata": {},
     "output_type": "execute_result"
    }
   ],
   "source": [
    "data = pd.read_csv('AB_NYC_2019.csv')\n",
    "data.head()"
   ]
  },
  {
   "cell_type": "code",
   "execution_count": 96,
   "metadata": {},
   "outputs": [
    {
     "data": {
      "text/plain": [
       "(48895, 16)"
      ]
     },
     "execution_count": 96,
     "metadata": {},
     "output_type": "execute_result"
    }
   ],
   "source": [
    "data.shape"
   ]
  },
  {
   "cell_type": "code",
   "execution_count": 97,
   "metadata": {},
   "outputs": [
    {
     "name": "stdout",
     "output_type": "stream",
     "text": [
      "id 48895\n",
      "name 47906\n",
      "host_id 37457\n",
      "host_name 11453\n",
      "neighbourhood_group 5\n",
      "neighbourhood 221\n",
      "latitude 19048\n",
      "longitude 14718\n",
      "room_type 3\n",
      "price 674\n",
      "minimum_nights 109\n",
      "number_of_reviews 394\n",
      "last_review 1765\n",
      "reviews_per_month 938\n",
      "calculated_host_listings_count 47\n",
      "availability_365 366\n"
     ]
    }
   ],
   "source": [
    "# число значений у признаков\n",
    "for col_name in data.columns:\n",
    "    print(col_name, len(data[col_name].unique()))"
   ]
  },
  {
   "cell_type": "code",
   "execution_count": 98,
   "metadata": {},
   "outputs": [
    {
     "data": {
      "text/plain": [
       "id                                    0\n",
       "name                                 16\n",
       "host_id                               0\n",
       "host_name                            21\n",
       "neighbourhood_group                   0\n",
       "neighbourhood                         0\n",
       "latitude                              0\n",
       "longitude                             0\n",
       "room_type                             0\n",
       "price                                 0\n",
       "minimum_nights                        0\n",
       "number_of_reviews                     0\n",
       "last_review                       10052\n",
       "reviews_per_month                 10052\n",
       "calculated_host_listings_count        0\n",
       "availability_365                      0\n",
       "dtype: int64"
      ]
     },
     "execution_count": 98,
     "metadata": {},
     "output_type": "execute_result"
    }
   ],
   "source": [
    "data.isna().sum()"
   ]
  },
  {
   "cell_type": "markdown",
   "metadata": {},
   "source": [
    "Как видите, в данных есть пропуски. Не забудьте обработать их"
   ]
  },
  {
   "cell_type": "code",
   "execution_count": 99,
   "metadata": {},
   "outputs": [],
   "source": [
    "data.name.fillna('', inplace = True)\n",
    "data.host_name.fillna('', inplace = True) #пустая строка\n",
    "data.last_review.fillna(data.last_review.value_counts().index[0], inplace = True) #самое популярнное знач\n",
    "data.reviews_per_month.fillna(data.reviews_per_month.mean(), inplace = True) #среднее"
   ]
  },
  {
   "cell_type": "code",
   "execution_count": 100,
   "metadata": {},
   "outputs": [],
   "source": [
    "s = ['room_type', 'host_name', 'neighbourhood_group', 'neighbourhood']\n",
    "#эти признаки будем считать категориальными"
   ]
  },
  {
   "cell_type": "code",
   "execution_count": 101,
   "metadata": {},
   "outputs": [],
   "source": [
    "from sklearn.preprocessing import LabelEncoder\n",
    "labelencoder = LabelEncoder()\n",
    "for ch in s:\n",
    "    data[ch+'_labels'] = labelencoder.fit_transform(data[ch])\n",
    "    \n",
    "#label encoding категориальных признаков"
   ]
  },
  {
   "cell_type": "code",
   "execution_count": 102,
   "metadata": {},
   "outputs": [],
   "source": [
    "import time\n",
    "data['last_review_sec'] = data['last_review'].apply(lambda s: time.mktime(time.strptime(s, '%Y-%m-%d')))\n",
    "\n",
    "#переведем last_review из строковой переменной в вещественную"
   ]
  },
  {
   "cell_type": "markdown",
   "metadata": {},
   "source": [
    "Разобъем данные на обучение и контроль."
   ]
  },
  {
   "cell_type": "code",
   "execution_count": 103,
   "metadata": {
    "scrolled": false
   },
   "outputs": [],
   "source": [
    "from sklearn.model_selection import train_test_split\n",
    "X_train, X_test, y_train, y_test = train_test_split(data.drop(columns=['price']), data[['price']],\n",
    "                                                    test_size=0.3, random_state=241)"
   ]
  },
  {
   "cell_type": "markdown",
   "metadata": {},
   "source": [
    "Сделаем предподсчет признаков, необходимых для дальнейшего вычисления метрик и добавим их в dataframe"
   ]
  },
  {
   "cell_type": "code",
   "execution_count": 104,
   "metadata": {},
   "outputs": [],
   "source": [
    "def counts(x, x_train):\n",
    "    cnt = [np.sum(a == x_train) for a in x]\n",
    "    return np.array(cnt)"
   ]
  },
  {
   "cell_type": "code",
   "execution_count": 105,
   "metadata": {},
   "outputs": [],
   "source": [
    "for ch in s:\n",
    "    data[ch+'_cnt'] = counts(data[ch+'_labels'].values, X_train[ch+'_labels'].values)\n",
    "#сколько раз значение категориального признака встретилось в обучающей выборке"
   ]
  },
  {
   "cell_type": "code",
   "execution_count": 106,
   "metadata": {},
   "outputs": [],
   "source": [
    "for ch in s:\n",
    "    data[ch+'_p'] = data[ch+'_cnt'].apply(lambda s: s * (s - 1) / X_train.shape[0] / (X_train.shape[0] -1))\n",
    "#вероятность того, что 2 случайно выбранных признака примут текущее значение"
   ]
  },
  {
   "cell_type": "code",
   "execution_count": 107,
   "metadata": {},
   "outputs": [],
   "source": [
    "for ch in s:\n",
    "    p2 = np.array(data[ch+'_p'])\n",
    "    a = data.groupby(ch).mean()[ch+'_p'].values\n",
    "    b = [np.sum(a[a <= j]) for j in p2]\n",
    "    data[ch+'_p_sum'] = b"
   ]
  },
  {
   "cell_type": "code",
   "execution_count": 108,
   "metadata": {},
   "outputs": [],
   "source": [
    "from sklearn.model_selection import train_test_split\n",
    "X_train, X_test, y_train, y_test = train_test_split(data.drop(columns=['price']), data[['price']],\n",
    "                                                    test_size=0.3, random_state=241)"
   ]
  },
  {
   "cell_type": "markdown",
   "metadata": {},
   "source": [
    "## Часть 1: Алгоритм kNN в задаче регрессии"
   ]
  },
  {
   "cell_type": "markdown",
   "metadata": {},
   "source": [
    "<b> 1.1 (1.5 балла) </b>\n",
    "Реализуйте класс `KNNRegressor`, который используя метод k ближайших соседей решает задачу регрессии. Для решение данной задачи, необходимо найти $N_k$ - k соседей, и после использовать значения их целевых переменных для предсказания:\n",
    "\\begin{align}\n",
    "y = \\frac{1}{k}\\sum_{n \\in N_k}w_n y_n,\n",
    "\\end{align}\n",
    "\n",
    "где $w_n$ - вес каждого соседа. \n",
    "\n",
    "При этом `KNNRegressor` может работать в 2 режимах:\n",
    " - $uniform$ - ближайшие соседи учитываются с одинаковыми весами.\n",
    " - $distance$ - вес ближайших соседей зависит от расстояния\n",
    " \n",
    "Сигнатуру методов при желании можно менять."
   ]
  },
  {
   "cell_type": "code",
   "execution_count": 150,
   "metadata": {},
   "outputs": [],
   "source": [
    "from typing import Union, Callable, Iterable, Optional\n",
    "from sklearn.neighbors import NearestNeighbors\n",
    "import scipy\n",
    "\n",
    "class KNNRegressor:\n",
    "    def __init__(self, n_neighbors: int, metric: Union[str, Callable], mode: str = 'uniform'):\n",
    "        \"\"\"\n",
    "        params:\n",
    "            n_neighbors: number of neighbors\n",
    "            metric: metric to use for distance computation\n",
    "            mode: 'uniform' or 'distance'\n",
    "            'uniform' - all points in each neighborhood are weighted equally\n",
    "            'distance' - weight points by the inverse of their distance\n",
    "        \"\"\"\n",
    "        self.__nn = NearestNeighbors(n_neighbors=n_neighbors, metric=metric)\n",
    "        self.__mode = mode\n",
    "        self.__n_neighbors = n_neighbors\n",
    "\n",
    "    def fit(self, X, y) -> None:\n",
    "        \"\"\"\n",
    "            X: data\n",
    "            y: labels\n",
    "        \"\"\"\n",
    "        if type(X) != scipy.sparse.csr.csr_matrix:\n",
    "            data = np.array(X.copy())\n",
    "        else:\n",
    "            data = X\n",
    "        self.__nn.fit(data, y)\n",
    "        self.__y = np.copy(y).reshape(-1,)\n",
    "        # Ваш код здесь\n",
    "        pass\n",
    "\n",
    "    def predict(self, X, n_neighbors: Optional[int] = None) -> np.array:\n",
    "        \"\"\"\n",
    "            X: data\n",
    "            n_neighbors: number of neighbors\n",
    "        \"\"\"\n",
    "        self.__eps = 1e-5\n",
    "        if type(X) != scipy.sparse.csr.csr_matrix:\n",
    "            Z = np.array(X.copy())\n",
    "        else:\n",
    "            Z = X\n",
    "        dist, idx = self.__nn.kneighbors(Z, n_neighbors = n_neighbors)\n",
    "        if self.__mode == 'distance':\n",
    "            w = 1 / (dist + self.__eps)\n",
    "            coef = w.sum(axis = 1)\n",
    "            answers = self.__y[idx] * w \n",
    "        else:\n",
    "            answers = self.__y[idx]\n",
    "            coef = n_neighbors\n",
    "        answers = answers.sum(axis = 1) / coef\n",
    "        return answers\n",
    "    "
   ]
  },
  {
   "cell_type": "code",
   "execution_count": 152,
   "metadata": {},
   "outputs": [],
   "source": [
    "#подсчет RMSE для нескольких значений числа ближайших соседей из K_list для взвешенного и невзвешенного методов\n",
    "\n",
    "def knn_score(X_tr, y_tr, X_ts, y_ts, k_list, metric, mode = \"dist_uniform\"):\n",
    "    if type(X_tr) != scipy.sparse.csr.csr_matrix:\n",
    "        X_train = np.array(X_tr.copy())\n",
    "    else:\n",
    "        X_train = X_tr\n",
    "    if type(X_ts) != scipy.sparse.csr.csr_matrix:\n",
    "        X_test = np.array(X_ts.copy())\n",
    "    else:\n",
    "        X_test = X_ts           \n",
    "    y_train = np.copy(y_tr).reshape(-1,)\n",
    "    y_test = np.copy(y_ts).reshape(-1,)\n",
    "\n",
    "    m = NearestNeighbors(n_neighbors=max(k_list), metric=metric)\n",
    "    sc_u = []\n",
    "    sc_d = []\n",
    "    m.fit(X_train, y_train)\n",
    "    dist, idx = m.kneighbors(X_test, n_neighbors = max(k_list))\n",
    "    for k in k_list:\n",
    "        d = dist[:, :k]\n",
    "        i = idx[:, :k]\n",
    "        #distance\n",
    "        w = 1 / (d + 1e-5)\n",
    "        coef = w.sum(axis = 1)\n",
    "        answers = y_train[i] * w \n",
    "        answers = answers.sum(axis = 1) / coef\n",
    "        sc_d.append(np.sqrt(np.sum((answers - np.array(y_test).reshape(-1,)) ** 2) / len(answers)))  \n",
    "        \n",
    "        #uniform\n",
    "        answers = y_train[i]\n",
    "        coef = k\n",
    "        answers = answers.sum(axis = 1) / coef\n",
    "        sc_u.append(np.sqrt(np.sum((answers - np.array(y_test).reshape(-1,)) ** 2) / len(answers)))   \n",
    "        \n",
    "    return sc_d, sc_u"
   ]
  },
  {
   "cell_type": "markdown",
   "metadata": {},
   "source": [
    "## Часть 2: Категориальные признаки"
   ]
  },
  {
   "cell_type": "markdown",
   "metadata": {},
   "source": [
    "<b>2.1 (1 балл)</b>\n",
    "Реализуйте три функции расстояния на категориальных признаках, которые обсуждались на [третьем семинаре](https://github.com/mmp-mmro-team/mmp_mmro_fall_2019/blob/master/lecture-notes/Sem03_knn.pdf). Не забудьте, что KNNRegressor должен уметь работать с этими функциями расстояния. Как вариант, можно реализовать метрики как [user-defined distance](http://scikit-learn.org/stable/modules/generated/sklearn.neighbors.DistanceMetric.html)."
   ]
  },
  {
   "cell_type": "code",
   "execution_count": 1,
   "metadata": {},
   "outputs": [],
   "source": [
    "import numpy as np"
   ]
  },
  {
   "cell_type": "code",
   "execution_count": 2,
   "metadata": {},
   "outputs": [],
   "source": [
    "x = np.arange(10)"
   ]
  },
  {
   "cell_type": "code",
   "execution_count": 3,
   "metadata": {},
   "outputs": [
    {
     "data": {
      "text/plain": [
       "array([0, 1, 2, 3, 4, 5, 6, 7, 8, 9])"
      ]
     },
     "execution_count": 3,
     "metadata": {},
     "output_type": "execute_result"
    }
   ],
   "source": [
    "x"
   ]
  },
  {
   "cell_type": "code",
   "execution_count": 4,
   "metadata": {},
   "outputs": [
    {
     "data": {
      "text/plain": [
       "array([0, 1, 2])"
      ]
     },
     "execution_count": 4,
     "metadata": {},
     "output_type": "execute_result"
    }
   ],
   "source": [
    "x[:x.shape[0]//3]"
   ]
  },
  {
   "cell_type": "code",
   "execution_count": 5,
   "metadata": {},
   "outputs": [
    {
     "data": {
      "text/plain": [
       "array([6, 7, 8, 9])"
      ]
     },
     "execution_count": 5,
     "metadata": {},
     "output_type": "execute_result"
    }
   ],
   "source": [
    "x[2*x.shape[0]//3:]"
   ]
  },
  {
   "cell_type": "code",
   "execution_count": null,
   "metadata": {},
   "outputs": [],
   "source": []
  },
  {
   "cell_type": "code",
   "execution_count": 153,
   "metadata": {},
   "outputs": [],
   "source": [
    "def overlap(x, z):\n",
    "    x = x[:x.shape[0]//3]\n",
    "    z = z[:z.shape[0]//3]\n",
    "    return  np.sum(x != z)\n",
    "\n",
    "def flattened_overlap(x, z):\n",
    "    x1 = x[:x.shape[0]//3]\n",
    "    z1 = z[:z.shape[0]//3]\n",
    "    x2 = x[2*x.shape[0]//3:]\n",
    "    z2 = z[2*z.shape[0]//3:]\n",
    "    \n",
    "    eq = np.array([x1 == z1])\n",
    "    n_eq = np.array([x1 != z1])\n",
    "    \n",
    "    return np.sum(n_eq + eq * x2) \n",
    "\n",
    "def log_overlap(x, z):\n",
    "    x1 = x[:x.shape[0]//3]\n",
    "    z1 = z[:z.shape[0]//3]\n",
    "    x2 = x[x.shape[0]//3:2*x.shape[0]//3]\n",
    "    z2 = z[z.shape[0]//3:2*z.shape[0]//3]\n",
    "    n_eq = np.array([x1 != z1])\n",
    "    x_log = np.log(x2 + 1)\n",
    "    z_log = np.log(z2 + 1)\n",
    "    return np.sum(n_eq * x_log * z_log)\n",
    "\n",
    "\n",
    "#x, z состоят из 3 частей: значение признака, сколько раз это значение признака встретилось в обучающей выборке,\n",
    "# сумма вероятностей того, что 2 случайно выбранных признака примут одинаковое значение, которые меньше вер-ти для текущего значения"
   ]
  },
  {
   "cell_type": "markdown",
   "metadata": {},
   "source": [
    "<b>2.2 (1 балл)</b> Найдите все категориальные признаки в данных. Подсчитайте для каждой из метрик качество на тестовой выборке `X_test` при числе соседей $k = 10$. Качество измеряйте с помощью RMSE.\n",
    "\n",
    "Какая функция расстояния оказалась лучшей? Почему?\n",
    "\n",
    "<b>Ответ:</b> \n",
    "\n",
    "1. overlap distance 235.3, overlap uniform 210.1 \n",
    "2. log_overlap distance 234.7, log_overlap uniform 209.6\n",
    "3. flattened_overlap distance 212.4, flattened_overlap uniform 213.2\n",
    "\n",
    "Продолжение и реализация в задании 2.3\n"
   ]
  },
  {
   "cell_type": "code",
   "execution_count": 157,
   "metadata": {},
   "outputs": [],
   "source": [
    "X = X_train\n",
    "X = X[['neighbourhood_group_labels', 'host_name_labels', 'neighbourhood_labels', 'room_type_labels', \n",
    "           'neighbourhood_group_cnt', 'host_name_cnt', 'neighbourhood_cnt', 'room_type_cnt', \n",
    "           'neighbourhood_group_p_sum', 'host_name_p_sum', 'neighbourhood_p_sum', 'room_type_p_sum']]\n",
    "y = y_train\n",
    "\n",
    "X_t = X_test\n",
    "X_t = X_t[['neighbourhood_group_labels', 'host_name_labels', 'neighbourhood_labels', 'room_type_labels', \n",
    "           'neighbourhood_group_cnt', 'host_name_cnt', 'neighbourhood_cnt', 'room_type_cnt',  \n",
    "           'neighbourhood_group_p_sum', 'host_name_p_sum', 'neighbourhood_p_sum', 'room_type_p_sum']]\n",
    "y_t = y_test"
   ]
  },
  {
   "cell_type": "code",
   "execution_count": 158,
   "metadata": {},
   "outputs": [],
   "source": [
    "X_t_h = X_t.values[:, :4]\n",
    "X_h = X.values[:, :4]\n"
   ]
  },
  {
   "cell_type": "code",
   "execution_count": 161,
   "metadata": {},
   "outputs": [],
   "source": [
    "m = KNNRegressor(10, 'hamming', 'uniform')\n",
    "m.fit(X_h, y)\n",
    "answer = m.predict(X_t_h, 10)"
   ]
  },
  {
   "cell_type": "code",
   "execution_count": 162,
   "metadata": {},
   "outputs": [
    {
     "data": {
      "text/plain": [
       "210.12059666653315"
      ]
     },
     "execution_count": 162,
     "metadata": {},
     "output_type": "execute_result"
    }
   ],
   "source": [
    "(np.sqrt(np.sum((answer - np.array(y_test).reshape(-1,)) ** 2) / len(answer)))   "
   ]
  },
  {
   "cell_type": "markdown",
   "metadata": {},
   "source": [
    "<b>2.3 (1 балл) бонус</b> Подберите лучшее (на тестовой выборке) число соседей $k$ для каждой из функций расстояния. Какого удалось достичь уровня качества?"
   ]
  },
  {
   "cell_type": "code",
   "execution_count": 63,
   "metadata": {
    "scrolled": true
   },
   "outputs": [
    {
     "data": {
      "text/plain": [
       "([289.2774056349138,\n",
       "  252.44097565392153,\n",
       "  243.58423982683934,\n",
       "  239.81177927227222,\n",
       "  238.00110459892454,\n",
       "  236.18199076416153,\n",
       "  235.36868433029363,\n",
       "  234.73834892377332,\n",
       "  235.51599503396827,\n",
       "  235.34183948316934,\n",
       "  234.80004991715606,\n",
       "  234.48846758878642,\n",
       "  235.3919486480048,\n",
       "  239.94222414130564,\n",
       "  239.48503706964587,\n",
       "  238.73439909194295,\n",
       "  237.9013616407274,\n",
       "  237.52011372856398,\n",
       "  236.8892365544998],\n",
       " [289.2774056349138,\n",
       "  239.72637285763835,\n",
       "  223.2219627286093,\n",
       "  217.73631667357475,\n",
       "  214.94463815013737,\n",
       "  211.67772053835046,\n",
       "  210.16044205526555,\n",
       "  209.13323117227432,\n",
       "  209.8259899935194,\n",
       "  209.72932848085975,\n",
       "  208.95753030824247,\n",
       "  208.573530685192,\n",
       "  210.4500008981354,\n",
       "  218.54192367560444,\n",
       "  217.9923889122762,\n",
       "  216.7533690674984,\n",
       "  215.42320149940593,\n",
       "  214.7482237658413,\n",
       "  213.8465135568118])"
      ]
     },
     "execution_count": 63,
     "metadata": {},
     "output_type": "execute_result"
    }
   ],
   "source": [
    "sc1 = knn_score(X_h, y, X_t_h, y_t, np.arange(1, 20), 'hamming', 'dist_uniform') #hamming - встроенный аналог overlap\n",
    "sc1 #sc[0] - среднеквадратеская ошибка на distance, sc[1] - на uniform"
   ]
  },
  {
   "cell_type": "code",
   "execution_count": 65,
   "metadata": {
    "scrolled": true
   },
   "outputs": [
    {
     "data": {
      "text/plain": [
       "([270.15600119296124,\n",
       "  247.97801861762426,\n",
       "  244.14522487941196,\n",
       "  239.0101762616982,\n",
       "  239.6231627049051,\n",
       "  237.65314383371523,\n",
       "  236.69362411218768,\n",
       "  235.573572587251,\n",
       "  234.69292735012894,\n",
       "  234.7114906681317,\n",
       "  235.00254188444552,\n",
       "  234.29692598847623,\n",
       "  234.27862407987558,\n",
       "  234.44068352974628,\n",
       "  233.40456203090184,\n",
       "  233.38404216261304,\n",
       "  233.14817990005892,\n",
       "  232.92990165469502,\n",
       "  232.9007662178124],\n",
       " [270.15600119296124,\n",
       "  236.15048237770057,\n",
       "  226.35005543674106,\n",
       "  219.38169847026035,\n",
       "  218.04298550949298,\n",
       "  214.5293782384447,\n",
       "  213.01693004580582,\n",
       "  211.0612785201735,\n",
       "  209.72231882282605,\n",
       "  209.6188093374063,\n",
       "  209.73470651157044,\n",
       "  208.78690085991144,\n",
       "  208.73705013297524,\n",
       "  208.82123017675616,\n",
       "  207.73182107352036,\n",
       "  207.70492228346413,\n",
       "  207.35302968893745,\n",
       "  207.1216874185659,\n",
       "  207.5566092803369])"
      ]
     },
     "execution_count": 65,
     "metadata": {},
     "output_type": "execute_result"
    }
   ],
   "source": [
    "sc3 = knn_score(X, y, X_t, y_t, np.arange(1, 20), log_overlap, 'dist_uniform')\n",
    "sc3"
   ]
  },
  {
   "cell_type": "code",
   "execution_count": 66,
   "metadata": {
    "scrolled": true
   },
   "outputs": [
    {
     "data": {
      "text/plain": [
       "([333.69943957468513,\n",
       "  274.30321576515325,\n",
       "  245.10230189079186,\n",
       "  231.80827823573046,\n",
       "  224.97522710575421,\n",
       "  221.19525495247476,\n",
       "  217.43819356859473,\n",
       "  213.71046552332808,\n",
       "  213.1216446210064,\n",
       "  212.48527324892783,\n",
       "  211.27007609764908,\n",
       "  209.48725035104772,\n",
       "  208.66655842044142,\n",
       "  208.0336923249079,\n",
       "  207.821700055512,\n",
       "  207.49272648139564,\n",
       "  207.151024517408,\n",
       "  206.8084860917259,\n",
       "  206.54380633503752],\n",
       " [333.69943957468513,\n",
       "  271.77524716520645,\n",
       "  244.10942002003267,\n",
       "  230.7748123553701,\n",
       "  223.99054732911011,\n",
       "  220.11462786918338,\n",
       "  217.2188545361047,\n",
       "  213.93715310234842,\n",
       "  213.9866867395493,\n",
       "  213.27293579546887,\n",
       "  212.13970126256916,\n",
       "  210.36845607863492,\n",
       "  209.71051355517474,\n",
       "  209.06727318926494,\n",
       "  208.91816866489668,\n",
       "  208.6752984995951,\n",
       "  208.3106494598108,\n",
       "  207.96050242774928,\n",
       "  207.69880728362347])"
      ]
     },
     "execution_count": 66,
     "metadata": {},
     "output_type": "execute_result"
    }
   ],
   "source": [
    "sc4 = knn_score(X, y, X_t, y_t, np.arange(1, 20), flattened_overlap, 'dist_uniform')\n",
    "sc4"
   ]
  },
  {
   "cell_type": "code",
   "execution_count": 67,
   "metadata": {},
   "outputs": [
    {
     "data": {
      "text/plain": [
       "(array([[12,  8, 11, 10,  7, 13,  9,  6, 19, 18, 17,  5, 16, 15,  4, 14,\n",
       "          3,  2,  1],\n",
       "        [12, 11,  8, 10,  9,  7, 13,  6, 19, 18,  5, 17, 16,  4, 15, 14,\n",
       "          3,  2,  1]], dtype=int64), array([234.48846759, 208.57353069]))"
      ]
     },
     "execution_count": 67,
     "metadata": {},
     "output_type": "execute_result"
    }
   ],
   "source": [
    "#hamming distance\n",
    "np.argsort(sc1, axis = 1) + 1, np.min(sc1, axis = 1)"
   ]
  },
  {
   "cell_type": "code",
   "execution_count": 68,
   "metadata": {},
   "outputs": [
    {
     "data": {
      "text/plain": [
       "(array([[19, 18, 17, 16, 15, 13, 12, 14,  9, 10, 11,  8,  7,  6,  4,  5,\n",
       "          3,  2,  1],\n",
       "        [18, 17, 19, 16, 15, 13, 12, 14, 10,  9, 11,  8,  7,  6,  5,  4,\n",
       "          3,  2,  1]], dtype=int64), array([232.90076622, 207.12168742]))"
      ]
     },
     "execution_count": 68,
     "metadata": {},
     "output_type": "execute_result"
    }
   ],
   "source": [
    "#log\n",
    "np.argsort(sc3, axis = 1) + 1, np.min(sc3, axis = 1)"
   ]
  },
  {
   "cell_type": "code",
   "execution_count": 69,
   "metadata": {},
   "outputs": [
    {
     "data": {
      "text/plain": [
       "(array([[19, 18, 17, 16, 15, 14, 13, 12, 11, 10,  9,  8,  7,  6,  5,  4,\n",
       "          3,  2,  1],\n",
       "        [19, 18, 17, 16, 15, 14, 13, 12, 11, 10,  8,  9,  7,  6,  5,  4,\n",
       "          3,  2,  1]], dtype=int64), array([206.54380634, 207.69880728]))"
      ]
     },
     "execution_count": 69,
     "metadata": {},
     "output_type": "execute_result"
    }
   ],
   "source": [
    "#flattened\n",
    "np.argsort(sc4, axis = 1) + 1,  np.min(sc4, axis = 1)"
   ]
  },
  {
   "cell_type": "markdown",
   "metadata": {},
   "source": [
    "<b>Ответ:</b> \n",
    "\n",
    "1. overlap distance 234.4, n_neighbors = 13 , overlap uniform 208.5,  n_neighbors = 13\n",
    "2. log_overlap distance 232.9,  n_neighbors = 20, log_overlap uniform 207.1,  n_neighbors = 19\n",
    "3. flattened_overlap distance 206.5,  n_neighbors = 20, flattened_overlap uniform 207.7,  n_neighbors = 20\n",
    "\n",
    "Лучшая точность достигается при сглаженном индикаторе совпадания, потому что в отличии от простого индикатора равенства, такая функция расстояния учитывает не только факт равенства признаков, но и степень близости объектов при их совпадении. Чем меньше вероятность совпадения значений признаков у объектов, тем ближе они считаются друг к другу.\n",
    "\n",
    "Следующим по качеству стоит индикатор с логарифмом. Это объясняется тем, что такая функция расстояния учитывает степень удаленности объектов при неравных признаках: чем чаще встречаются эти значения признаков, тем дальше объекты друг от друга при их несовпадении."
   ]
  },
  {
   "cell_type": "markdown",
   "metadata": {},
   "source": [
    "<b>2.4 (2.5 балла)</b> Отойдем ненадолго от задачи регрессии и перейдём к задаче классификации: будем определять, являеться ли квартира дорогой $(target = 1)$ или дешевой $(target = 0)$. Будем считать дорогими квариры, цена которых выше среднего."
   ]
  },
  {
   "cell_type": "code",
   "execution_count": 105,
   "metadata": {},
   "outputs": [],
   "source": [
    "data['target'] = (data.price > data.price.mean()).astype(int)"
   ]
  },
  {
   "cell_type": "code",
   "execution_count": 106,
   "metadata": {},
   "outputs": [],
   "source": [
    "X_train, X_test, y_train, y_test = train_test_split(data.drop(columns=['price']), data[['price']],\n",
    "                                                    test_size=0.3, random_state=241)"
   ]
  },
  {
   "cell_type": "markdown",
   "metadata": {},
   "source": [
    "Реализуйте счетчики, которые заменят категориальные признаки на вещественные.\n",
    "\n",
    "А именно, для каждого категориального признака $f_j(x)$ необходимо сделать следующее:\n",
    "1. Число `counts` объектов в обучающей выборке с таким же значением признака.\n",
    "\\begin{align}\n",
    "counts_j(c) = \\sum_{i=1}^l [f_j(x_i) = c]\n",
    "\\end{align}\n",
    "2. Число `successes` объектов первого класса ($y = 1$) в обучающей выборке с таким же значением признака.\n",
    "\\begin{align}\n",
    "successes_j(c) = \\sum_{i=1}^l[f_j(x_i) = c][y_i = +1].\n",
    "\\end{align}\n",
    "3. Сглаженное отношение двух предыдущих величин:\n",
    "\\begin{align}\n",
    "p_j(c) = \\frac{successes_j(c) + a}{counts_j(c) + b},\n",
    "\\end{align}\n",
    "\n",
    "где $a$ и $b$ - априорные счетчики (например, a = 1, b = 2)."
   ]
  },
  {
   "cell_type": "code",
   "execution_count": 107,
   "metadata": {},
   "outputs": [],
   "source": [
    "def counts(x, x_train):\n",
    "    \"\"\"\n",
    "    params:\n",
    "        x: value on categorical feature for N objects\n",
    "    returns: vector of length N\n",
    "    \"\"\"\n",
    "    cnt = [np.sum(a == x_train) for a in x]\n",
    "    return np.array(cnt)"
   ]
  },
  {
   "cell_type": "code",
   "execution_count": 108,
   "metadata": {},
   "outputs": [],
   "source": [
    "def successes(x, x_train, y_train):\n",
    "    cnt = [np.sum((a == x_train) & (y_train == 1)) for a in x]\n",
    "    return np.array(cnt)"
   ]
  },
  {
   "cell_type": "code",
   "execution_count": 109,
   "metadata": {},
   "outputs": [],
   "source": [
    "def p(x, x_train, y_train, a, b):\n",
    "    cnt = (successes(x, x_train, y_train) + a) / (counts(x, x_train) + b)\n",
    "    return cnt"
   ]
  },
  {
   "cell_type": "code",
   "execution_count": 110,
   "metadata": {},
   "outputs": [],
   "source": [
    "s = ['room_type', 'host_name', 'neighbourhood_group', 'neighbourhood']"
   ]
  },
  {
   "cell_type": "code",
   "execution_count": 113,
   "metadata": {},
   "outputs": [],
   "source": [
    "for ch in s:\n",
    "    data[ch+'_cnt'] = counts(data[ch+'_labels'].values, X_train[ch+'_labels'].values)\n",
    "    data[ch+'_suc'] = successes(data[ch+'_labels'].values, X_train[ch+'_labels'].values, X_train['target'].values)\n",
    "    data[ch+'_cnt_p'] = p(data[ch+'_labels'].values, X_train[ch+'_labels'].values, X_train['target'].values, 1, 2)"
   ]
  },
  {
   "cell_type": "markdown",
   "metadata": {},
   "source": [
    "Поскольку признаки, содержащие информацию о целевой переменной, могут привести к переобучению, может оказаться полезным сделать *фолдинг*: разбить обучающую выборку на $n$ частей, и для $i$-й части считать `counts` и `successes` по всем остальным частям. Для тестовой выборки используются счетчики, посчитанный по всей обучающей выборке. Реализуйте и такой вариант. Достаточно взять $n = 3$."
   ]
  },
  {
   "cell_type": "code",
   "execution_count": 114,
   "metadata": {},
   "outputs": [],
   "source": [
    "X_train, X_test, y_train, y_test = train_test_split(data.drop(columns=['price']), data[['price']],\n",
    "                                                    test_size=0.3, random_state=241)"
   ]
  },
  {
   "cell_type": "code",
   "execution_count": 115,
   "metadata": {},
   "outputs": [],
   "source": [
    "def fold_counts(x):\n",
    "    \"\"\"\n",
    "    params:\n",
    "        x: value on categorical feature for N objects\n",
    "    returns: vector of length N\n",
    "    \"\"\"\n",
    "    fold = []\n",
    "    for i in range(3):\n",
    "        a = x[np.arange(i * len(x) // 3, (i + 1) * len(x) // 3)]\n",
    "        fold.append(a)\n",
    "          \n",
    "    cnt = [np.sum(a == fold[1]) + np.sum(a == fold[2]) for a in fold[0]]\n",
    "    cnt += [np.sum(a == fold[0]) + np.sum(a == fold[2]) for a in fold[1]]\n",
    "    cnt += [np.sum(a == fold[0]) + np.sum(a == fold[1]) for a in fold[2]]\n",
    "\n",
    "    return np.array(cnt)"
   ]
  },
  {
   "cell_type": "code",
   "execution_count": 116,
   "metadata": {},
   "outputs": [],
   "source": [
    "def fold_successes(x, y):\n",
    "    \"\"\"\n",
    "    params:\n",
    "        x: value on categorical feature for N objects\n",
    "    returns: vector of length N\n",
    "    \"\"\"\n",
    "    fold = []\n",
    "    for i in range(3):\n",
    "        a = x[np.arange(i * len(x) // 3, (i + 1) * len(x) // 3)]\n",
    "        b = y[np.arange(i * len(x) // 3, (i + 1) * len(x) // 3)]\n",
    "        fold.append((a,b))\n",
    "          \n",
    "    cnt = [np.sum((a == fold[1][0]) & (fold[1][1] == 1)) + np.sum((a == fold[2][0]) & (fold[2][1] == 1)) for a in fold[0][0]]\n",
    "    cnt += [np.sum((a == fold[0][0]) & (fold[0][1] == 1)) + np.sum((a == fold[2][0]) & (fold[2][1] == 1)) for a in fold[1][0]]\n",
    "    cnt += [np.sum((a == fold[0][0]) & (fold[0][1] == 1)) + np.sum((a == fold[1][0]) & (fold[1][1] == 1)) for a in fold[2][0]]\n",
    "    return np.array(cnt)"
   ]
  },
  {
   "cell_type": "code",
   "execution_count": 117,
   "metadata": {},
   "outputs": [],
   "source": [
    "def fold_p(x, y, a, b):\n",
    "    cnt = (fold_successes(x, y) + a) / (fold_counts(x) + b)\n",
    "    return cnt"
   ]
  },
  {
   "cell_type": "code",
   "execution_count": 118,
   "metadata": {},
   "outputs": [],
   "source": [
    "for ch in s:\n",
    "    X_train[ch+'_cnt_fold'] = fold_counts(X_train[ch+'_labels'].values)\n",
    "    X_train[ch+'_suc_fold'] = fold_successes(X_train[ch+'_labels'].values, X_train['target'].values)\n",
    "    X_train[ch+'_cnt_p_fold'] = fold_p(X_train[ch+'_labels'].values, X_train['target'].values, 1, 2)"
   ]
  },
  {
   "cell_type": "code",
   "execution_count": 119,
   "metadata": {},
   "outputs": [],
   "source": [
    "for ch in s:\n",
    "    X_test[ch+'_cnt_fold'] = X_test[ch+'_cnt'].copy()\n",
    "    X_test[ch+'_suc_fold'] = X_test[ch+'_suc'].copy()\n",
    "    X_test[ch+'_cnt_p_fold'] = X_test[ch+'_cnt_p'].copy()"
   ]
  },
  {
   "cell_type": "code",
   "execution_count": 120,
   "metadata": {},
   "outputs": [],
   "source": [
    "for ch in s:\n",
    "    data[ch+'_cnt_fold'] = X_test[ch+'_cnt_fold'].copy()\n",
    "    data[ch+'_suc_fold'] = X_test[ch+'_suc_fold'].copy()\n",
    "    data[ch+'_cnt_p_fold'] = X_test[ch+'_cnt_p_fold'].copy()"
   ]
  },
  {
   "cell_type": "code",
   "execution_count": 121,
   "metadata": {},
   "outputs": [],
   "source": [
    "for ch in s:\n",
    "    data[ch+'_cnt_fold'].fillna(X_train[ch+'_cnt_fold'], inplace= True)\n",
    "    data[ch+'_suc_fold'].fillna(X_train[ch+'_suc_fold'], inplace= True)\n",
    "    data[ch+'_cnt_p_fold'].fillna(X_train[ch+'_cnt_p_fold'], inplace= True)"
   ]
  },
  {
   "cell_type": "markdown",
   "metadata": {},
   "source": [
    "Посчитайте на тесте AUC-ROC метода $k$ ближайших соседей с евклидовой метрикой для выборки, где категориальные признаки заменены на счетчики. Сравните по AUC-ROC два варианта формирования выборки — с фолдингом и без. Не забудьте подобрать наилучшее число соседей $k$."
   ]
  },
  {
   "cell_type": "code",
   "execution_count": 136,
   "metadata": {},
   "outputs": [],
   "source": [
    "from sklearn.metrics import roc_auc_score"
   ]
  },
  {
   "cell_type": "code",
   "execution_count": 122,
   "metadata": {},
   "outputs": [],
   "source": [
    "X = X_train\n",
    "X = X[['neighbourhood_group_suc', 'host_name_suc', 'neighbourhood_suc', 'room_type_suc', \n",
    "           'neighbourhood_group_cnt', 'host_name_cnt', 'neighbourhood_cnt', 'room_type_cnt', \n",
    "           'neighbourhood_group_cnt_p', 'host_name_cnt_p', 'neighbourhood_cnt_p', 'room_type_cnt_p']]\n",
    "y = y_train\n",
    "\n",
    "X_t = X_test\n",
    "y_target = X_t['target']\n",
    "X_t = X_t[['neighbourhood_group_suc', 'host_name_suc', 'neighbourhood_suc', 'room_type_suc', \n",
    "           'neighbourhood_group_cnt', 'host_name_cnt', 'neighbourhood_cnt', 'room_type_cnt',  \n",
    "           'neighbourhood_group_cnt_p', 'host_name_cnt_p', 'neighbourhood_cnt_p', 'room_type_cnt_p',]]\n",
    "y_t = y_test\n",
    "\n",
    "X_f = X_train\n",
    "X_f = X_f[['neighbourhood_group_suc_fold', 'host_name_suc_fold', 'neighbourhood_suc_fold', \n",
    "       'room_type_suc_fold',  'neighbourhood_group_cnt_fold', 'host_name_cnt_fold', \n",
    "       'neighbourhood_cnt_fold', 'room_type_cnt_fold', 'neighbourhood_group_cnt_p_fold', \n",
    "       'host_name_cnt_p_fold', 'neighbourhood_cnt_p_fold', 'room_type_cnt_p_fold']]\n",
    "y_f = y_train\n",
    "\n",
    "X_t_f = X_test\n",
    "y_target_f = X_t_f['target']\n",
    "X_t_f = X_t_f[['neighbourhood_group_suc_fold', 'host_name_suc_fold', 'neighbourhood_suc_fold', \n",
    "       'room_type_suc_fold',  'neighbourhood_group_cnt_fold', 'host_name_cnt_fold', \n",
    "       'neighbourhood_cnt_fold', 'room_type_cnt_fold',  'neighbourhood_group_cnt_p_fold', \n",
    "       'host_name_cnt_p_fold', 'neighbourhood_cnt_p_fold', 'room_type_cnt_p_fold']]\n",
    "y_t_f = y_test\n"
   ]
  },
  {
   "cell_type": "code",
   "execution_count": 138,
   "metadata": {},
   "outputs": [],
   "source": [
    "m = KNNRegressor(n_neighbors = 10, metric= 'euclidean', mode = 'uniform')\n",
    "m.fit(X, y)\n",
    "res = m.predict(X_t,n_neighbors = 10)"
   ]
  },
  {
   "cell_type": "code",
   "execution_count": 139,
   "metadata": {},
   "outputs": [
    {
     "data": {
      "text/plain": [
       "0.737481238030873"
      ]
     },
     "execution_count": 139,
     "metadata": {},
     "output_type": "execute_result"
    }
   ],
   "source": [
    "res1 = (res > data.price.mean()).astype(int)\n",
    "roc_auc_score (y_target ,  res1)"
   ]
  },
  {
   "cell_type": "code",
   "execution_count": 140,
   "metadata": {},
   "outputs": [],
   "source": [
    "m = KNNRegressor(n_neighbors = 10, metric= 'euclidean', mode = 'distance')\n",
    "m.fit(X, y)\n",
    "res = m.predict(X_t,n_neighbors = 10)"
   ]
  },
  {
   "cell_type": "code",
   "execution_count": 141,
   "metadata": {},
   "outputs": [
    {
     "data": {
      "text/plain": [
       "0.7224899662840376"
      ]
     },
     "execution_count": 141,
     "metadata": {},
     "output_type": "execute_result"
    }
   ],
   "source": [
    "res1 = (res > data.price.mean()).astype(int)\n",
    "roc_auc_score (y_target ,  res1)"
   ]
  },
  {
   "cell_type": "code",
   "execution_count": 143,
   "metadata": {},
   "outputs": [],
   "source": [
    "m = KNNRegressor(n_neighbors = 10, metric= 'euclidean', mode = 'uniform')\n",
    "m.fit(X_f, y_f)\n",
    "res = m.predict(X_t_f,n_neighbors = 10)"
   ]
  },
  {
   "cell_type": "code",
   "execution_count": 144,
   "metadata": {},
   "outputs": [
    {
     "data": {
      "text/plain": [
       "0.7668772643082178"
      ]
     },
     "execution_count": 144,
     "metadata": {},
     "output_type": "execute_result"
    }
   ],
   "source": [
    "res1 = (res > data.price.mean()).astype(int)\n",
    "roc_auc_score (y_target_f,  res1)"
   ]
  },
  {
   "cell_type": "code",
   "execution_count": 145,
   "metadata": {},
   "outputs": [],
   "source": [
    "m = KNNRegressor(n_neighbors = 10, metric= 'euclidean', mode = 'distance')\n",
    "m.fit(X_f, y_f)\n",
    "res = m.predict(X_t_f,n_neighbors = 10)"
   ]
  },
  {
   "cell_type": "code",
   "execution_count": 146,
   "metadata": {},
   "outputs": [
    {
     "data": {
      "text/plain": [
       "0.7668772643082178"
      ]
     },
     "execution_count": 146,
     "metadata": {},
     "output_type": "execute_result"
    }
   ],
   "source": [
    "res1 = (res > data.price.mean()).astype(int)\n",
    "roc_auc_score (y_target_f ,  res1)"
   ]
  },
  {
   "cell_type": "markdown",
   "metadata": {},
   "source": [
    "Значение AUC ROC  выше при работе с фолдами, чем без них. \n",
    "\n",
    "Можно объяснить это тем, что вычисленные значения счетчиков содержат информацию о целевой переменной, то есть возникает эффект переобучения. Фолдинг позволяет его уменьшить, так как значения признака для каждого объекта определяется по блоку, в который данный объект не входит."
   ]
  },
  {
   "cell_type": "markdown",
   "metadata": {},
   "source": [
    "Подбор числа соседей"
   ]
  },
  {
   "cell_type": "code",
   "execution_count": 147,
   "metadata": {},
   "outputs": [],
   "source": [
    "def knn_score_roc_auc(X_tr, y_tr, X_ts, y_ts, k_list, metric, mean_price):\n",
    "    X_train = np.array(X_tr.copy())\n",
    "    X_test = np.array(X_ts.copy())\n",
    "    y_train = np.copy(y_tr).reshape(-1,)\n",
    "    y_test = np.copy(y_ts).reshape(-1,)\n",
    "\n",
    "    m = NearestNeighbors(n_neighbors=max(k_list), metric=metric)\n",
    "    sc_u = []\n",
    "    sc_d = []\n",
    "    m.fit(X_train, y_train)\n",
    "    dist, idx = m.kneighbors(X_test, n_neighbors = max(k_list))\n",
    "    for k in k_list:\n",
    "        d = dist[:, :k]\n",
    "        i = idx[:, :k]\n",
    "        #distance\n",
    "        w = 1 / (d + 1e-5)\n",
    "        coef = w.sum(axis = 1)\n",
    "        answers = y_train[i] * w \n",
    "        answers = answers.sum(axis = 1) / coef\n",
    "        res1 = (answers > mean_price).astype(int)\n",
    "        sc_d.append(roc_auc_score (y_target ,  res1))  \n",
    "        \n",
    "        #uniform\n",
    "        answers = y_train[i]\n",
    "        coef = k\n",
    "        answers = answers.sum(axis = 1) / coef\n",
    "        res1 = (answers > mean_price).astype(int)\n",
    "        sc_u.append(roc_auc_score (y_target ,  res1))\n",
    "        \n",
    "    return sc_d, sc_u"
   ]
  },
  {
   "cell_type": "code",
   "execution_count": 148,
   "metadata": {},
   "outputs": [],
   "source": [
    "sc1 = knn_score_roc_auc(X, y, X_t, y_target, np.arange(1, 20), 'euclidean', data.price.mean())\n",
    "#без фолдов"
   ]
  },
  {
   "cell_type": "code",
   "execution_count": 149,
   "metadata": {},
   "outputs": [
    {
     "data": {
      "text/plain": [
       "(array([0.73056944, 0.74623726]), array([18, 18], dtype=int64))"
      ]
     },
     "execution_count": 149,
     "metadata": {},
     "output_type": "execute_result"
    }
   ],
   "source": [
    "np.max(sc1, axis = 1), np.argmax(sc1, axis = 1)"
   ]
  },
  {
   "cell_type": "code",
   "execution_count": 150,
   "metadata": {},
   "outputs": [],
   "source": [
    "sc2 = knn_score_roc_auc(X_f, y_f, X_t_f, y_target_f, np.arange(1, 20), 'euclidean', data.price.mean())\n",
    "#с фолдами"
   ]
  },
  {
   "cell_type": "code",
   "execution_count": 151,
   "metadata": {},
   "outputs": [
    {
     "data": {
      "text/plain": [
       "(array([0.77641896, 0.77641896]), array([17, 17], dtype=int64))"
      ]
     },
     "execution_count": 151,
     "metadata": {},
     "output_type": "execute_result"
    }
   ],
   "source": [
    "np.max(sc2, axis = 1), np.argmax(sc2, axis = 1)"
   ]
  },
  {
   "cell_type": "markdown",
   "metadata": {},
   "source": [
    "При классификации с формированием счетчиков для категориальных признаков без фолдов с евклидовой метрикой лучшее число соседей - 19, с фолдами - 18. Лучшее значение AUC ROC = 77.7"
   ]
  },
  {
   "cell_type": "markdown",
   "metadata": {},
   "source": [
    "<b>2.5 (1 балл)</b> Вернемся к задаче регрессии. Утверждается, что для задачи регрессии можно также сделать преобразование категориальных признаков в действительные числа. Для этого достаточно для каждого значения признака $f_j$ вычислить:\n",
    "\\begin{align}\n",
    "p_j(c) = g(T_i | f_j(x_i) = c),\n",
    "\\end{align}\n",
    "\n",
    "где $T_i$ - значения целевой переменной объекта $x_i$. Функция $g$ - среднее (mean) или среднеквадратичное отклонение (std).\n",
    "\n",
    "Закодируйте категориальные признаки обоими способами и найдите значение RMSE. Используйте евклидову метрику для поиска ближайших соседей. Для какой функции $g$ значение RMSE лучше? Почему?"
   ]
  },
  {
   "cell_type": "code",
   "execution_count": 17,
   "metadata": {},
   "outputs": [],
   "source": [
    "def mean_p(x, x_train, y_train):\n",
    "    cnt = [np.mean(y_train[x_train == a]) for a in x]\n",
    "    return np.array(cnt)"
   ]
  },
  {
   "cell_type": "code",
   "execution_count": 18,
   "metadata": {},
   "outputs": [],
   "source": [
    "def std_p(x, x_train, y_train):\n",
    "    cnt = [np.std(y_train[x_train == a]) for a in x]\n",
    "    return np.array(cnt)"
   ]
  },
  {
   "cell_type": "code",
   "execution_count": 76,
   "metadata": {},
   "outputs": [],
   "source": [
    "for ch in s:\n",
    "    data[ch+'_p_mean'] = mean_p(data[ch+'_labels'].values, X_train[ch+'_labels'].values, y_train.values)\n",
    "    data[ch+'_p_std'] = std_p(data[ch+'_labels'].values, X_train[ch+'_labels'].values, y_train.values)"
   ]
  },
  {
   "cell_type": "code",
   "execution_count": 79,
   "metadata": {},
   "outputs": [],
   "source": [
    "data.host_name_p_mean.fillna(data.host_name_p_mean.mean(), inplace = True)\n",
    "data.host_name_p_std.fillna(data.host_name_p_std.mean(), inplace = True)\n",
    "data.neighbourhood_p_std.fillna(data.neighbourhood_p_std.mean(), inplace = True)\n",
    "data.neighbourhood_p_mean.fillna(data.neighbourhood_p_mean.mean(), inplace = True)"
   ]
  },
  {
   "cell_type": "code",
   "execution_count": 125,
   "metadata": {},
   "outputs": [],
   "source": [
    "X_train, X_test, y_train, y_test = train_test_split(data.drop(columns=['price']), data[['price']],\n",
    "                                                    test_size=0.3, random_state=241)"
   ]
  },
  {
   "cell_type": "code",
   "execution_count": 126,
   "metadata": {},
   "outputs": [],
   "source": [
    "X = X_train\n",
    "X = X[['neighbourhood_group_p_mean', 'host_name_p_mean', 'neighbourhood_p_mean', \n",
    "       'room_type_p_mean']]\n",
    "y = y_train\n",
    "\n",
    "X_t = X_test\n",
    "X_t = X_t[['neighbourhood_group_p_mean', 'host_name_p_mean', 'neighbourhood_p_mean', \n",
    "       'room_type_p_mean']]\n",
    "y_t = y_test\n"
   ]
  },
  {
   "cell_type": "code",
   "execution_count": 127,
   "metadata": {},
   "outputs": [],
   "source": [
    "m = KNNRegressor(n_neighbors = 10, metric= 'euclidean', mode = 'uniform')\n",
    "m.fit(X, y)\n",
    "res = m.predict(X_t,n_neighbors = 10)"
   ]
  },
  {
   "cell_type": "code",
   "execution_count": 128,
   "metadata": {},
   "outputs": [
    {
     "data": {
      "text/plain": [
       "221.74098481313624"
      ]
     },
     "execution_count": 128,
     "metadata": {},
     "output_type": "execute_result"
    }
   ],
   "source": [
    "np.sqrt(np.sum((res - np.array(y_t).reshape(-1,)) ** 2) / len(res))"
   ]
  },
  {
   "cell_type": "code",
   "execution_count": 398,
   "metadata": {},
   "outputs": [],
   "source": [
    "m = KNNRegressor(n_neighbors = 10, metric= 'euclidean', mode = 'distance')\n",
    "m.fit(X, y)\n",
    "res = m.predict(X_t,n_neighbors = 10)"
   ]
  },
  {
   "cell_type": "code",
   "execution_count": 399,
   "metadata": {},
   "outputs": [
    {
     "data": {
      "text/plain": [
       "262.18757934035744"
      ]
     },
     "execution_count": 399,
     "metadata": {},
     "output_type": "execute_result"
    }
   ],
   "source": [
    "np.sqrt(np.sum((res - np.array(y_t).reshape(-1,)) ** 2) / len(res))"
   ]
  },
  {
   "cell_type": "code",
   "execution_count": 400,
   "metadata": {},
   "outputs": [],
   "source": [
    "sc = knn_score(X, y, X_t, y_t, np.arange(1,20), 'euclidean', 'dist_uniform')"
   ]
  },
  {
   "cell_type": "code",
   "execution_count": 401,
   "metadata": {},
   "outputs": [
    {
     "data": {
      "text/plain": [
       "(array([258.81503503, 212.72814436]), array([18, 17], dtype=int64))"
      ]
     },
     "execution_count": 401,
     "metadata": {},
     "output_type": "execute_result"
    }
   ],
   "source": [
    "np.min(sc, axis = 1), np.argmin(sc, axis =1)"
   ]
  },
  {
   "cell_type": "code",
   "execution_count": 177,
   "metadata": {},
   "outputs": [],
   "source": [
    "X = X_train\n",
    "X = X[['neighbourhood_group_p_std', \n",
    "       'host_name_p_std', 'neighbourhood_p_std', 'room_type_p_std']]\n",
    "y = y_train\n",
    "\n",
    "X_t = X_test\n",
    "X_t = X_t[['neighbourhood_group_p_std', \n",
    "       'host_name_p_std', 'neighbourhood_p_std', 'room_type_p_std']]\n",
    "y_t = y_test"
   ]
  },
  {
   "cell_type": "code",
   "execution_count": 178,
   "metadata": {},
   "outputs": [],
   "source": [
    "m = KNNRegressor(n_neighbors = 10, metric= 'euclidean', mode = 'uniform')\n",
    "m.fit(X, y)\n",
    "res = m.predict(X_t,n_neighbors = 10)"
   ]
  },
  {
   "cell_type": "code",
   "execution_count": 179,
   "metadata": {},
   "outputs": [
    {
     "data": {
      "text/plain": [
       "213.2775376179013"
      ]
     },
     "execution_count": 179,
     "metadata": {},
     "output_type": "execute_result"
    }
   ],
   "source": [
    "np.sqrt(np.sum((res - np.array(y_t).reshape(-1,)) ** 2) / len(res))"
   ]
  },
  {
   "cell_type": "code",
   "execution_count": 180,
   "metadata": {},
   "outputs": [],
   "source": [
    "m = KNNRegressor(n_neighbors = 10, metric= 'euclidean', mode = 'distance')\n",
    "m.fit(X, y)\n",
    "res = m.predict(X_t,n_neighbors = 10)"
   ]
  },
  {
   "cell_type": "code",
   "execution_count": 181,
   "metadata": {},
   "outputs": [
    {
     "data": {
      "text/plain": [
       "238.0140036271114"
      ]
     },
     "execution_count": 181,
     "metadata": {},
     "output_type": "execute_result"
    }
   ],
   "source": [
    "np.sqrt(np.sum((res - np.array(y_t).reshape(-1,)) ** 2) / len(res))"
   ]
  },
  {
   "cell_type": "code",
   "execution_count": 182,
   "metadata": {},
   "outputs": [],
   "source": [
    "sc = knn_score(X, y, X_t, y_t, np.arange(1,20), 'euclidean', 'dist_uniform')"
   ]
  },
  {
   "cell_type": "code",
   "execution_count": 183,
   "metadata": {},
   "outputs": [
    {
     "data": {
      "text/plain": [
       "(array([235.76706122, 210.78802192]), array([18, 18], dtype=int64))"
      ]
     },
     "execution_count": 183,
     "metadata": {},
     "output_type": "execute_result"
    }
   ],
   "source": [
    "np.min(sc, axis = 1), np.argmin(sc, axis =1)"
   ]
  },
  {
   "cell_type": "markdown",
   "metadata": {},
   "source": [
    "Использование среднеквадратического отклонения в преобразовании дает лучшую точность по сравнению со средним арифметическим, так как лучше отображает зависимость данных признаков от целевой переменной. \n",
    "Наименьшая среднеквадритичная ошибка (210.79) достигается при 18 соседях без учета весов"
   ]
  },
  {
   "cell_type": "markdown",
   "metadata": {},
   "source": [
    "## Часть 3: Текстовые признаки"
   ]
  },
  {
   "cell_type": "markdown",
   "metadata": {},
   "source": [
    "<b>3.1 (2 балла)</b> Перейдем от категориальным признаков к текстовым. Рассмотрим 2 способа преобразования текста в действительные числа:\n",
    "- Мешок слов (Bag of Words)\n",
    "- TF-IDF\n",
    "\n",
    "[Здесь](https://scikit-learn.org/stable/modules/feature_extraction.html) вы можете прочитать про их применение в Питоне.\n",
    "\n",
    "Сравните оба способа на задаче регресси. Какую лучше метрику использовать: евклидову или косинусную меру? Постройте графики зависимости качества решения задачи от способа преобразования, метрики и количества соседей. Мера качества - RMSE.\n",
    "\n",
    "Объясните полученные результаты.\n",
    "\n",
    "Перед преобразованием не забудьте уменьшить размер словаря. Например, это можно сделать за счет приведения всех слов к одному регистру и удаления [стопслов](https://en.wikipedia.org/wiki/Stop_words) (артиклей, предлогов, союзов)."
   ]
  },
  {
   "cell_type": "code",
   "execution_count": 24,
   "metadata": {},
   "outputs": [
    {
     "name": "stdout",
     "output_type": "stream",
     "text": [
      "[nltk_data] Downloading package stopwords to\n",
      "[nltk_data]     C:\\Users\\пользователь\\AppData\\Roaming\\nltk_data...\n",
      "[nltk_data]   Package stopwords is already up-to-date!\n"
     ]
    },
    {
     "data": {
      "text/plain": [
       "True"
      ]
     },
     "execution_count": 24,
     "metadata": {},
     "output_type": "execute_result"
    }
   ],
   "source": [
    "import string\n",
    "import nltk\n",
    "from nltk.corpus import stopwords\n",
    "nltk.download('stopwords')"
   ]
  },
  {
   "cell_type": "code",
   "execution_count": 25,
   "metadata": {},
   "outputs": [],
   "source": [
    "data['name'] = data['name'].str.lower()\n",
    "nums = '0123456789'\n",
    "data['name'] = data['name'].apply(lambda s: str(s).translate(str.maketrans('', '', nums)))\n",
    "data['name'] = data['name'].str.split()"
   ]
  },
  {
   "cell_type": "code",
   "execution_count": 27,
   "metadata": {},
   "outputs": [],
   "source": [
    "def del_stop_words(s):\n",
    "    ans = []\n",
    "    for a in s:\n",
    "        if a not in stopwords.words('english'):\n",
    "            ans.append(a)\n",
    "    return ans"
   ]
  },
  {
   "cell_type": "code",
   "execution_count": 28,
   "metadata": {},
   "outputs": [],
   "source": [
    "data['name'] = data['name'].apply(lambda s: del_stop_words(s))"
   ]
  },
  {
   "cell_type": "code",
   "execution_count": 29,
   "metadata": {},
   "outputs": [],
   "source": [
    "data['name'] = data['name'].apply(lambda s: str(s).translate(str.maketrans('', '', string.punctuation)))"
   ]
  },
  {
   "cell_type": "code",
   "execution_count": 30,
   "metadata": {},
   "outputs": [
    {
     "data": {
      "text/plain": [
       "0                     clean  quiet apt home park\n",
       "1                          skylit midtown castle\n",
       "2                        village harlemnew york \n",
       "3                   cozy entire floor brownstone\n",
       "4    entire apt spacious studioloft central park\n",
       "Name: name, dtype: object"
      ]
     },
     "execution_count": 30,
     "metadata": {},
     "output_type": "execute_result"
    }
   ],
   "source": [
    "data['name'].head()"
   ]
  },
  {
   "cell_type": "code",
   "execution_count": 133,
   "metadata": {},
   "outputs": [],
   "source": [
    "from sklearn.feature_extraction.text import CountVectorizer"
   ]
  },
  {
   "cell_type": "code",
   "execution_count": 134,
   "metadata": {},
   "outputs": [],
   "source": [
    "data_copy = data.copy()"
   ]
  },
  {
   "cell_type": "code",
   "execution_count": 135,
   "metadata": {},
   "outputs": [],
   "source": [
    "vect = CountVectorizer()\n",
    "m = vect.fit_transform(data['name'])"
   ]
  },
  {
   "cell_type": "code",
   "execution_count": 136,
   "metadata": {},
   "outputs": [
    {
     "data": {
      "text/plain": [
       "<48895x9499 sparse matrix of type '<class 'numpy.int64'>'\n",
       "\twith 230382 stored elements in Compressed Sparse Row format>"
      ]
     },
     "execution_count": 136,
     "metadata": {},
     "output_type": "execute_result"
    }
   ],
   "source": [
    "m"
   ]
  },
  {
   "cell_type": "code",
   "execution_count": null,
   "metadata": {},
   "outputs": [],
   "source": [
    "from sklearn.model_selection import train_test_split\n",
    "X_train, X_test, y_train, y_test = train_test_split(m, data[['price']],\n",
    "                                                    test_size=0.3, random_state=241)"
   ]
  },
  {
   "cell_type": "code",
   "execution_count": 313,
   "metadata": {},
   "outputs": [],
   "source": [
    "m = KNNRegressor(n_neighbors = 10, metric= 'euclidean', mode = 'uniform')\n",
    "m.fit(X_train, y_train)\n",
    "res = m.predict(X_test,n_neighbors = 10)"
   ]
  },
  {
   "cell_type": "code",
   "execution_count": 314,
   "metadata": {},
   "outputs": [
    {
     "data": {
      "text/plain": [
       "214.9452410532548"
      ]
     },
     "execution_count": 314,
     "metadata": {},
     "output_type": "execute_result"
    }
   ],
   "source": [
    "np.sqrt(np.sum((res - np.array(y_test).reshape(-1,)) ** 2) / len(res))"
   ]
  },
  {
   "cell_type": "code",
   "execution_count": 315,
   "metadata": {},
   "outputs": [],
   "source": [
    "m = KNNRegressor(n_neighbors = 10, metric= 'cosine', mode = 'uniform')\n",
    "m.fit(X_train, y_train)\n",
    "res = m.predict(X_test,n_neighbors = 10)"
   ]
  },
  {
   "cell_type": "code",
   "execution_count": 316,
   "metadata": {},
   "outputs": [
    {
     "data": {
      "text/plain": [
       "211.77790667925603"
      ]
     },
     "execution_count": 316,
     "metadata": {},
     "output_type": "execute_result"
    }
   ],
   "source": [
    "np.sqrt(np.sum((res - np.array(y_test).reshape(-1,)) ** 2) / len(res))"
   ]
  },
  {
   "cell_type": "code",
   "execution_count": 317,
   "metadata": {},
   "outputs": [],
   "source": [
    "m = KNNRegressor(n_neighbors = 10, metric= 'euclidean', mode = 'distance')\n",
    "m.fit(X_train, y_train)\n",
    "res = m.predict(X_test,n_neighbors = 10)"
   ]
  },
  {
   "cell_type": "code",
   "execution_count": 318,
   "metadata": {},
   "outputs": [
    {
     "data": {
      "text/plain": [
       "213.70567860626144"
      ]
     },
     "execution_count": 318,
     "metadata": {},
     "output_type": "execute_result"
    }
   ],
   "source": [
    "np.sqrt(np.sum((res - np.array(y_test).reshape(-1,)) ** 2) / len(res))"
   ]
  },
  {
   "cell_type": "code",
   "execution_count": 319,
   "metadata": {},
   "outputs": [],
   "source": [
    "m = KNNRegressor(n_neighbors = 10, metric= 'cosine', mode = 'distance')\n",
    "m.fit(X_train, y_train)\n",
    "res = m.predict(X_test,n_neighbors = 10)"
   ]
  },
  {
   "cell_type": "code",
   "execution_count": 320,
   "metadata": {},
   "outputs": [
    {
     "data": {
      "text/plain": [
       "210.74847247821043"
      ]
     },
     "execution_count": 320,
     "metadata": {},
     "output_type": "execute_result"
    }
   ],
   "source": [
    "np.sqrt(np.sum((res - np.array(y_test).reshape(-1,)) ** 2) / len(res))"
   ]
  },
  {
   "cell_type": "code",
   "execution_count": 321,
   "metadata": {},
   "outputs": [],
   "source": [
    "sc_bw = knn_score(X_train, y_train, X_test, y_test, np.arange(1, 20), 'cosine', 'dist_uni')"
   ]
  },
  {
   "cell_type": "code",
   "execution_count": 323,
   "metadata": {},
   "outputs": [],
   "source": [
    "sc_bw_euc = knn_score(X_train, y_train, X_test, y_test, np.arange(1, 20), 'euclidean', 'dist_uni')"
   ]
  },
  {
   "cell_type": "code",
   "execution_count": 137,
   "metadata": {},
   "outputs": [],
   "source": [
    "from sklearn.feature_extraction.text import TfidfVectorizer\n",
    "vectorizer = TfidfVectorizer()\n",
    "m = vectorizer.fit_transform(data_copy['name'])"
   ]
  },
  {
   "cell_type": "code",
   "execution_count": 138,
   "metadata": {},
   "outputs": [],
   "source": [
    "from sklearn.model_selection import train_test_split\n",
    "X_train, X_test, y_train, y_test = train_test_split(m, data[['price']],\n",
    "                                                    test_size=0.3, random_state=241)"
   ]
  },
  {
   "cell_type": "code",
   "execution_count": 141,
   "metadata": {},
   "outputs": [],
   "source": [
    "sc_tf = knn_score(X_train, y_train, X_test, y_test, np.arange(1, 20), 'cosine', 'dist_uni')"
   ]
  },
  {
   "cell_type": "code",
   "execution_count": 346,
   "metadata": {},
   "outputs": [],
   "source": [
    "sc_tf_euc = knn_score(X_train, y_train, X_test, y_test, np.arange(1, 20), 'euclidean', 'dist_uni')"
   ]
  },
  {
   "cell_type": "code",
   "execution_count": null,
   "metadata": {},
   "outputs": [],
   "source": [
    "m = KNNRegressor(n_neighbors = 10, metric= 'euclidean', mode = 'uniform')\n",
    "m.fit(X_train, y_train)\n",
    "res = m.predict(X_test,n_neighbors = 10)"
   ]
  },
  {
   "cell_type": "code",
   "execution_count": 343,
   "metadata": {},
   "outputs": [
    {
     "data": {
      "text/plain": [
       "211.90335523354452"
      ]
     },
     "execution_count": 343,
     "metadata": {},
     "output_type": "execute_result"
    }
   ],
   "source": [
    "np.sqrt(np.sum((res - np.array(y_test).reshape(-1,)) ** 2) / len(res))"
   ]
  },
  {
   "cell_type": "code",
   "execution_count": 78,
   "metadata": {},
   "outputs": [],
   "source": [
    "m = KNNRegressor(n_neighbors = 10, metric= 'cosine', mode = 'uniform')\n",
    "m.fit(X_train, y_train)\n",
    "res = m.predict(X_test,n_neighbors = 10)"
   ]
  },
  {
   "cell_type": "code",
   "execution_count": 79,
   "metadata": {},
   "outputs": [
    {
     "data": {
      "text/plain": [
       "209.6187709816629"
      ]
     },
     "execution_count": 79,
     "metadata": {},
     "output_type": "execute_result"
    }
   ],
   "source": [
    "np.sqrt(np.sum((res - np.array(y_test).reshape(-1,)) ** 2) / len(res))"
   ]
  },
  {
   "cell_type": "code",
   "execution_count": 80,
   "metadata": {},
   "outputs": [],
   "source": [
    "m = KNNRegressor(n_neighbors = 10, metric= 'euclidean', mode = 'distance')\n",
    "m.fit(X_train, y_train)\n",
    "res = m.predict(X_test,n_neighbors = 10)"
   ]
  },
  {
   "cell_type": "code",
   "execution_count": 81,
   "metadata": {},
   "outputs": [
    {
     "data": {
      "text/plain": [
       "210.57303445882553"
      ]
     },
     "execution_count": 81,
     "metadata": {},
     "output_type": "execute_result"
    }
   ],
   "source": [
    "np.sqrt(np.sum((res - np.array(y_test).reshape(-1,)) ** 2) / len(res))"
   ]
  },
  {
   "cell_type": "code",
   "execution_count": 82,
   "metadata": {},
   "outputs": [],
   "source": [
    "m = KNNRegressor(n_neighbors = 10, metric= 'cosine', mode = 'distance')\n",
    "m.fit(X_train, y_train)\n",
    "res = m.predict(X_test,n_neighbors = 10)"
   ]
  },
  {
   "cell_type": "code",
   "execution_count": 83,
   "metadata": {},
   "outputs": [
    {
     "data": {
      "text/plain": [
       "208.55481344186475"
      ]
     },
     "execution_count": 83,
     "metadata": {},
     "output_type": "execute_result"
    }
   ],
   "source": [
    "np.sqrt(np.sum((res - np.array(y_test).reshape(-1,)) ** 2) / len(res))"
   ]
  },
  {
   "cell_type": "code",
   "execution_count": 438,
   "metadata": {},
   "outputs": [
    {
     "data": {
      "image/png": "[encoded data removed]",
      "text/plain": [
       "<Figure size 1440x576 with 2 Axes>"
      ]
     },
     "metadata": {},
     "output_type": "display_data"
    }
   ],
   "source": [
    "import matplotlib.pyplot as plt\n",
    "\n",
    "cl = ['euclidean_distance', 'euclidean_uniform', 'cosine_distance', 'cosine_uniform',  'cosine_distance_TF_IDF']\n",
    "fig, ax = plt.subplots(figsize=(20, 8), ncols = 2)\n",
    "ax[0].plot(np.arange(1, 20), sc_bw_euc[0],'y', np.arange(1, 20),sc_bw_euc[1], 'c')\n",
    "ax[0].plot(np.arange(1, 20), sc_bw[0],'r', np.arange(1, 20),sc_bw[1], 'g')\n",
    "ax[0].plot(np.arange(1, 20), sc_tf[0],'b:')\n",
    "\n",
    "\n",
    "ax[0].set_xlabel('число соседей')\n",
    "ax[0].set_ylabel('среднеквадратическая ошибка')\n",
    "ax[0].set_xticks(np.arange(1, 20, 2))\n",
    "\n",
    "ax[0].set_title(\"Ошибка предсказания от числа соседей при кодировании текста Bag of words\")\n",
    "ax[0].legend(cl)\n",
    "ax[0].grid()\n",
    "\n",
    "ax[1].plot(np.arange(1, 20), sc_tf_euc[0],'y', np.arange(1, 20),sc_tf_euc[1], 'c')\n",
    "ax[1].plot(np.arange(1, 20), sc_tf[0],'r', np.arange(1, 20),sc_tf[1], 'g')\n",
    "\n",
    "ax[1].set_xlabel('число соседей')\n",
    "ax[1].set_ylabel('среднеквадратическая ошибка')\n",
    "ax[1].set_xticks(np.arange(1, 20, 2))\n",
    "\n",
    "ax[1].set_title(\"Ошибка предсказания от числа соседей при кодировании текста TF_IDF\")\n",
    "ax[1].legend(cl)\n",
    "ax[1].grid()\n",
    "\n"
   ]
  },
  {
   "cell_type": "markdown",
   "metadata": {},
   "source": [
    "Лучшм предсказания по текстовым признакам осуществляется с преобразованием TF-IDF, косинусной метрикой с учеом и весов, при числе соседей 19.\n",
    "\n",
    "Мешок слов проигрывает в точности, потому что содержит информацию только о количество слов в каждом признаке, а TF-IDF также добавляет словам вес, связанный с их частотами во всей выборке, что позволяет более корректно считать расстояние.\n",
    "\n",
    "Косинусная мера дает лучшее качество при работе с текстом, потому учитывает только семантическую составляющую (какие слова в каком отношении входят),но не учитывает длину текста, как евклидова мера."
   ]
  },
  {
   "cell_type": "markdown",
   "metadata": {},
   "source": [
    "<b>3.2 (1 балл)</b> Используя все доступные признаки, решите задачу регрессии. Для категориальных и текстовых признаков выберите лучшие преобразования. Повлияло ли добавление количественного признака на метрику качества?"
   ]
  },
  {
   "cell_type": "code",
   "execution_count": 37,
   "metadata": {},
   "outputs": [
    {
     "data": {
      "text/html": [
       "<div>\n",
       "<style scoped>\n",
       "    .dataframe tbody tr th:only-of-type {\n",
       "        vertical-align: middle;\n",
       "    }\n",
       "\n",
       "    .dataframe tbody tr th {\n",
       "        vertical-align: top;\n",
       "    }\n",
       "\n",
       "    .dataframe thead th {\n",
       "        text-align: right;\n",
       "    }\n",
       "</style>\n",
       "<table border=\"1\" class=\"dataframe\">\n",
       "  <thead>\n",
       "    <tr style=\"text-align: right;\">\n",
       "      <th></th>\n",
       "      <th>latitude</th>\n",
       "      <th>longitude</th>\n",
       "      <th>minimum_nights</th>\n",
       "      <th>number_of_reviews</th>\n",
       "      <th>last_review_sec</th>\n",
       "      <th>reviews_per_month</th>\n",
       "      <th>calculated_host_listings_count</th>\n",
       "      <th>availability_365</th>\n",
       "      <th>room_type_p_std</th>\n",
       "      <th>host_name_p_std</th>\n",
       "      <th>neighbourhood_group_p_std</th>\n",
       "      <th>neighbourhood_p_std</th>\n",
       "    </tr>\n",
       "  </thead>\n",
       "  <tbody>\n",
       "    <tr>\n",
       "      <th>0</th>\n",
       "      <td>40.64749</td>\n",
       "      <td>-73.97237</td>\n",
       "      <td>1</td>\n",
       "      <td>9</td>\n",
       "      <td>1.539896e+09</td>\n",
       "      <td>0.210000</td>\n",
       "      <td>6</td>\n",
       "      <td>365</td>\n",
       "      <td>173.306079</td>\n",
       "      <td>138.532272</td>\n",
       "      <td>205.530787</td>\n",
       "      <td>65.006769</td>\n",
       "    </tr>\n",
       "    <tr>\n",
       "      <th>1</th>\n",
       "      <td>40.75362</td>\n",
       "      <td>-73.98377</td>\n",
       "      <td>1</td>\n",
       "      <td>45</td>\n",
       "      <td>1.558386e+09</td>\n",
       "      <td>0.380000</td>\n",
       "      <td>2</td>\n",
       "      <td>355</td>\n",
       "      <td>290.260465</td>\n",
       "      <td>146.238822</td>\n",
       "      <td>290.645734</td>\n",
       "      <td>272.645578</td>\n",
       "    </tr>\n",
       "    <tr>\n",
       "      <th>2</th>\n",
       "      <td>40.80902</td>\n",
       "      <td>-73.94190</td>\n",
       "      <td>3</td>\n",
       "      <td>0</td>\n",
       "      <td>1.561237e+09</td>\n",
       "      <td>1.373221</td>\n",
       "      <td>1</td>\n",
       "      <td>365</td>\n",
       "      <td>173.306079</td>\n",
       "      <td>58.726144</td>\n",
       "      <td>290.645734</td>\n",
       "      <td>153.165342</td>\n",
       "    </tr>\n",
       "    <tr>\n",
       "      <th>3</th>\n",
       "      <td>40.68514</td>\n",
       "      <td>-73.95976</td>\n",
       "      <td>1</td>\n",
       "      <td>270</td>\n",
       "      <td>1.562274e+09</td>\n",
       "      <td>4.640000</td>\n",
       "      <td>1</td>\n",
       "      <td>194</td>\n",
       "      <td>290.260465</td>\n",
       "      <td>0.000000</td>\n",
       "      <td>205.530787</td>\n",
       "      <td>557.457392</td>\n",
       "    </tr>\n",
       "    <tr>\n",
       "      <th>4</th>\n",
       "      <td>40.79851</td>\n",
       "      <td>-73.94399</td>\n",
       "      <td>10</td>\n",
       "      <td>9</td>\n",
       "      <td>1.542575e+09</td>\n",
       "      <td>0.100000</td>\n",
       "      <td>1</td>\n",
       "      <td>0</td>\n",
       "      <td>290.260465</td>\n",
       "      <td>97.508559</td>\n",
       "      <td>290.645734</td>\n",
       "      <td>371.780449</td>\n",
       "    </tr>\n",
       "  </tbody>\n",
       "</table>\n",
       "</div>"
      ],
      "text/plain": [
       "   latitude  longitude  minimum_nights  number_of_reviews  last_review_sec  \\\n",
       "0  40.64749  -73.97237               1                  9     1.539896e+09   \n",
       "1  40.75362  -73.98377               1                 45     1.558386e+09   \n",
       "2  40.80902  -73.94190               3                  0     1.561237e+09   \n",
       "3  40.68514  -73.95976               1                270     1.562274e+09   \n",
       "4  40.79851  -73.94399              10                  9     1.542575e+09   \n",
       "\n",
       "   reviews_per_month  calculated_host_listings_count  availability_365  \\\n",
       "0           0.210000                               6               365   \n",
       "1           0.380000                               2               355   \n",
       "2           1.373221                               1               365   \n",
       "3           4.640000                               1               194   \n",
       "4           0.100000                               1                 0   \n",
       "\n",
       "   room_type_p_std  host_name_p_std  neighbourhood_group_p_std  \\\n",
       "0       173.306079       138.532272                 205.530787   \n",
       "1       290.260465       146.238822                 290.645734   \n",
       "2       173.306079        58.726144                 290.645734   \n",
       "3       290.260465         0.000000                 205.530787   \n",
       "4       290.260465        97.508559                 290.645734   \n",
       "\n",
       "   neighbourhood_p_std  \n",
       "0            65.006769  \n",
       "1           272.645578  \n",
       "2           153.165342  \n",
       "3           557.457392  \n",
       "4           371.780449  "
      ]
     },
     "execution_count": 37,
     "metadata": {},
     "output_type": "execute_result"
    }
   ],
   "source": [
    "tmp = data[['latitude', 'longitude', 'minimum_nights', 'number_of_reviews', 'last_review_sec', \n",
    "           'reviews_per_month', 'calculated_host_listings_count', 'availability_365', \n",
    "            'room_type_p_std', 'host_name_p_std', 'neighbourhood_group_p_std', 'neighbourhood_p_std'\n",
    "          ]]\n",
    "tmp = tmp.copy()\n",
    "tmp.head()"
   ]
  },
  {
   "cell_type": "code",
   "execution_count": 38,
   "metadata": {},
   "outputs": [],
   "source": [
    "import sklearn\n",
    "import scipy"
   ]
  },
  {
   "cell_type": "code",
   "execution_count": 40,
   "metadata": {},
   "outputs": [],
   "source": [
    "a = np.copy(tmp)\n",
    "ar = scipy.sparse.csr_matrix.toarray(m)\n",
    "#m - sparse matrix после кодирования TF-IDF\n",
    "array = np.hstack((a, ar))"
   ]
  },
  {
   "cell_type": "code",
   "execution_count": 59,
   "metadata": {},
   "outputs": [],
   "source": [
    "scaler = sklearn.preprocessing.MinMaxScaler()"
   ]
  },
  {
   "cell_type": "code",
   "execution_count": 63,
   "metadata": {},
   "outputs": [],
   "source": [
    "array = scaler.fit_transform(array)"
   ]
  },
  {
   "cell_type": "code",
   "execution_count": 65,
   "metadata": {},
   "outputs": [
    {
     "data": {
      "text/plain": [
       "<48895x9511 sparse matrix of type '<class 'numpy.float64'>'\n",
       "\twith 734804 stored elements in Compressed Sparse Row format>"
      ]
     },
     "execution_count": 65,
     "metadata": {},
     "output_type": "execute_result"
    }
   ],
   "source": [
    "scipy.sparse.csr_matrix(array)"
   ]
  },
  {
   "cell_type": "code",
   "execution_count": 66,
   "metadata": {},
   "outputs": [],
   "source": [
    "X_train, X_test, y_train, y_test = train_test_split(array, data[['price']],\n",
    "                                                    test_size=0.3, random_state=241)"
   ]
  },
  {
   "cell_type": "code",
   "execution_count": 67,
   "metadata": {},
   "outputs": [
    {
     "data": {
      "text/plain": [
       "(array([198.74128218, 200.87861357]), array([2, 2], dtype=int64))"
      ]
     },
     "execution_count": 67,
     "metadata": {},
     "output_type": "execute_result"
    }
   ],
   "source": [
    "sc = knn_score(X_train, y_train, X_test, y_test, np.arange(10, 25), 'euclidean', 'dist_uni')\n",
    "np.min(sc, axis = 1), np.argmin(sc, axis = 1)"
   ]
  },
  {
   "cell_type": "code",
   "execution_count": 68,
   "metadata": {
    "scrolled": true
   },
   "outputs": [
    {
     "data": {
      "text/plain": [
       "([199.05210702457634,\n",
       "  199.10962009498127,\n",
       "  198.741282178921,\n",
       "  199.0348723031973,\n",
       "  199.08285638744172,\n",
       "  199.17365532208433,\n",
       "  199.28020115518703,\n",
       "  199.51647420777041,\n",
       "  199.6917839063538,\n",
       "  199.84201864489427,\n",
       "  200.00835077613516,\n",
       "  200.17006894351272,\n",
       "  200.34089540286487,\n",
       "  200.51509756136122,\n",
       "  200.32968832933213],\n",
       " [201.0006393460477,\n",
       "  201.15614471997674,\n",
       "  200.87861357081078,\n",
       "  201.28102898084467,\n",
       "  201.389404459566,\n",
       "  201.53665016475833,\n",
       "  201.67654333565196,\n",
       "  201.9869055091033,\n",
       "  202.20569788859913,\n",
       "  202.3852782314689,\n",
       "  202.58826370912615,\n",
       "  202.77565558686192,\n",
       "  202.96971373177865,\n",
       "  203.1625330730254,\n",
       "  202.98227896839182])"
      ]
     },
     "execution_count": 68,
     "metadata": {},
     "output_type": "execute_result"
    }
   ],
   "source": [
    "sc"
   ]
  },
  {
   "cell_type": "markdown",
   "metadata": {},
   "source": [
    "Наименьшая среднеквадратичная ошибка предсказания на тесте для метода с весами равна 198.7, без весов - 200.9. Достигается при числе соседей 13. Повышение точности достигается за счет объединения всех признаков, в том числе количественных.\n",
    "В решении используются все полученные признаки, при этом текстовый признак name преобразован через TF-IDF, категориальные переведены в действительные числа. Также выполнено масштабирование признаков на отрезок [0,1]."
   ]
  },
  {
   "cell_type": "markdown",
   "metadata": {},
   "source": [
    "## Часть 4: Выводы\n"
   ]
  },
  {
   "cell_type": "markdown",
   "metadata": {},
   "source": [
    "При решении задачи с использованием только категориальных признаков лучшая достигнутая точность определяется RMSE=206.5. Расстояние между признаками считается через сглаженный индикатор совпадения. \n",
    "\n",
    "\n",
    "При использовании только текстового признака минимальная RMSE=206.5. Текст при этом закодирован методом TF-IDF.\n",
    "\n",
    "\n",
    "При решении задачи со всеми признаками, включая числовые, ошибка уменьшается до 198.7, то есть использование всех признаков повышет качество работы, хоть и незначительно.\n",
    "\n"
   ]
  },
  {
   "cell_type": "markdown",
   "metadata": {},
   "source": [
    "Выполненные эксперименты показывают, что для решения задачи регрессии алгоритмом ближайших соседей важно оптимально настроить гипермапаметры: функцию расстояния между объектами, число ближайших соседей, выбрать преобразованиия для признаков. Сложность заключается в том, что для разных типов признаков, как-то: категориальные, текстовые, числовые, лучшая метрика и число соседей могут не совпадать, что показывает последний эксперимент с подбором количества соседей."
   ]
  }
 ],
 "metadata": {
  "kernelspec": {
   "display_name": "Python 3",
   "language": "python",
   "name": "python3"
  },
  "language_info": {
   "codemirror_mode": {
    "name": "ipython",
    "version": 3
   },
   "file_extension": ".py",
   "mimetype": "text/x-python",
   "name": "python",
   "nbconvert_exporter": "python",
   "pygments_lexer": "ipython3",
   "version": "3.6.5"
  }
 },
 "nbformat": 4,
 "nbformat_minor": 1
}
