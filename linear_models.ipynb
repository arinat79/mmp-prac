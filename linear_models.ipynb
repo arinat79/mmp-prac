{
 "cells": [
  {
   "cell_type": "markdown",
   "metadata": {},
   "source": [
    "# Машинное обучение, ВМК МГУ\n",
    "\n",
    "# Практическое задание 3\n",
    "\n",
    "### Общая информация\n",
    "\n",
    "Дата выдачи: 20 ноября 2019\n",
    "\n",
    "Мягкий дедлайн: 23:59MSK 3 декабря 2019 (за каждый день просрочки снимается 1 балл)\n",
    "\n",
    "Жесткий дедлайн: 23:59MSK 10 декабря 2019."
   ]
  },
  {
   "cell_type": "markdown",
   "metadata": {},
   "source": [
    "### О задании\n",
    "\n",
    "В этом задании вы:\n",
    "- настроите метод опорных векторов, визуализируете опорные вектора\n",
    "- познакомитесь с калибровочными кривыми и сравните вероятности, выдаваемые логистической регрессией и методом опорных векторов\n",
    "- изучите методы работы с категориальными переменными\n",
    "- в качестве бонуса попробуете библиотеку vowpal wabbit.\n",
    "\n",
    "\n",
    "### Оценивание и штрафы\n",
    "Каждая из задач имеет определенную «стоимость» (указана в скобках около задачи). Максимально допустимая оценка за работу — 10 баллов.\n",
    "\n",
    "Сдавать задание после указанного срока сдачи нельзя. При выставлении неполного балла за задание в связи с наличием ошибок на усмотрение проверяющего предусмотрена возможность исправить работу на указанных в ответном письме условиях.\n",
    "\n",
    "Задание выполняется самостоятельно. «Похожие» решения считаются плагиатом и все задействованные студенты (в том числе те, у кого списали) не могут получить за него больше 0 баллов (подробнее о плагиате см. на странице курса). Если вы нашли решение какого-то из заданий (или его часть) в открытом источнике, необходимо указать ссылку на этот источник в отдельном блоке в конце вашей работы (скорее всего вы будете не единственным, кто это нашел, поэтому чтобы исключить подозрение в плагиате, необходима ссылка на источник).\n",
    "\n",
    "Неэффективная реализация кода может негативно отразиться на оценке.\n",
    "\n",
    "\n",
    "### Формат сдачи\n",
    "Для сдачи задания переименуйте получившийся файл *.ipynb в соответствии со следующим форматом: homework-practice-04-Username.ipynb, где Username — ваша фамилия и имя на латинице именно в таком порядке (например, homework-practice-04-IvanovIvan.ipynb).\n",
    "\n",
    "Для удобства проверки самостоятельно посчитайте свою максимальную оценку (исходя из набора решенных задач) и укажите ниже."
   ]
  },
  {
   "cell_type": "markdown",
   "metadata": {},
   "source": [
    "**Оценка:** ..."
   ]
  },
  {
   "cell_type": "code",
   "execution_count": 3,
   "metadata": {
    "ExecuteTime": {
     "end_time": "2019-10-16T18:11:48.202066Z",
     "start_time": "2019-10-16T18:11:46.362572Z"
    }
   },
   "outputs": [
    {
     "name": "stdout",
     "output_type": "stream",
     "text": [
      "Populating the interactive namespace from numpy and matplotlib\n"
     ]
    }
   ],
   "source": [
    "%pylab inline\n",
    "import pandas as pd\n",
    "\n",
    "from sklearn.datasets import load_diabetes, make_classification\n",
    "from sklearn.model_selection import train_test_split"
   ]
  },
  {
   "cell_type": "markdown",
   "metadata": {},
   "source": [
    "## Часть 1. Линейная регрессия"
   ]
  },
  {
   "cell_type": "markdown",
   "metadata": {},
   "source": [
    "В этой части мы кратко познакомимся с линейной регрессией.\n",
    "\n",
    "Для начала загрузим данные и разделим их на обучающую и тестовую выборки в соотношении 7 к 3."
   ]
  },
  {
   "cell_type": "code",
   "execution_count": 4,
   "metadata": {},
   "outputs": [
    {
     "name": "stderr",
     "output_type": "stream",
     "text": [
      "C:\\anaconda\\lib\\site-packages\\sklearn\\model_selection\\_split.py:2026: FutureWarning: From version 0.21, test_size will always complement train_size unless both are specified.\n",
      "  FutureWarning)\n"
     ]
    }
   ],
   "source": [
    "data = load_diabetes()\n",
    "X_train, X_test, y_train, y_test = train_test_split(data.data, data.target, train_size=0.7, random_state=241)"
   ]
  },
  {
   "cell_type": "markdown",
   "metadata": {},
   "source": [
    "__Задание 1.__ Обучение линейной регрессии.\n",
    "\n",
    "**(1 балл)**\n",
    "\n",
    "Обучите линейную регрессию с $L_1$ (Lasso) и $L_2$ (Ridge) регуляризаторами (используйте параметры по умолчанию). Посмотрите, какое количество коэффициентов близко к 0 (степень близости к 0 определите сами из разумных пределов). Постройте график зависимости числа ненулевых коэффициентов от коэффицента регуляризации (перебирайте значения по логарифмической сетке от $10^{-3}$ до $10^3$). Согласуются ли результаты с вашими ожиданиями?"
   ]
  },
  {
   "cell_type": "code",
   "execution_count": 5,
   "metadata": {},
   "outputs": [],
   "source": [
    "from sklearn import linear_model\n"
   ]
  },
  {
   "cell_type": "code",
   "execution_count": 6,
   "metadata": {},
   "outputs": [],
   "source": [
    "w_l2 = []\n",
    "w_l1 = []\n",
    "num = 30\n",
    "eps = 1e-3\n",
    "\n",
    "for c in  numpy.logspace(-3, 3, num = num):\n",
    "    model = linear_model.Lasso(c, max_iter = 20000)\n",
    "    model.fit(X_train, y_train)\n",
    "    coef = model.coef_\n",
    "    w_l1.append (np.sum(np.abs(coef) > eps))\n",
    "    \n",
    "    model = linear_model.Ridge(c, max_iter = 20000)\n",
    "    model.fit(X_train, y_train)\n",
    "    coef = model.coef_\n",
    "    w_l2.append(np.sum(np.abs(coef) > eps))\n",
    "    "
   ]
  },
  {
   "cell_type": "code",
   "execution_count": 7,
   "metadata": {},
   "outputs": [
    {
     "data": {
      "image/png": "[encoded data removed]",
      "text/plain": [
       "<Figure size 720x432 with 1 Axes>"
      ]
     },
     "metadata": {},
     "output_type": "display_data"
    }
   ],
   "source": [
    "import matplotlib.pyplot as plt\n",
    "\n",
    "cl = ['l1', 'l2']\n",
    "fig, ax = plt.subplots(figsize=(10, 6), ncols = 1)\n",
    "ax.plot(numpy.logspace(-3, 3, num = num), w_l1, numpy.logspace(-3, 3, num = num),w_l2)\n",
    "\n",
    "ax.set_xscale('log')\n",
    "\n",
    "ax.set_xlabel('коэффициент регуляризации')\n",
    "ax.set_ylabel('количество ненулевых весов')\n",
    "\n",
    "ax.set_title(\"Число ненулевых коэффициентов модели от коэффициента регуляризации\")\n",
    "ax.legend(cl)\n",
    "ax.grid()"
   ]
  },
  {
   "cell_type": "markdown",
   "metadata": {},
   "source": [
    "**Ответ:** График показывает, что в Lasso регрессии веса зануляются более жестко, чем в Ridge. Это объясняется тем, что на каждой итерации градиентного спуска при обновлении вектора весов в lasso происходит изменение на величину $ C *sign{(w_i)}$, значит веса постоянно приближаются к 0, а в ridge - на $ 2C *w_i$, то есть веса могут стремиться к 0, но не достигать его. С увеличением коэффициента регуляризации число нулевых весов Lasso увеличивается из-за роста штрафа на веса в оптимизационной задаче: коэффициенты весов должны сильнее прижиматься к 0."
   ]
  },
  {
   "cell_type": "markdown",
   "metadata": {},
   "source": [
    "Посчитайте для Ridge-регрессии следующие метрики: $RMSE$, $MAE$, $R^2$."
   ]
  },
  {
   "cell_type": "code",
   "execution_count": 10,
   "metadata": {},
   "outputs": [
    {
     "name": "stdout",
     "output_type": "stream",
     "text": [
      "58.304415127748044 rmse\n",
      "49.602846072753 mae\n",
      "0.3598993868368464 r2\n"
     ]
    }
   ],
   "source": [
    "from sklearn.metrics import r2_score\n",
    "from sklearn.metrics import mean_squared_error, mean_absolute_error\n",
    "\n",
    "model = linear_model.Ridge()\n",
    "model.fit(X_train, y_train)\n",
    "pred = model.predict(X_test)\n",
    "\n",
    "print((mean_squared_error(y_test, pred))**0.5, \"rmse\")\n",
    "print(mean_absolute_error(y_test, pred), \"mae\")\n",
    "print(r2_score(y_test, pred), \"r2\")"
   ]
  },
  {
   "cell_type": "markdown",
   "metadata": {},
   "source": [
    "Подберите на обучающей выборке для Ridge-регрессии коэффициент регуляризации (перебирайте значения по логарифмической сетке от $10^{-3}$ до $10^3$) для каждой из метрик. Для этого воспользуйтесь GridSearchCV и KFold из sklearn. Постройте графики зависимости фукнции потерь от коэффициента регуляризации. Посчитайте те же метрики снова. Заметно ли изменилось качество?"
   ]
  },
  {
   "cell_type": "code",
   "execution_count": 11,
   "metadata": {},
   "outputs": [],
   "source": [
    "from sklearn.model_selection import GridSearchCV, KFold"
   ]
  },
  {
   "cell_type": "code",
   "execution_count": 12,
   "metadata": {},
   "outputs": [],
   "source": [
    "from sklearn.metrics import fbeta_score, make_scorer\n",
    "def my_custom_loss_func(y_true, y_pred):\n",
    "    return (mean_squared_error(y_true, y_pred))**0.5\n",
    "\n",
    "score = make_scorer(my_custom_loss_func, greater_is_better=False)"
   ]
  },
  {
   "cell_type": "code",
   "execution_count": 18,
   "metadata": {},
   "outputs": [
    {
     "name": "stdout",
     "output_type": "stream",
     "text": [
      "coef =  0.002592943797404667 Ridge r2\n",
      "coef =  0.001 Ridge neg_mean_absolute_error\n",
      "coef =  0.002592943797404667 Ridge rmse\n"
     ]
    }
   ],
   "source": [
    "for sc in ['r2', 'neg_mean_absolute_error', score]:\n",
    "    kf = KFold(n_splits=5)\n",
    "    cv = kf.split(X_train)\n",
    "    coef = np.logspace(-3, 3, num)\n",
    "    param = {'alpha':coef}\n",
    "    search = GridSearchCV(linear_model.Ridge(), param, cv  = cv, scoring = sc)\n",
    "    search.fit(X_train, y_train)\n",
    "    if sc != 'r2' and sc != 'neg_mean_absolute_error':\n",
    "        sc = 'rmse'\n",
    "    print('coef = ', search.best_params_['alpha'], \"Ridge \"+ sc)\n",
    "    c = search.best_params_['alpha']"
   ]
  },
  {
   "cell_type": "code",
   "execution_count": 19,
   "metadata": {},
   "outputs": [
    {
     "name": "stdout",
     "output_type": "stream",
     "text": [
      "55.80657825796663 rmse\n",
      "0.4135700442285267 r2\n"
     ]
    }
   ],
   "source": [
    "model = linear_model.Ridge(alpha = c)\n",
    "model.fit(X_train, y_train)\n",
    "pred = model.predict(X_test)\n",
    "\n",
    "print(mean_squared_error(y_test, pred) ** 0.5, \"rmse\")\n",
    "print(r2_score(y_test, pred), \"r2\")"
   ]
  },
  {
   "cell_type": "code",
   "execution_count": 21,
   "metadata": {},
   "outputs": [
    {
     "name": "stdout",
     "output_type": "stream",
     "text": [
      "47.15555064391418 mae\n"
     ]
    }
   ],
   "source": [
    "model = linear_model.Ridge(alpha = 0.001)\n",
    "model.fit(X_train, y_train)\n",
    "pred = model.predict(X_test)\n",
    "\n",
    "print(mean_absolute_error(y_test, pred), \"mae\")"
   ]
  },
  {
   "cell_type": "markdown",
   "metadata": {},
   "source": [
    "**Ответ:** При оптимальных подобранных параметров качество модели по всем метрикам незначительно улучшилось: ошибки rmse, mae уменьшились на 3, 2 соответственно, метрика r2 увеличилась на 0.05."
   ]
  },
  {
   "cell_type": "code",
   "execution_count": 36,
   "metadata": {},
   "outputs": [],
   "source": [
    "from sklearn.metrics import log_loss\n",
    "\n",
    "loss_mae = []\n",
    "loss_rmse = []\n",
    "func_r2 = []\n",
    "num = 20\n",
    "labels = np.unique(hstack((y_test, y_train)))\n",
    "lab = np.unique(y_train)\n",
    "\n",
    "\n",
    "for c in  numpy.logspace(-3, 3, num = num):\n",
    "    model = linear_model.Ridge(alpha = c)\n",
    "    model.fit(X_train, y_train)\n",
    "    pred = model.predict(X_test)\n",
    "    loss_mae.append(mean_absolute_error(y_test, pred))\n",
    "    loss_rmse.append(mean_squared_error(y_test, pred)**0.5)\n",
    "    func_r2.append(r2_score(y_test, pred))"
   ]
  },
  {
   "cell_type": "code",
   "execution_count": 40,
   "metadata": {},
   "outputs": [
    {
     "data": {
      "image/png": "[encoded data removed]",
      "text/plain": [
       "<Figure size 1152x432 with 2 Axes>"
      ]
     },
     "metadata": {},
     "output_type": "display_data"
    }
   ],
   "source": [
    "cl = ['mae', 'rmse']\n",
    "fig, ax = plt.subplots(figsize=(16, 6), ncols = 2)\n",
    "ax[0].plot(numpy.logspace(-3, 3, num = num), loss_mae, lw = '3')\n",
    "ax[0].plot(numpy.logspace(-3, 3, num = num), loss_rmse, lw = '3')\n",
    "ax[1].plot(numpy.logspace(-3, 3, num = num), func_r2, lw = '3')\n",
    "\n",
    "ax[1].set_xscale('log')\n",
    "ax[1].set_yscale('log')\n",
    "\n",
    "ax[1].set_xlabel('коэффициент ругеляризации')\n",
    "ax[1].set_ylabel('значение метрики r2')\n",
    "\n",
    "ax[1].set_title(\"Значение метрики r2 от коэффициента регуляризации\")\n",
    "ax[1].legend(cl)\n",
    "ax[1].grid()\n",
    "\n",
    "ax[0].set_xscale('log')\n",
    "ax[0].set_yscale('log')\n",
    "\n",
    "ax[0].set_xlabel('коэффициент ругеляризации')\n",
    "ax[0].set_ylabel('значение функции потерь')\n",
    "\n",
    "ax[0].set_title(\"Значение функции потерь от коэффициента регуляризации\")\n",
    "ax[0].legend(cl)\n",
    "ax[0].grid()"
   ]
  },
  {
   "cell_type": "markdown",
   "metadata": {},
   "source": [
    "__Задание 2.__ Поиск объектов-выбросов\n",
    "\n",
    "**(0.5 балла)**\n",
    "\n",
    "Как известно, MSE сильно штрафует за большие ошибки на объектах-выбросах. С помощью cross_val_predict сделайте Out-of-Fold предсказания для обучающей выборки. Посчитайте ошибки и посмотрите на их распределение (plt.hist). Что вы видите?"
   ]
  },
  {
   "cell_type": "code",
   "execution_count": null,
   "metadata": {},
   "outputs": [],
   "source": [
    "from sklearn.model_selection import cross_val_predict\n",
    "kf = KFold(n_splits=5)\n",
    "cv = kf.split(X_train)\n",
    "pred = cross_val_predict(linear_model.Ridge(), X_train, y_train, cv=cv, method = 'predict')\n"
   ]
  },
  {
   "cell_type": "code",
   "execution_count": 42,
   "metadata": {},
   "outputs": [
    {
     "name": "stdout",
     "output_type": "stream",
     "text": [
      "60.03080530778428 rmse\n",
      "50.08840179838473 mae\n",
      "0.4184164390677788 r2\n"
     ]
    }
   ],
   "source": [
    "print(mean_squared_error(y_train, pred)** 0.5, \"rmse\")\n",
    "print(mean_absolute_error(y_train, pred), \"mae\")\n",
    "print(r2_score(y_train, pred), \"r2\")"
   ]
  },
  {
   "cell_type": "code",
   "execution_count": 43,
   "metadata": {},
   "outputs": [
    {
     "data": {
      "image/png": "[encoded data removed]",
      "text/plain": [
       "<Figure size 720x432 with 1 Axes>"
      ]
     },
     "metadata": {},
     "output_type": "display_data"
    }
   ],
   "source": [
    "mse = (pred - y_train)**2\n",
    "fig, ax = plt.subplots(figsize=(10, 6), ncols = 1)\n",
    "ax.hist(mse)\n",
    "ax.set_title(\"Распределение ошибок MSE\")\n",
    "ax.set_xlabel('MSE')\n",
    "ax.set_ylabel('Количество объектов')\n",
    "ax.grid()"
   ]
  },
  {
   "cell_type": "markdown",
   "metadata": {},
   "source": [
    "**Ответ:** Распределение показывает, что на большей части объектов mse несильно отклоняется от ошибки rmse модели, то есть данные корректны. Существует незначительно количество объектов-выбросов с большим mse $> 10000$."
   ]
  },
  {
   "cell_type": "markdown",
   "metadata": {},
   "source": [
    "Попробуйте удалить объекты-выбросы из обучающей выборки (что считать или не считать выбросами на ваше усмотрение). Обучите модель заново и посмотрите на качество на отложенной выборке (учитывайте, что там тоже могут быть выбросы, с которыми вы ничего не можете сделать). Стало ли лучше? Чем вы можете объяснить это?"
   ]
  },
  {
   "cell_type": "code",
   "execution_count": 44,
   "metadata": {},
   "outputs": [],
   "source": [
    "X_tr = X_train[mse < 10000]\n",
    "y_tr = y_train[mse < 10000]"
   ]
  },
  {
   "cell_type": "code",
   "execution_count": 45,
   "metadata": {},
   "outputs": [
    {
     "data": {
      "text/plain": [
       "(283,)"
      ]
     },
     "execution_count": 45,
     "metadata": {},
     "output_type": "execute_result"
    }
   ],
   "source": [
    "y_tr.shape"
   ]
  },
  {
   "cell_type": "code",
   "execution_count": 46,
   "metadata": {},
   "outputs": [],
   "source": [
    "kf = KFold(n_splits=5)\n",
    "cv = kf.split(X_tr)\n",
    "pred = cross_val_predict(linear_model.Ridge(), X_tr, y_tr, cv=cv, method = 'predict')\n"
   ]
  },
  {
   "cell_type": "code",
   "execution_count": 47,
   "metadata": {},
   "outputs": [
    {
     "name": "stdout",
     "output_type": "stream",
     "text": [
      "52.419673534640836 rmse\n",
      "44.53087289434206 mae\n",
      "0.4691573961477109 r2\n"
     ]
    }
   ],
   "source": [
    "print(mean_squared_error(y_tr, pred)** 0.5, \"rmse\")\n",
    "print(mean_absolute_error(y_tr, pred), \"mae\")\n",
    "print(r2_score(y_tr, pred), \"r2\")"
   ]
  },
  {
   "cell_type": "code",
   "execution_count": 48,
   "metadata": {},
   "outputs": [],
   "source": [
    "model = linear_model.Ridge()\n",
    "model.fit(X_tr, y_tr)\n",
    "pred = model.predict(X_test)\n"
   ]
  },
  {
   "cell_type": "code",
   "execution_count": 49,
   "metadata": {},
   "outputs": [
    {
     "name": "stdout",
     "output_type": "stream",
     "text": [
      "59.84077634410696 rmse\n",
      "50.70017600708127 mae\n",
      "0.3257207495894735 r2\n"
     ]
    }
   ],
   "source": [
    "print(mean_squared_error(y_test, pred)** 0.5, \"rmse\")\n",
    "print(mean_absolute_error(y_test, pred), \"mae\")\n",
    "print(r2_score(y_test, pred), \"r2\")"
   ]
  },
  {
   "cell_type": "markdown",
   "metadata": {},
   "source": [
    "**Ответ:** Точность предсказания модели на кросс-валидации заметно улучшилась после удаления объектов-выбросов, на которых возникает большая ошибка. Однако при применении алгоритма, обученного на новой обучающей выборке, к тестовой - качество ухудшилось (rmse, mae увеличились на 1, r2 уменьшилась на 0.04) . Это может быть вызвано тем, что в самой тестовой выборке остались выбросы."
   ]
  },
  {
   "cell_type": "markdown",
   "metadata": {},
   "source": [
    "## Часть 2. Метод опорных векторов и калибровка вероятностней"
   ]
  },
  {
   "cell_type": "markdown",
   "metadata": {
    "ExecuteTime": {
     "end_time": "2018-10-12T07:36:04.765536Z",
     "start_time": "2018-10-12T07:35:57.814973Z"
    }
   },
   "source": [
    "Сгенерируем синтетические данные."
   ]
  },
  {
   "cell_type": "code",
   "execution_count": 50,
   "metadata": {
    "ExecuteTime": {
     "end_time": "2019-10-16T18:11:50.932537Z",
     "start_time": "2019-10-16T18:11:50.752839Z"
    }
   },
   "outputs": [],
   "source": [
    "X, y = make_classification(\n",
    "    n_samples=100000, n_features=20, n_informative=10, n_redundant=10,\n",
    "    random_state=42)\n",
    "\n",
    "X_train, X_test, y_train, y_test = train_test_split(\n",
    "    X, y, test_size=0.3, random_state=42)"
   ]
  },
  {
   "cell_type": "markdown",
   "metadata": {},
   "source": [
    "__Задание 1.__ Обучение и применение метода опорных векторов.\n",
    "\n",
    "__(1 балл)__\n",
    "\n",
    "Обучите метод опорных векторов. На занятиях мы проходили обычный вариант, что соответствует линейному ядру (LinearSVC/LinearSVR в scikit-learn)."
   ]
  },
  {
   "cell_type": "code",
   "execution_count": 51,
   "metadata": {
    "ExecuteTime": {
     "end_time": "2018-10-11T20:39:43.088969Z",
     "start_time": "2018-10-11T20:39:43.084985Z"
    }
   },
   "outputs": [],
   "source": [
    "from sklearn.svm import LinearSVR, SVC\n",
    "model = LinearSVR()\n",
    "model.fit(X_train, y_train)\n",
    "pred = model.predict(X_test)"
   ]
  },
  {
   "cell_type": "markdown",
   "metadata": {},
   "source": [
    "На тестовой части посчитайте ROC-AUC, PR-AUC. Постройте ROC и PR кривые."
   ]
  },
  {
   "cell_type": "code",
   "execution_count": 52,
   "metadata": {},
   "outputs": [
    {
     "data": {
      "text/plain": [
       "0.8999837714514043"
      ]
     },
     "execution_count": 52,
     "metadata": {},
     "output_type": "execute_result"
    }
   ],
   "source": [
    "from sklearn.metrics import roc_auc_score, roc_curve\n",
    "roc_auc_score (y_test ,  pred)"
   ]
  },
  {
   "cell_type": "code",
   "execution_count": 53,
   "metadata": {},
   "outputs": [
    {
     "data": {
      "image/png": "[encoded data removed]",
      "text/plain": [
       "<Figure size 720x432 with 1 Axes>"
      ]
     },
     "metadata": {},
     "output_type": "display_data"
    }
   ],
   "source": [
    "fpr, tpr, thresholds = roc_curve(y_test, pred)\n",
    "\n",
    "cl = ['l1', 'l2']\n",
    "fig, ax = plt.subplots(figsize=(10, 6), ncols = 1)\n",
    "ax.plot(fpr, tpr, lw = '2')\n",
    "\n",
    "ax.set_xlabel('False Positive Rate')\n",
    "ax.set_ylabel('True Positive Rate')\n",
    "\n",
    "ax.set_title(\"ROC Curve\")\n",
    "ax.grid()"
   ]
  },
  {
   "cell_type": "code",
   "execution_count": 54,
   "metadata": {},
   "outputs": [
    {
     "data": {
      "image/png": "[encoded data removed]",
      "text/plain": [
       "<Figure size 432x288 with 1 Axes>"
      ]
     },
     "metadata": {},
     "output_type": "display_data"
    }
   ],
   "source": [
    "from sklearn.metrics import precision_recall_curve, auc\n",
    "import matplotlib.pyplot as plt\n",
    "\n",
    "precision, recall, _ = precision_recall_curve(y_test, pred)\n",
    "\n",
    "plt.plot(recall, precision)\n",
    "\n",
    "plt.xlabel('Recall')\n",
    "plt.ylabel('Precision')\n",
    "\n",
    "plt.title('Precision-Recall curve')\n",
    "plt.grid()"
   ]
  },
  {
   "cell_type": "code",
   "execution_count": 55,
   "metadata": {},
   "outputs": [
    {
     "data": {
      "text/plain": [
       "0.8959379635746241"
      ]
     },
     "execution_count": 55,
     "metadata": {},
     "output_type": "execute_result"
    }
   ],
   "source": [
    "auc(recall, precision)"
   ]
  },
  {
   "cell_type": "markdown",
   "metadata": {},
   "source": [
    "В названии метода присутствуют некоторые \"опорные векторы\". Сгенерируйте синтетический датасет с помощью make_classification с 2 признаками, обучите на нём метод опорных векторов. Визуализируйте разделяющую прямую, все объекты и выделите опорные вектора (атрибут support\\_vectors\\_). В этот раз вместо LinearSVC воспользуйтесь SVC с линейным ядром (kernel='linear'), так как только в нём есть информация об опорных векторах.\n",
    "\n",
    "Графики должны быть оформлены правильно, в соответствии с теми требованиями, которые были в первой лабороторной. Так же опорные вектора следует рисовать не другим цветом, а другой меткой (например, крестик), иначе теряется принадлежность к классу. "
   ]
  },
  {
   "cell_type": "code",
   "execution_count": 35,
   "metadata": {},
   "outputs": [
    {
     "name": "stderr",
     "output_type": "stream",
     "text": [
      "C:\\anaconda\\lib\\site-packages\\sklearn\\model_selection\\_split.py:2026: FutureWarning: From version 0.21, test_size will always complement train_size unless both are specified.\n",
      "  FutureWarning)\n"
     ]
    }
   ],
   "source": [
    "from sklearn.datasets import make_classification\n",
    "X, y = make_classification(n_samples = 1000, n_features=2, n_informative=2, n_redundant=0)\n",
    "X_train, X_test, y_train, y_test = train_test_split(X, y, train_size=0.7, random_state=241)"
   ]
  },
  {
   "cell_type": "code",
   "execution_count": 36,
   "metadata": {},
   "outputs": [
    {
     "data": {
      "text/plain": [
       "SVC(C=1.0, cache_size=200, class_weight=None, coef0=0.0,\n",
       "  decision_function_shape='ovr', degree=3, gamma='auto', kernel='linear',\n",
       "  max_iter=-1, probability=False, random_state=None, shrinking=True,\n",
       "  tol=0.001, verbose=False)"
      ]
     },
     "execution_count": 36,
     "metadata": {},
     "output_type": "execute_result"
    }
   ],
   "source": [
    "from sklearn.svm import SVC\n",
    "model = SVC(kernel='linear')\n",
    "model.fit(X_train, y_train)"
   ]
  },
  {
   "cell_type": "code",
   "execution_count": 37,
   "metadata": {},
   "outputs": [],
   "source": [
    "sup_vec = model.support_vectors_"
   ]
  },
  {
   "cell_type": "code",
   "execution_count": 38,
   "metadata": {},
   "outputs": [],
   "source": [
    "sup_vec_0 = []\n",
    "sup_vec_1 = []"
   ]
  },
  {
   "cell_type": "code",
   "execution_count": 39,
   "metadata": {},
   "outputs": [],
   "source": [
    "for vec in sup_vec:\n",
    "    if y_train[(X_train[:, 0] == vec[0]) &(X_train[:, 1] == vec[1])][0] == 0:\n",
    "        sup_vec_0.append(vec)\n",
    "    else:\n",
    "        sup_vec_1.append(vec)"
   ]
  },
  {
   "cell_type": "code",
   "execution_count": 40,
   "metadata": {},
   "outputs": [],
   "source": [
    "sup_vec_0 = np.array(sup_vec_0)\n",
    "sup_vec_1 = np.array(sup_vec_1)"
   ]
  },
  {
   "cell_type": "code",
   "execution_count": 41,
   "metadata": {},
   "outputs": [],
   "source": [
    "cl_0 = X_train[y_train == 0]\n",
    "cl_1 = X_train[y_train == 1]"
   ]
  },
  {
   "cell_type": "code",
   "execution_count": 42,
   "metadata": {},
   "outputs": [],
   "source": [
    "x = range(-4,4)\n",
    "coef = model.coef_[0]"
   ]
  },
  {
   "cell_type": "code",
   "execution_count": 43,
   "metadata": {},
   "outputs": [
    {
     "data": {
      "image/png": "[encoded data removed]",
      "text/plain": [
       "<Figure size 720x432 with 1 Axes>"
      ]
     },
     "metadata": {},
     "output_type": "display_data"
    }
   ],
   "source": [
    "fig, ax = plt.subplots(figsize=(10, 6), ncols = 1)\n",
    "ax.scatter(cl_0[:, 0], cl_0[:, 1], marker = 'o', c = 'aquamarine')\n",
    "ax.scatter(cl_1[:, 0], cl_1[:, 1], marker = 'o', c = 'tomato')\n",
    "\n",
    "ax.scatter(sup_vec_0[:, 0], sup_vec_0[:, 1], marker = '*', c = 'lightseagreen')\n",
    "ax.scatter(sup_vec_1[:, 0], sup_vec_1[:, 1], marker = '*', c = 'firebrick')\n",
    "\n",
    "\n",
    "ax.plot(x, -coef[0]*x/coef[1], color='navy')\n",
    "\n",
    "ax.legend(['decision line', 'class 0', 'class 1', 'support vectors 0', 'support vectors 1'])\n",
    "ax.set_title(\"SVM decision\")\n",
    "ax.grid()"
   ]
  },
  {
   "cell_type": "markdown",
   "metadata": {},
   "source": [
    "__Задание 2.__ Калибровка вероятностей.\n",
    "\n",
    "__(1.5 балла)__\n",
    "\n",
    "Перейдём к оценке качества выдаваемых алгоритмами вероятностей. Начнём с калибровочных кривых. \n",
    "\n",
    "Допустим, алгоритм возвращает некоторые числа от нуля до единицы. Хорошо ли они оценивают вероятность? Для этого разобьем отрезок $[0, 1]$ на несколько маленьких отрезков одинаковой длины. Рассмотрим $i$-й отрезок с границами $[a_i, b_i]$ и предсказания $p_1, p_2, \\dots, p_k$, которые попали в него. Пусть им соответствуют истинные ответы $y_1, y_2, \\dots, y_k$. Если алгоритм выдает корректные вероятности, то среди этих истинных ответов должно быть примерно $(a_i + b_i) / 2$ единиц. Иными словами, если нарисовать кривую, у которой по оси X отложены центры отрезков, а по оси Y — доли единичных ответов этих в отрезках, то она должна оказаться диагональной. Ниже приведена функция, которая должна рисовать такие кривые. В ней допущено две ошибки — найдите и исправьте их."
   ]
  },
  {
   "cell_type": "code",
   "execution_count": 52,
   "metadata": {},
   "outputs": [],
   "source": [
    "def plot_calibration_curve(y_test, preds, leg):\n",
    "    bin_middle_points = []\n",
    "    bin_real_ratios = []\n",
    "    n_bins = 20\n",
    "    for i in range(n_bins):\n",
    "        l = 1.0 / n_bins * i\n",
    "        r = 1.0 / n_bins * (i + 1)\n",
    "        #bin_middle_points.append((l - r) / 2)\n",
    "\n",
    "        bin_middle_points.append((l + r) / 2)\n",
    "        #bin_real_ratios.append(np.min(y_test[(preds >= l) & (preds < r)] == 1))\n",
    "        bin_real_ratios.append(np.mean(y_test[(preds >= l) & (preds < r)] == 1))\n",
    "\n",
    "    plt.plot(bin_middle_points, bin_real_ratios)\n",
    "    plt.legend(leg)\n",
    "    plt.grid()"
   ]
  },
  {
   "cell_type": "markdown",
   "metadata": {},
   "source": [
    "Постройте калибровочные кривые для логистической регрессии и метода опорных векторов. Изучите распределение ответов классификаторов (постройте гистограммы с помощью plt.hist). Чем они различаются? Чем вы можете объяснить это?\n",
    "\n",
    "Заметим, что метод опорных векторов не умеет predict_proba, но имеет метод decision_function."
   ]
  },
  {
   "cell_type": "code",
   "execution_count": 190,
   "metadata": {},
   "outputs": [
    {
     "name": "stderr",
     "output_type": "stream",
     "text": [
      "C:\\anaconda\\lib\\site-packages\\sklearn\\model_selection\\_split.py:2026: FutureWarning: From version 0.21, test_size will always complement train_size unless both are specified.\n",
      "  FutureWarning)\n"
     ]
    }
   ],
   "source": [
    "from sklearn.datasets import make_classification\n",
    "X, y = make_classification(n_samples=40000, n_features=2, n_informative=2, n_redundant=0)\n",
    "X_train, X_test, y_train, y_test = train_test_split(X, y, train_size=0.7, random_state=241)"
   ]
  },
  {
   "cell_type": "code",
   "execution_count": 191,
   "metadata": {},
   "outputs": [],
   "source": [
    "from sklearn.svm import SVC\n",
    "from sklearn.preprocessing import MinMaxScaler\n",
    "from scipy.special import expit\n",
    "\n",
    "\n",
    "model = SVC(kernel='linear', probability = True)\n",
    "model.fit(X_train, y_train)\n",
    "svc_proba = model.predict_proba(X_test)\n",
    "\n"
   ]
  },
  {
   "cell_type": "code",
   "execution_count": 192,
   "metadata": {},
   "outputs": [],
   "source": [
    "model = linear_model.LogisticRegression()\n",
    "model.fit(X_train, y_train)\n",
    "log_proba = model.predict_proba(X_test)"
   ]
  },
  {
   "cell_type": "code",
   "execution_count": 193,
   "metadata": {},
   "outputs": [
    {
     "data": {
      "image/png": "[encoded data removed]",
      "text/plain": [
       "<Figure size 432x288 with 1 Axes>"
      ]
     },
     "metadata": {},
     "output_type": "display_data"
    }
   ],
   "source": [
    "plot_calibration_curve(y_test, svc_proba[:, 1], ['svc'])\n",
    "plot_calibration_curve(y_test, log_proba[:, 1], ['svc','log'])"
   ]
  },
  {
   "cell_type": "code",
   "execution_count": 194,
   "metadata": {},
   "outputs": [
    {
     "data": {
      "image/png": "[encoded data removed]",
      "text/plain": [
       "<Figure size 720x432 with 1 Axes>"
      ]
     },
     "metadata": {},
     "output_type": "display_data"
    }
   ],
   "source": [
    "cl = ['class 0', 'class 1']\n",
    "fig, ax = plt.subplots(figsize=(10, 6), ncols = 1)\n",
    "ax.hist(svc_proba[:, 1])\n",
    "ax.set_title(\"Распределние ответов метода опорных векторов\")\n",
    "ax.grid()"
   ]
  },
  {
   "cell_type": "code",
   "execution_count": 195,
   "metadata": {},
   "outputs": [
    {
     "data": {
      "image/png": "[encoded data removed]",
      "text/plain": [
       "<Figure size 720x432 with 1 Axes>"
      ]
     },
     "metadata": {},
     "output_type": "display_data"
    }
   ],
   "source": [
    "cl = ['class 0', 'class 1']\n",
    "fig, ax = plt.subplots(figsize=(10, 6), ncols = 1)\n",
    "ax.hist(log_proba[:, 1])\n",
    "ax.set_title(\"Распределение ответов логистической регрессии\")\n",
    "ax.grid()"
   ]
  },
  {
   "cell_type": "markdown",
   "metadata": {},
   "source": [
    "**Ответ:** Вид калибровочных кривых и распределений ответов совпадает для логистической регрессии и метода опорных векторов."
   ]
  },
  {
   "cell_type": "markdown",
   "metadata": {},
   "source": [
    "Воспользуйтесь CalibratedClassifierCV из sklearn для калибровки вероятностей метода опорных векторов на обучении и постройте с его помощью предсказания для тестовой выборки. Нарисуйте для них калибровочную кривую. Улучшилась ли она?"
   ]
  },
  {
   "cell_type": "code",
   "execution_count": 196,
   "metadata": {},
   "outputs": [],
   "source": [
    "from sklearn.calibration import CalibratedClassifierCV"
   ]
  },
  {
   "cell_type": "code",
   "execution_count": 197,
   "metadata": {},
   "outputs": [],
   "source": [
    "model = CalibratedClassifierCV()\n",
    "model.fit(X_train, y_train)\n",
    "cal_proba = model.predict_proba(X_test)"
   ]
  },
  {
   "cell_type": "code",
   "execution_count": 198,
   "metadata": {},
   "outputs": [
    {
     "data": {
      "image/png": "[encoded data removed]",
      "text/plain": [
       "<Figure size 432x288 with 1 Axes>"
      ]
     },
     "metadata": {},
     "output_type": "display_data"
    }
   ],
   "source": [
    "plot_calibration_curve(y_test, cal_proba[:, 1], ['SVM_calibrated'])\n",
    "plot_calibration_curve(y_test, svc_proba[:, 1], ['SVM_calibrated', 'SVM'])"
   ]
  },
  {
   "cell_type": "markdown",
   "metadata": {},
   "source": [
    "**Ответ:** Калибровочная кривая почти не изменилась, так как полученные изначально результаты для SVM уже представляют собой вероятности."
   ]
  },
  {
   "cell_type": "markdown",
   "metadata": {},
   "source": [
    "__Бонусное задание (1 балл).__ Реализуйте свою функцию для калибровки вероятностей. Опишите ваш подход и продемонстрируйте результаты."
   ]
  },
  {
   "cell_type": "markdown",
   "metadata": {},
   "source": [
    "**Ответ:** Для калибровки вероятностей можно использовать следующее представление для вероятности положительного класса: $$P( y = 1 |x) = \\frac{1}{1 +e^{A f(x)+B}}$$. "
   ]
  },
  {
   "cell_type": "code",
   "execution_count": 199,
   "metadata": {},
   "outputs": [],
   "source": [
    "def my_calibrate(proba, A,B):\n",
    "    return expit(A*proba + B)"
   ]
  },
  {
   "cell_type": "code",
   "execution_count": 200,
   "metadata": {},
   "outputs": [],
   "source": [
    "from sklearn.svm import SVC\n",
    "from sklearn.preprocessing import MinMaxScaler\n",
    "from scipy.special import expit\n",
    "\n",
    "\n",
    "model = SVC(kernel='linear')\n",
    "model.fit(X_train, y_train)\n",
    "svc_proba_my = model.decision_function(X_test)\n",
    "\n",
    "svc_proba_my = my_calibrate(svc_proba_my, +1, 0)"
   ]
  },
  {
   "cell_type": "code",
   "execution_count": 201,
   "metadata": {},
   "outputs": [
    {
     "data": {
      "image/png": "[encoded data removed]",
      "text/plain": [
       "<Figure size 432x288 with 1 Axes>"
      ]
     },
     "metadata": {},
     "output_type": "display_data"
    }
   ],
   "source": [
    "plot_calibration_curve(y_test, svc_proba_my, ['svc_my_calibrated'])\n",
    "plot_calibration_curve(y_test, cal_proba[:, 1], ['svc_my_calibrated', 'svc_calibrated'])"
   ]
  },
  {
   "cell_type": "markdown",
   "metadata": {},
   "source": [
    "**Ответ:** График изображает калибровочные кривые после калибровки вероятностей описанным способом при $A = -1, B = 0$  и встроенным методом калибровки. Можно заметить, что качество собственной реализации и метода из Sklearn примерно одинаково."
   ]
  },
  {
   "cell_type": "markdown",
   "metadata": {},
   "source": [
    "## Часть 3. Логистическая регрессия."
   ]
  },
  {
   "cell_type": "markdown",
   "metadata": {},
   "source": [
    "__Задание 3.__ Обучение логистической регрессии на реальных данных и оценка качества классификации.\n",
    "\n",
    "**(0.5 балл)**"
   ]
  },
  {
   "cell_type": "markdown",
   "metadata": {
    "ExecuteTime": {
     "end_time": "2018-10-11T20:41:54.913436Z",
     "start_time": "2018-10-11T20:41:54.907515Z"
    }
   },
   "source": [
    "__Подготовка данных.__\n",
    "\n",
    "Загрузим данные с конкурса  [Kaggle Porto Seguro’s Safe Driver Prediction](https://www.kaggle.com/c/porto-seguro-safe-driver-prediction) (вам нужна только обучающая выборка). Задача состоит в определении водителей, которые в ближайший год воспользуются своей автомобильной страховкой (бинарная классификация). Но для нас важна будет не сама задача, а только её данные. При этом под нужды задания мы немного модифицируем датасет."
   ]
  },
  {
   "cell_type": "code",
   "execution_count": 738,
   "metadata": {
    "ExecuteTime": {
     "end_time": "2018-10-12T07:36:04.765536Z",
     "start_time": "2018-10-12T07:35:57.814973Z"
    }
   },
   "outputs": [],
   "source": [
    "data = pd.read_csv('train.csv', index_col=0)\n",
    "target = data.target.values\n",
    "data = data.drop('target', axis=1)"
   ]
  },
  {
   "cell_type": "markdown",
   "metadata": {},
   "source": [
    "Пересемплируем выборку так, чтобы положительных и отрицательных объектов в выборке было одинаковое число. Разделим на обучающую и тестовую выборки.\n"
   ]
  },
  {
   "cell_type": "code",
   "execution_count": 739,
   "metadata": {
    "ExecuteTime": {
     "end_time": "2018-10-12T07:36:05.368407Z",
     "start_time": "2018-10-12T07:36:04.770388Z"
    }
   },
   "outputs": [],
   "source": [
    "# some resampling\n",
    "np.random.seed(910)\n",
    "mask_plus = np.random.choice(np.where(target == 1)[0], 100000, replace=True)\n",
    "mask_zero = np.random.choice(np.where(target == 0)[0], 100000, replace=True)\n",
    "\n",
    "data = pd.concat((data.iloc[mask_plus], data.iloc[mask_zero]))\n",
    "target = np.hstack((target[mask_plus], target[mask_zero]))\n",
    "\n",
    "X_train, X_test, y_train, y_test = train_test_split(data, target, test_size=0.5)"
   ]
  },
  {
   "cell_type": "markdown",
   "metadata": {},
   "source": [
    "Обучите логистическую регрессию с удобными для вас параметрами. Сделайте предсказание на тестовой части выборки."
   ]
  },
  {
   "cell_type": "code",
   "execution_count": 385,
   "metadata": {},
   "outputs": [
    {
     "name": "stdout",
     "output_type": "stream",
     "text": [
      "coef =  0.018329807108324356\n"
     ]
    }
   ],
   "source": [
    "kf = KFold(n_splits=3)\n",
    "cv = kf.split(X_train)\n",
    "coef = np.logspace(-3, 3, 20)\n",
    "param = {'C':coef}\n",
    "search = GridSearchCV(linear_model.LogisticRegression(), param, cv  = cv)\n",
    "search.fit(X_train, y_train)\n",
    "print('coef = ', search.best_params_['C'])\n",
    "c = search.best_params_['C']"
   ]
  },
  {
   "cell_type": "code",
   "execution_count": 386,
   "metadata": {},
   "outputs": [],
   "source": [
    "from sklearn.svm import LinearSVC\n",
    "model = linear_model.LogisticRegression(C = c, max_iter = 6000)\n",
    "model.fit(X_train, y_train)\n",
    "pred = model.predict(X_test)"
   ]
  },
  {
   "cell_type": "code",
   "execution_count": 387,
   "metadata": {},
   "outputs": [
    {
     "data": {
      "image/png": "[encoded data removed]",
      "text/plain": [
       "<Figure size 720x432 with 1 Axes>"
      ]
     },
     "metadata": {},
     "output_type": "display_data"
    }
   ],
   "source": [
    "fpr, tpr, thresholds = roc_curve(y_test, pred)\n",
    "\n",
    "cl = ['l1', 'l2']\n",
    "fig, ax = plt.subplots(figsize=(10, 6), ncols = 1)\n",
    "ax.plot(fpr, tpr, lw = '2')\n",
    "\n",
    "ax.set_xlabel('False Positive Rate')\n",
    "ax.set_ylabel('True Positive Rate')\n",
    "\n",
    "ax.set_title(\"ROC Curve\")\n",
    "ax.grid()"
   ]
  },
  {
   "cell_type": "code",
   "execution_count": 388,
   "metadata": {},
   "outputs": [
    {
     "data": {
      "text/plain": [
       "0.5889246548805149"
      ]
     },
     "execution_count": 388,
     "metadata": {},
     "output_type": "execute_result"
    }
   ],
   "source": [
    "roc_auc_score (y_test ,  pred)"
   ]
  },
  {
   "cell_type": "code",
   "execution_count": 389,
   "metadata": {},
   "outputs": [
    {
     "data": {
      "image/png": "[encoded data removed]",
      "text/plain": [
       "<Figure size 432x288 with 1 Axes>"
      ]
     },
     "metadata": {},
     "output_type": "display_data"
    }
   ],
   "source": [
    "from sklearn.metrics import precision_recall_curve\n",
    "import matplotlib.pyplot as plt\n",
    "\n",
    "precision, recall, _ = precision_recall_curve(y_test, pred)\n",
    "\n",
    "plt.plot(recall, precision)\n",
    "\n",
    "plt.xlabel('Recall')\n",
    "plt.ylabel('Precision')\n",
    "\n",
    "plt.title('Precision-Recall curve')\n",
    "plt.grid()"
   ]
  },
  {
   "cell_type": "markdown",
   "metadata": {},
   "source": [
    "Постройку ROC-кривую и Precision-Recall-кривую, посчитайте ROC-AUC и PR-AUC. Какие наблюдения и выводы по ним можно сделать? (В свободной форме)"
   ]
  },
  {
   "cell_type": "markdown",
   "metadata": {},
   "source": [
    "**Ответ:** Обе кривые имеют почти вид диагональный вид, то есть предсказания классификатора близки по качеству к случайному выбору класса - низкая точность модели."
   ]
  },
  {
   "cell_type": "markdown",
   "metadata": {},
   "source": [
    "__Задание 4.__ Изучение влияния регуляризатора на процесс обучения\n",
    "\n",
    "__(1 балл)__\n",
    "\n",
    "Проверьте на практике, как влияет регуляризатор на процесс обучения (убывание функции потерь на обучающей и отложенной выборках). Чтобы считать функцию потерь на отложенной выборке после каждой итерации, можно воспользоваться параметром `warm_start` у `sklearn.linear_model.LogisticRegression` либо методом `partial_fit` `sklearn.linear_model.SGDClassifier` (параметр `loss` тогда должен быть равен `log`)."
   ]
  },
  {
   "cell_type": "code",
   "execution_count": 390,
   "metadata": {},
   "outputs": [],
   "source": [
    "from sklearn.linear_model import SGDClassifier"
   ]
  },
  {
   "cell_type": "code",
   "execution_count": 423,
   "metadata": {},
   "outputs": [],
   "source": [
    "cl = np.unique(y_train)"
   ]
  },
  {
   "cell_type": "code",
   "execution_count": 394,
   "metadata": {},
   "outputs": [],
   "source": [
    "loss = [[], [], []]"
   ]
  },
  {
   "cell_type": "code",
   "execution_count": null,
   "metadata": {},
   "outputs": [],
   "source": [
    "model = SGDClassifier(alpha = 1e-3,loss = 'log', warm_start = True, random_state = 10)\n",
    "\n",
    "for i in range(1000):\n",
    "    model.partial_fit(X_train, y_train, classes =cl)\n",
    "    pred = model.decision_function(X_test)\n",
    "    pred = expit(pred)\n",
    "    loss[0].append(log_loss(y_test, pred))"
   ]
  },
  {
   "cell_type": "code",
   "execution_count": null,
   "metadata": {},
   "outputs": [],
   "source": [
    "model = SGDClassifier(alpha = 1e-2,loss = 'log', warm_start = True, random_state = 10)\n",
    "\n",
    "for i in range(1000):\n",
    "    model.partial_fit(X_train, y_train, classes =cl)\n",
    "    pred = model.decision_function(X_test)\n",
    "    pred = expit(pred)\n",
    "    loss[1].append(log_loss(y_test, pred))"
   ]
  },
  {
   "cell_type": "code",
   "execution_count": null,
   "metadata": {},
   "outputs": [],
   "source": [
    "cl = np.unique(y_train)\n",
    "loss[2] = []\n",
    "model = SGDClassifier(alpha = 1e-1/2,loss = 'log', warm_start = True, random_state = 10)\n",
    "\n",
    "for i in range(100):\n",
    "    model.partial_fit(X_train, y_train, classes =cl)\n",
    "    pred = model.decision_function(X_test)\n",
    "    pred = expit(pred)\n",
    "    loss[2].append(log_loss(y_test, pred))"
   ]
  },
  {
   "cell_type": "code",
   "execution_count": 408,
   "metadata": {},
   "outputs": [],
   "source": [
    "ls = []"
   ]
  },
  {
   "cell_type": "code",
   "execution_count": null,
   "metadata": {},
   "outputs": [],
   "source": [
    "model = SGDClassifier(loss = 'log', warm_start = True, random_state = 10)\n",
    "\n",
    "for i in range(1000):\n",
    "    model.partial_fit(X_train, y_train, classes =cl)\n",
    "    pred = model.decision_function(X_test)\n",
    "    pred = expit(pred)\n",
    "\n",
    "    ls.append(log_loss(y_test, pred))"
   ]
  },
  {
   "cell_type": "code",
   "execution_count": null,
   "metadata": {},
   "outputs": [],
   "source": [
    "cl = np.unique(y_train)\n",
    "\n",
    "model = SGDClassifier(alpha = 0.18, loss = 'log', warm_start = True, random_state = 10)\n",
    "\n",
    "for i in range(100):\n",
    "    model.partial_fit(X_train, y_train, classes =cl)\n",
    "    pred = model.decision_function(X_test)\n",
    "    pred = expit(pred)\n",
    "    lloss[0].append(log_loss(y_test, pred))"
   ]
  },
  {
   "cell_type": "code",
   "execution_count": null,
   "metadata": {},
   "outputs": [],
   "source": [
    "cl = np.unique(y_train)\n",
    "model = SGDClassifier(alpha = 1, loss = 'log', warm_start = True, random_state = 10)\n",
    "\n",
    "for i in range(100):\n",
    "    model.partial_fit(X_train, y_train, classes =cl)\n",
    "    pred = model.decision_function(X_test)\n",
    "    pred = expit(pred)\n",
    "    lloss[1].append(log_loss(y_test, pred))"
   ]
  },
  {
   "cell_type": "code",
   "execution_count": null,
   "metadata": {},
   "outputs": [],
   "source": [
    "cl = np.unique(y_train)\n",
    "model = SGDClassifier(alpha = 0.7, loss = 'log', warm_start = True, random_state = 10)\n",
    "\n",
    "for i in range(100):\n",
    "    model.partial_fit(X_train, y_train, classes =cl)\n",
    "    pred = model.decision_function(X_test)\n",
    "    pred = expit(pred)\n",
    "    lloss[2].append(log_loss(y_test, pred))"
   ]
  },
  {
   "cell_type": "code",
   "execution_count": 446,
   "metadata": {},
   "outputs": [
    {
     "data": {
      "image/png": "[encoded data removed]",
      "text/plain": [
       "<Figure size 1296x432 with 2 Axes>"
      ]
     },
     "metadata": {},
     "output_type": "display_data"
    }
   ],
   "source": [
    "import matplotlib.pyplot as plt\n",
    "cl = [1e-4, 1e-3, 1e-2, 1e-1/2, 0.18, 0.7, 1]\n",
    "sz = 100\n",
    "fig, ax = plt.subplots(figsize=(18, 6), ncols = 2)\n",
    "ax[0].plot(np.arange(sz), ls[:sz], np.arange(sz), loss[0][:sz], np.arange(sz), loss[1][:sz],  np.arange(sz), loss[2][:sz])\n",
    "\n",
    "ax[0].set_xlabel('номер эпохи')\n",
    "ax[0].set_ylabel('функция ошибок')\n",
    "\n",
    "ax[0].set_title(\"Значение функции ошибок от номера эпохи\")\n",
    "ax[0].legend(cl)\n",
    "ax[0].grid()\n",
    "\n",
    "ax[1].plot(np.arange(sz), loss[2][:sz], np.arange(sz), lloss[0][:sz], np.arange(sz), lloss[2][:sz], np.arange(sz), lloss[1][:sz])\n",
    "\n",
    "ax[1].set_xlabel('номер эпохи')\n",
    "ax[1].set_ylabel('функция ошибок')\n",
    "\n",
    "ax[1].set_title(\"Значение функции ошибок от номера эпохи\")\n",
    "ax[1].legend(cl[3:])\n",
    "ax[1].grid()"
   ]
  },
  {
   "cell_type": "markdown",
   "metadata": {},
   "source": [
    "**Ответ:** Результаты показывают, при увеличении значения коэффициента регуляризации $C > 0.05$ фукнция потерь сходится к большему значению, но сходимость наступает быстрее. При малом  $C = 0.0001$ наблюдаются сильные колебания - неустойчивость алгоритма, однако далее функция тоже сходится. Подбор оптимального значения  $C = 0.018$ можно объяснить тем, что при нем значение функции ошибок мало, а сходимость наступает быстро."
   ]
  },
  {
   "cell_type": "markdown",
   "metadata": {},
   "source": [
    "## Часть 4. Работа с категориальными переменными"
   ]
  },
  {
   "cell_type": "markdown",
   "metadata": {},
   "source": [
    "В этой части мы научимся обрабатывать категориальные переменные, так как закодировать их в виде чисел недостаточно (это задаёт некоторый порядок, которого на категориальных переменных может и не быть). Существует два основных способа обработки категориальных значений:\n",
    "- One-hot-кодирование\n",
    "- Счётчики (CTR, mean-target кодирование, ...) — каждый категориальный признак заменяется на среднее значение целевой переменной по всем объектам, имеющим одинаковое значение в этом признаке.\n",
    "\n",
    "Начнём с one-hot-кодирования. Допустим наш категориальный признак $f_j(x)$ принимает значения из множества $C=\\{c_1, \\dots, c_m\\}$. Заменим его на $m$ бинарных признаков $b_1(x), \\dots, b_m(x)$, каждый из которых является индикатором одного из возможных категориальных значений:\n",
    "$$\n",
    "b_i(x) = [f_j(x) = c_i]\n",
    "$$"
   ]
  },
  {
   "cell_type": "markdown",
   "metadata": {},
   "source": [
    "__Задание 5.__ Посчитайте качество (в этом задании будем работать c ROC-AUC) на исходных признаках при применении логистической регрессии.\n",
    "\n",
    "__(0 баллов)__"
   ]
  },
  {
   "cell_type": "code",
   "execution_count": null,
   "metadata": {},
   "outputs": [],
   "source": [
    "#из предыдущего задания 0.5889246548805149\n",
    "roc_auc_score (y_test ,  pred)"
   ]
  },
  {
   "cell_type": "markdown",
   "metadata": {},
   "source": [
    "__Задание 6.__ Закодируйте все категориальные признаки с помощью one-hot-кодирования. Обучите логистическую регрессию и посмотрите, как изменилось качество модели (с тем, что было до кодирования). Измерьте время, потребовавшееся на обучение модели.\n",
    "\n",
    "__(0.5 балла)__"
   ]
  },
  {
   "cell_type": "code",
   "execution_count": 740,
   "metadata": {},
   "outputs": [],
   "source": [
    "cat = []\n",
    "other = []\n",
    "\n",
    "for col in X_train:\n",
    "    if(col[-3:] == 'cat'):\n",
    "        cat.append(col)\n",
    "    else:\n",
    "        other.append(col)\n",
    "\n",
    "X_train_cat = X_train[cat]\n",
    "X_train_other = X_train[other]\n",
    "X_test_cat = X_test[cat]\n",
    "X_test_other = X_test[other]\n",
    "\n",
    "from time import time\n",
    "from sklearn.preprocessing import OneHotEncoder\n",
    "enc = OneHotEncoder(handle_unknown='ignore')\n",
    "X_train_cat_hot = enc.fit_transform(X_train_cat+1).toarray()\n",
    "X_test_cat_hot = enc.transform(X_test_cat+1).toarray()\n",
    "\n",
    "X_train = np.hstack((X_train_cat_hot, X_train_other))\n",
    "X_test = np.hstack((X_test_cat_hot, X_test_other))"
   ]
  },
  {
   "cell_type": "code",
   "execution_count": 741,
   "metadata": {},
   "outputs": [
    {
     "data": {
      "text/plain": [
       "(100000, 226)"
      ]
     },
     "execution_count": 741,
     "metadata": {},
     "output_type": "execute_result"
    }
   ],
   "source": [
    "X_train.shape"
   ]
  },
  {
   "cell_type": "code",
   "execution_count": 742,
   "metadata": {},
   "outputs": [],
   "source": [
    "import time"
   ]
  },
  {
   "cell_type": "code",
   "execution_count": 743,
   "metadata": {},
   "outputs": [
    {
     "name": "stdout",
     "output_type": "stream",
     "text": [
      "17.4244487285614, c\n"
     ]
    }
   ],
   "source": [
    "model = linear_model.LogisticRegression()\n",
    "start = time.time()\n",
    "model.fit(X_train, y_train)\n",
    "end = time.time()\n",
    "pred = model.predict_proba(X_test)\n",
    "print(str(end-start) + ', c')"
   ]
  },
  {
   "cell_type": "code",
   "execution_count": 744,
   "metadata": {},
   "outputs": [
    {
     "data": {
      "text/plain": [
       "0.6329291095141791"
      ]
     },
     "execution_count": 744,
     "metadata": {},
     "output_type": "execute_result"
    }
   ],
   "source": [
    "roc_auc_score (y_test ,  pred[:, 1])"
   ]
  },
  {
   "cell_type": "markdown",
   "metadata": {},
   "source": [
    "Как можно было заменить, one-hot-кодирование может сильно увеличивать количество признаков в датасете, что сказывается на памяти, особенно, если некоторый признак имеет большое количество значений. Эту проблему решает другой способ кодирование категориальных признаков — счётчики. Основная идея в том, что нам важны не сами категории, а значения целевой переменной, которые имеют объекты этой категории. Каждый категориальный признак мы заменим средним значением целевой переменной по всем объектам этой же категории:\n",
    "$$\n",
    "g_j(x, X) = \\frac{\\sum_{i=1}^{l} [f_j(x) = f_j(x_i)][y_i = +1]}{\\sum_{i=1}^{l} [f_j(x) = f_j(x_i)]}\n",
    "$$"
   ]
  },
  {
   "cell_type": "markdown",
   "metadata": {},
   "source": [
    "Отметим, что такие признаки сами по себе являются классификаторами и, обучаясь на них, мы допускаем \"утечку\" целевой переменной в признаки. Это ведёт к переобучению, поэтому считать такие признаки необходимо таким образом, чтобы при вычислении для конкретного объекта его целевая метка не использовалась. Это можно делать следующими способами:\n",
    "1. Вычислять значение счётчика по всем объектам расположенным выше в датасете (например, если у нас выборка отсортирована по времени).\n",
    "2. Вычислять по фолдам, то есть делить выборку на некоторое количество частей и подсчитывать значение признаков по всем фолдам кроме текущего (как делается в кросс-валидации).\n",
    "3. Внесение некоторого шума в посчитанные признаки. \n",
    "\n",
    "__(Бонусная часть)__ Закодируйте категориальные переменные с помощью счётчиков (ровно так, как описано выше без каких-либо хитростей). Реализуйте корректное вычисление счётчиков самым простым способом — добавление шума к значениям (необходимо соблюсти баланс между избавление от переобучения и полезностью признаков). Снова обучите логистическую регрессию, оцените качество. Сделайте выводы. Не забудьте замерить время.\n",
    "\n",
    "__(+0.5 балл)__"
   ]
  },
  {
   "cell_type": "code",
   "execution_count": 503,
   "metadata": {},
   "outputs": [
    {
     "data": {
      "text/plain": [
       "(200000, 57)"
      ]
     },
     "execution_count": 503,
     "metadata": {},
     "output_type": "execute_result"
    }
   ],
   "source": [
    "data.shape"
   ]
  },
  {
   "cell_type": "code",
   "execution_count": 489,
   "metadata": {},
   "outputs": [],
   "source": [
    "X_cat = np.vstack((X_train_cat, X_test_cat))\n",
    "\n",
    "y = np.hstack((y_train, y_test))\n"
   ]
  },
  {
   "cell_type": "code",
   "execution_count": 491,
   "metadata": {
    "scrolled": true
   },
   "outputs": [
    {
     "name": "stdout",
     "output_type": "stream",
     "text": [
      "0\n",
      "1\n",
      "2\n",
      "3\n",
      "4\n",
      "5\n",
      "6\n",
      "7\n",
      "8\n",
      "9\n",
      "10\n",
      "11\n",
      "12\n",
      "13\n"
     ]
    }
   ],
   "source": [
    "import random\n",
    "\n",
    "def cnt(X, y):\n",
    "    ans = np.zeros((X.shape[0], X.shape[1]))\n",
    "    #noise  = np.random.normal(loc=0.0, scale=1e-2, size=(X.shape[0], X.shape[1]))\n",
    "\n",
    "    for j in range(0, X.shape[1]):\n",
    "        print(j)\n",
    "        for i in range (0, X.shape[0]):\n",
    "            x = X[i, j]\n",
    "            num = np.sum((X[:, j] == x) & (y == 1))\n",
    "            den = np.sum((X[:, j] == x))\n",
    "            ans[i, j] = float(num) / den\n",
    "    return ans\n",
    "\n",
    "X_cat_new = cnt(X_cat, y)"
   ]
  },
  {
   "cell_type": "code",
   "execution_count": 727,
   "metadata": {},
   "outputs": [],
   "source": [
    "noise  = np.random.normal(loc=0.0, scale=1e-3, size=(X_cat_new.shape[0], X_cat_new.shape[1]))\n",
    "\n",
    "X_cat_new_noise = np.copy(X_cat_new)+noise"
   ]
  },
  {
   "cell_type": "code",
   "execution_count": 728,
   "metadata": {},
   "outputs": [],
   "source": [
    "X_train_cat_new = X_cat_new_noise[:100000]\n",
    "X_test_cat_new = X_cat_new_noise[100000:]"
   ]
  },
  {
   "cell_type": "code",
   "execution_count": 729,
   "metadata": {},
   "outputs": [
    {
     "data": {
      "text/plain": [
       "(100000, 14)"
      ]
     },
     "execution_count": 729,
     "metadata": {},
     "output_type": "execute_result"
    }
   ],
   "source": [
    "X_train_cat_new.shape"
   ]
  },
  {
   "cell_type": "code",
   "execution_count": 745,
   "metadata": {},
   "outputs": [],
   "source": [
    "X_train = np.hstack((X_train_cat_new, X_train_other))\n",
    "X_test = np.hstack((X_test_cat_new, X_test_other))"
   ]
  },
  {
   "cell_type": "code",
   "execution_count": 731,
   "metadata": {},
   "outputs": [],
   "source": [
    "y_train = y[:100000]\n",
    "y_test = y[100000:]"
   ]
  },
  {
   "cell_type": "code",
   "execution_count": 733,
   "metadata": {},
   "outputs": [
    {
     "name": "stdout",
     "output_type": "stream",
     "text": [
      "12.34100079536438, c\n"
     ]
    }
   ],
   "source": [
    "model = linear_model.LogisticRegression()\n",
    "start = time.time()\n",
    "model.fit(X_train, y_train)\n",
    "end = time.time()\n",
    "pred = model.predict_proba(X_test)\n",
    "print(str(end-start) + ', c')"
   ]
  },
  {
   "cell_type": "code",
   "execution_count": 734,
   "metadata": {},
   "outputs": [
    {
     "data": {
      "text/plain": [
       "0.6296038354662952"
      ]
     },
     "execution_count": 734,
     "metadata": {},
     "output_type": "execute_result"
    }
   ],
   "source": [
    "roc_auc_score (y_test ,  pred[:, 1])"
   ]
  },
  {
   "cell_type": "markdown",
   "metadata": {},
   "source": [
    "__(Бонусная часть)__ Посчитайте корректные счётчики, основываясь на объектах расположеных выше в датасете (не забудьте добавить и шум). \n",
    "\n",
    "__(+0.5 балла)__"
   ]
  },
  {
   "cell_type": "code",
   "execution_count": 510,
   "metadata": {
    "scrolled": true
   },
   "outputs": [
    {
     "name": "stdout",
     "output_type": "stream",
     "text": [
      "0\n",
      "1\n",
      "2\n",
      "3\n",
      "4\n",
      "5\n",
      "6\n",
      "7\n",
      "8\n",
      "9\n",
      "10\n",
      "11\n",
      "12\n",
      "13\n"
     ]
    }
   ],
   "source": [
    "import random\n",
    "\n",
    "def cnt_correct(X, y):\n",
    "    ans = np.zeros((X.shape[0], X.shape[1]))\n",
    "    #noise  = np.random.normal(loc=0.0, scale=1e-2, size=(X.shape[0], X.shape[1]))\n",
    "\n",
    "    for j in range(0, X.shape[1]):\n",
    "        print(j)\n",
    "        for i in range(0, X.shape[0]):\n",
    "            x = X[i, j]\n",
    "            num = np.sum((X[:i+1, j] == x) & (y[:i+1] == 1))\n",
    "            den = np.sum((X[:i+1, j] == x))\n",
    "            ans[i, j] = float(num) / den\n",
    "    return ans\n",
    "\n",
    "X_cat_correct = (cnt_correct(X_cat, y))"
   ]
  },
  {
   "cell_type": "code",
   "execution_count": 716,
   "metadata": {},
   "outputs": [],
   "source": [
    "noise  = np.random.normal(loc=0.0, scale=1e-3, size=(X_cat_correct.shape[0], X_cat_correct.shape[1]))\n",
    "\n",
    "data_tmp = np.copy(X_cat_correct)+noise\n",
    "\n",
    "X_train_cat_correct = data_tmp[:100000]\n",
    "X_test_cat_correct = data_tmp[100000:]"
   ]
  },
  {
   "cell_type": "code",
   "execution_count": 717,
   "metadata": {},
   "outputs": [],
   "source": [
    "X_train = np.hstack((X_train_cat_correct, X_train_other))\n",
    "X_test = np.hstack((X_test_cat_correct, X_test_other))"
   ]
  },
  {
   "cell_type": "code",
   "execution_count": 721,
   "metadata": {},
   "outputs": [
    {
     "name": "stdout",
     "output_type": "stream",
     "text": [
      "13.310407876968384, c\n"
     ]
    }
   ],
   "source": [
    "import time\n",
    "model = linear_model.LogisticRegression()\n",
    "start = time.time()\n",
    "model.fit(X_train, y_train)\n",
    "end = time.time()\n",
    "pred = model.predict_proba(X_test)\n",
    "print(str(end-start) + ', c')"
   ]
  },
  {
   "cell_type": "code",
   "execution_count": 722,
   "metadata": {},
   "outputs": [
    {
     "data": {
      "text/plain": [
       "0.6294242814637097"
      ]
     },
     "execution_count": 722,
     "metadata": {},
     "output_type": "execute_result"
    }
   ],
   "source": [
    "roc_auc_score (y_test ,  pred[:, 1])"
   ]
  },
  {
   "cell_type": "markdown",
   "metadata": {},
   "source": [
    "**Ответ: ** При использовании счетчиков для кодирования категориальных признаков показатель roc-auc ухудшился на 0.003. Это могло произойти из-за того, что  one-hot-encoding лишь изменяет способ хранения исходных значения признаков, а счетчики заменяют их приближенные значения. Кроме того, шум мог оказать отрицательное влияние. При применении корректных счетчиков, посчитанных по объектам выше в датасете, величина roc-auc снизилась еще на 0.0002.\n",
    "\n",
    "Размерность преобразованного пространства признаков уменьшилась на $226-57=169$, это привело к сокращению времени для обучения модели на 5с по сравнению с OneHotEncoding."
   ]
  },
  {
   "cell_type": "code",
   "execution_count": null,
   "metadata": {},
   "outputs": [],
   "source": []
  },
  {
   "cell_type": "markdown",
   "metadata": {},
   "source": [
    "А теперь ответьте на следующий вопрос: что будет, если некоторая категория встречается в выборке всего несколько раз? \n",
    "\n",
    "Ответ: Из-за малого количества объектов нельзя корректно оценить влияние категории на целевую переменную, поэтому дополнительно проводится усреднение по всем категориям.\n",
    "\n",
    "По этой причине производится сглаживание счётчиков. Например, на практике хорошие результаты показывает использование сглаживания средним по всей выборке:\n",
    "$$\n",
    "g_j(x, X) = \\frac{\\sum_{i=1}^{\\ell} [f_j(x) = f_j(x_i)][y_i = +1] + C \\times global\\_mean}{\\sum_{i=1}^{\\ell} [f_j(x) = f_j(x_i)] + C}\n",
    "$$\n",
    "где $global\\_mean$ — среднее значение целевой переменной по всей выборке, $C$ — параметр, определяющий степень сглаживания (например, можно использовать 10 или подобрать для каждого признака свой). Основная идея в том, что мы \"разбавляем\" среднее значение по некоторой категории глобальным средним значении. И тем меньше, чем большее количество объектов этой категории встречается в выборке. \n",
    "\n",
    "Однако для сглаживания вместо среднего значения целевой переменной можно использовать любое другое значение от 0 до 1 (этот параметр иногда называют $prior$). Можно сделать несколько признаков с разными значениями параметра. На практике в задачах бинарной классификации полезными бывают даже отрицательные значения!\n",
    "\n",
    "__Задание 7.__ Реализуйте счетчики со сглаживанием, как описано выше. Обучите логистическую регрессию, оцените качество.\n",
    "\n",
    "__(0.5 балл)__"
   ]
  },
  {
   "cell_type": "code",
   "execution_count": 538,
   "metadata": {
    "scrolled": true
   },
   "outputs": [
    {
     "name": "stdout",
     "output_type": "stream",
     "text": [
      "0\n",
      "1\n",
      "2\n",
      "3\n",
      "4\n",
      "5\n",
      "6\n",
      "7\n",
      "8\n",
      "9\n",
      "10\n",
      "11\n",
      "12\n",
      "13\n"
     ]
    }
   ],
   "source": [
    "import random\n",
    "\n",
    "def cnt_mean(X, y,c):\n",
    "    ans = np.zeros((X.shape[0], X.shape[1]))\n",
    "    #noise  = np.random.normal(loc=0.0, scale=1e-2, size=(X.shape[0], X.shape[1]))\n",
    "    global_mean  = y.mean()\n",
    "\n",
    "    for j in range(0, X.shape[1]):\n",
    "        print(j)\n",
    "        for i in range (0, X.shape[0]):\n",
    "            x = X[i, j]\n",
    "            num = np.sum((X[:, j] == x) & (y == 1)) + c * global_mean\n",
    "            den = np.sum((X[:, j] == x)) + c\n",
    "            ans[i, j] = float(num) / den\n",
    "    return ans\n",
    "\n",
    "X_cat_mean = (cnt_mean(X_cat, y, 10))"
   ]
  },
  {
   "cell_type": "code",
   "execution_count": 723,
   "metadata": {},
   "outputs": [
    {
     "data": {
      "text/plain": [
       "(100000, 14)"
      ]
     },
     "execution_count": 723,
     "metadata": {},
     "output_type": "execute_result"
    }
   ],
   "source": [
    "X_train_cat_mean.shape"
   ]
  },
  {
   "cell_type": "code",
   "execution_count": 724,
   "metadata": {},
   "outputs": [],
   "source": [
    "noise  = np.random.normal(loc=0.0, scale=1e-5, size=(X_cat_correct.shape[0], X_cat_correct.shape[1]))\n",
    "\n",
    "data_tmp = np.copy(X_cat_mean)+noise\n",
    "\n",
    "X_train_cat_mean = data_tmp[:100000]\n",
    "X_test_cat_mean = data_tmp[100000:]\n",
    "X_train = np.hstack((X_train_cat_mean, X_train_other))\n",
    "X_test = np.hstack((X_test_cat_mean, X_test_other))"
   ]
  },
  {
   "cell_type": "code",
   "execution_count": 725,
   "metadata": {},
   "outputs": [
    {
     "name": "stdout",
     "output_type": "stream",
     "text": [
      "12.496623992919922, c\n"
     ]
    }
   ],
   "source": [
    "model = linear_model.LogisticRegression()\n",
    "start = time.time()\n",
    "model.fit(X_train, y_train)\n",
    "end = time.time()\n",
    "pred = model.predict_proba(X_test)\n",
    "print(str(end-start) + ', c')"
   ]
  },
  {
   "cell_type": "code",
   "execution_count": 726,
   "metadata": {},
   "outputs": [
    {
     "data": {
      "text/plain": [
       "0.6295878926660656"
      ]
     },
     "execution_count": 726,
     "metadata": {},
     "output_type": "execute_result"
    }
   ],
   "source": [
    "roc_auc_score (y_test ,  pred[:, 1])"
   ]
  },
  {
   "cell_type": "markdown",
   "metadata": {},
   "source": [
    "__Замечание.__ Усложнение методов вычисления счётчиков не делают результаты модели гарантированно лучше. Особенно с учётом того, что логистическая регрессия не такая сложная модель, чтобы переобучаться. Поэтому вы необязательно должны были получать на каждом шаге всё лучшие и лучшие результаты (но необходимые результаты у вас должны были получиться).\n",
    "\n",
    "Как вы должны были заметить, счётчики являются хорошей альтернативой one-hot-кодированию. Напишите, какие плюсы и минусы использования счётчиков по сравнению с one-hot-кодированием, вы заметили.\n",
    "\n",
    "**Ответ:**\n",
    "Плюсы OneHotEncoding: более высокая точность, чем для счетчиков; нет переобучения, так как при кодировании не используется целевая переменная\n",
    "\n",
    "Минусы OneHotEncoding: сильный рост размерности признакового пространства и, как следствие, увеличение времени, необходимого для обучения и предсказания модели."
   ]
  },
  {
   "cell_type": "markdown",
   "metadata": {},
   "source": [
    "## Отбор признаков"
   ]
  },
  {
   "cell_type": "markdown",
   "metadata": {},
   "source": [
    "Важной частью процесса построения модели является отбор признаков. На практике многие признаки оказывают малое влияние на модель (при этом их расчёт занимает время) или даже негативно сказываются на качестве модели. Попробуем несколько подходов отбора признаков, оценим, как они влияют на качество модели и сколько времени занимают.\n",
    "\n",
    "Обратимся к тому же датасету про обращение клиентов по страховым случаям. Обойдёмся без сэмплирования объектов."
   ]
  },
  {
   "cell_type": "code",
   "execution_count": 227,
   "metadata": {
    "ExecuteTime": {
     "end_time": "2018-10-12T07:36:04.765536Z",
     "start_time": "2018-10-12T07:35:57.814973Z"
    }
   },
   "outputs": [],
   "source": [
    "data = pd.read_csv('train.csv', index_col=0)\n",
    "target = data.target.values\n",
    "data = data.drop('target', axis=1)\n",
    "X_train, X_test, y_train, y_test = train_test_split(data, target, test_size=0.2, random_state=124)"
   ]
  },
  {
   "cell_type": "markdown",
   "metadata": {},
   "source": [
    "Как вы помните, в данных много категориальных признаков. Давайте закодируем их с помощью one-hot кодирования. Исходные колонки с категориальными признаками можно удалить. Сколько признаков мы получили?"
   ]
  },
  {
   "cell_type": "code",
   "execution_count": 228,
   "metadata": {},
   "outputs": [],
   "source": [
    "cat = []\n",
    "other = []\n",
    "\n",
    "for col in X_train:\n",
    "    if(col[-3:] == 'cat'):\n",
    "        cat.append(col)\n",
    "    else:\n",
    "        other.append(col)\n",
    "\n",
    "X_train_cat = X_train[cat]\n",
    "X_train_other = X_train[other]\n",
    "X_test_cat = X_test[cat]\n",
    "X_test_other = X_test[other]\n",
    "\n",
    "from time import time\n",
    "from sklearn.preprocessing import OneHotEncoder\n",
    "enc = OneHotEncoder(handle_unknown='ignore')\n",
    "X_train_cat_hot = enc.fit_transform(X_train_cat+1).toarray()\n",
    "X_test_cat_hot = enc.transform(X_test_cat+1).toarray()\n",
    "\n",
    "X_train = np.hstack((X_train_cat_hot, X_train_other))\n",
    "X_test = np.hstack((X_test_cat_hot, X_test_other))"
   ]
  },
  {
   "cell_type": "code",
   "execution_count": 208,
   "metadata": {},
   "outputs": [
    {
     "data": {
      "text/plain": [
       "(476169, 227)"
      ]
     },
     "execution_count": 208,
     "metadata": {},
     "output_type": "execute_result"
    }
   ],
   "source": [
    "X_train.shape"
   ]
  },
  {
   "cell_type": "markdown",
   "metadata": {},
   "source": [
    "**Ответ:** 227 признаков."
   ]
  },
  {
   "cell_type": "markdown",
   "metadata": {},
   "source": [
    "В качестве основной модели будем использовать логистическую регрессию, а целевой метрики — ROC-AUC. Обучите модель и посчитайте качество на тестовой выборке. Давайте запомним полученное значение."
   ]
  },
  {
   "cell_type": "code",
   "execution_count": 210,
   "metadata": {},
   "outputs": [],
   "source": [
    "model = linear_model.LogisticRegression()\n",
    "model.fit(X_train, y_train)\n",
    "pred = model.predict_proba(X_test)"
   ]
  },
  {
   "cell_type": "code",
   "execution_count": 211,
   "metadata": {},
   "outputs": [
    {
     "data": {
      "text/plain": [
       "0.6380749522140562"
      ]
     },
     "execution_count": 211,
     "metadata": {},
     "output_type": "execute_result"
    }
   ],
   "source": [
    "from sklearn.metrics import roc_auc_score, roc_curve\n",
    "roc_auc_score (y_test ,  pred[:, 1])"
   ]
  },
  {
   "cell_type": "markdown",
   "metadata": {},
   "source": [
    "### Встроенные методы"
   ]
  },
  {
   "cell_type": "markdown",
   "metadata": {},
   "source": [
    "Допустим, мы хотим оставить только 200 лучших признаков. Попробуем сделать это несколькими способами.\n",
    "\n",
    "Начнём с отборам признаков с помощью линейной модели. Как известно, веса линейной модели означают вклад каждого признака в предсказание модели, а значит, модуль этого вклада можно интерпретировать как важность признаков. Такой метод отбора называются встроенным или embedded methods, так как он заложен в особенности модели.\n",
    "\n",
    "__Задание 8.__ Оставьте 200 признаков с наибольшим модулем соответсвующего параметра линейной модели. Обучите модели заново и оцените её качество. Замерьте скорость такого отбора признаков.\n",
    "\n",
    "Изменилось ли качество? Как?\n",
    "\n",
    "__(0.5 балла)__"
   ]
  },
  {
   "cell_type": "code",
   "execution_count": 212,
   "metadata": {},
   "outputs": [],
   "source": [
    "import time"
   ]
  },
  {
   "cell_type": "code",
   "execution_count": 213,
   "metadata": {},
   "outputs": [
    {
     "data": {
      "text/plain": [
       "24.260249614715576"
      ]
     },
     "execution_count": 213,
     "metadata": {},
     "output_type": "execute_result"
    }
   ],
   "source": [
    "start = time.time()\n",
    "model = linear_model.LogisticRegression()\n",
    "model.fit(X_train, y_train)\n",
    "weight = model.coef_[0]\n",
    "args = np.argsort(abs(weight))[::-1][:200]\n",
    "end = time.time()\n",
    "end-start"
   ]
  },
  {
   "cell_type": "code",
   "execution_count": 214,
   "metadata": {},
   "outputs": [
    {
     "data": {
      "text/plain": [
       "0.6383429778574515"
      ]
     },
     "execution_count": 214,
     "metadata": {},
     "output_type": "execute_result"
    }
   ],
   "source": [
    "model = linear_model.LogisticRegression()\n",
    "model.fit(X_train[:, args], y_train)\n",
    "pred = model.predict_proba(X_test[:, args])\n",
    "roc_auc_score (y_test ,  pred[:, 1])"
   ]
  },
  {
   "cell_type": "markdown",
   "metadata": {},
   "source": [
    "**Ответ:** метрика roc-auc повысилась на 0.0003. Время отбора - 24с."
   ]
  },
  {
   "cell_type": "markdown",
   "metadata": {},
   "source": [
    "А теперь давайте подумаем, что мы не учли. Мы предположили, что признаки вносят вклад равномерно, но не учли их масштаба. Если мы умножим один из признаков в 100 раз, то без учёта регуляризации его вес уменьшится в эти же 100 раз. А мы на основе этого отбираем признаки! Давайте сначала отнормируем признаки одним из способов, а только потом будем удалять признаки. \n",
    "\n",
    "Кстати, в таком случае надо пересчитать качество на всех признаках (сделайте это ниже). Если вы сделали нормирование признаков в самом начале, то попробуйте отобрать признаки на неотмасштабированных данных.\n",
    "\n",
    "Что получилось?"
   ]
  },
  {
   "cell_type": "code",
   "execution_count": 222,
   "metadata": {},
   "outputs": [],
   "source": [
    "from sklearn.preprocessing import MaxAbsScaler, MinMaxScaler\n",
    "scaler = MinMaxScaler()\n",
    "scaler.fit(X_train)\n",
    "X_train = scaler.transform(X_train)\n",
    "X_test = scaler.transform(X_test)"
   ]
  },
  {
   "cell_type": "code",
   "execution_count": 223,
   "metadata": {},
   "outputs": [
    {
     "data": {
      "text/plain": [
       "20.728378772735596"
      ]
     },
     "execution_count": 223,
     "metadata": {},
     "output_type": "execute_result"
    }
   ],
   "source": [
    "import time\n",
    "start = time.time()\n",
    "model = linear_model.LogisticRegression()\n",
    "model.fit(X_train, y_train)\n",
    "weight = model.coef_[0]\n",
    "args = np.argsort(abs(weight))[::-1][:200]\n",
    "end = time.time()\n",
    "end-start"
   ]
  },
  {
   "cell_type": "code",
   "execution_count": 224,
   "metadata": {},
   "outputs": [
    {
     "data": {
      "text/plain": [
       "0.6381690992875844"
      ]
     },
     "execution_count": 224,
     "metadata": {},
     "output_type": "execute_result"
    }
   ],
   "source": [
    "model = linear_model.LogisticRegression()\n",
    "model.fit(X_train[:, args], y_train)\n",
    "pred = model.predict_proba(X_test[:, args])\n",
    "roc_auc_score (y_test ,  pred[:, 1])"
   ]
  },
  {
   "cell_type": "markdown",
   "metadata": {},
   "source": [
    "**Ответ:** качество улучшилось относительно качества до отбора признаков, однако после масштабирования метрика roc-auc уменьшилась  на 0.0001. Время отбора - 21 с."
   ]
  },
  {
   "cell_type": "markdown",
   "metadata": {},
   "source": [
    "### Методы фильтрации"
   ]
  },
  {
   "cell_type": "markdown",
   "metadata": {},
   "source": [
    "Давайте отбирать признаки умнее, а именно через подсчёт некоторой функции для каждого признака. На основании значений этой функции будем оставлять наиболее важные признаки. Методы этого семейства называют фильтрующими или  filter methods. \n",
    "\n",
    "В качестве такой функции будем считать t-статистику:\n",
    "\n",
    "$$t(x) = \\frac{|\\mu_+ - \\mu_-|}{\\sqrt{\\frac{n_+ \\sigma^2_+ + n_- \\sigma^2_-}{n_+ + n_-}}},$$\n",
    "\n",
    "где $mu$, $sigma$, $n$ соответственно среднее, среднеквадратичное отклонение и количество объектов каждого из классов.\n",
    "\n",
    "__Задание 9.__ Оставьте 200 признаков с наибольшим значением и замерьте качество. Не забудьте замерить скорость отбора признаков в этом случаев.\n",
    "\n",
    "__(0.5 балла)__"
   ]
  },
  {
   "cell_type": "code",
   "execution_count": 677,
   "metadata": {},
   "outputs": [],
   "source": [
    "def stat(X, y):\n",
    "    ans = []\n",
    "    for j in range(X.shape[1]):\n",
    "        pos = X[:, j]\n",
    "        pos = pos[y == 1].reshape(-1, )\n",
    "        neg = X[:, j]\n",
    "        neg = neg[y == 0].reshape(-1, )\n",
    "        num = abs(np.mean(pos) - np.mean(neg))\n",
    "        den = sqrt((pos.shape[0] * (np.std(pos) ** 2) + neg.shape[0] * (np.std(neg) ** 2)) / (neg.shape[0] + pos.shape[0]))\n",
    "        ans.append(num / den)\n",
    "    return ans"
   ]
  },
  {
   "cell_type": "code",
   "execution_count": 678,
   "metadata": {},
   "outputs": [
    {
     "data": {
      "text/plain": [
       "3.9690277576446533"
      ]
     },
     "execution_count": 678,
     "metadata": {},
     "output_type": "execute_result"
    }
   ],
   "source": [
    "start = time.time()\n",
    "ans = stat(X_train, y_train)\n",
    "idx = np.argsort(ans)[::-1][:200]\n",
    "end = time.time()\n",
    "end - start"
   ]
  },
  {
   "cell_type": "code",
   "execution_count": 679,
   "metadata": {},
   "outputs": [
    {
     "data": {
      "text/plain": [
       "0.6385155855326041"
      ]
     },
     "execution_count": 679,
     "metadata": {},
     "output_type": "execute_result"
    }
   ],
   "source": [
    "model = linear_model.LogisticRegression()\n",
    "model.fit(X_train[:, idx], y_train)\n",
    "pred = model.predict_proba(X_test[:, idx])\n",
    "roc_auc_score (y_test ,  pred[:,1])"
   ]
  },
  {
   "cell_type": "markdown",
   "metadata": {},
   "source": [
    "**Ответ:** метрика roc-auc повысилась на 0.0005. Время отбора - 4с."
   ]
  },
  {
   "cell_type": "markdown",
   "metadata": {},
   "source": [
    "### Методы-обёртки"
   ]
  },
  {
   "cell_type": "markdown",
   "metadata": {},
   "source": [
    "__Задание 10.__ \n",
    "\n",
    "__(1 балл)__\n",
    "\n",
    "Заключительный из рассматриваемых нами методов работает следующим образом: мы исключаем по очереди один из признаков и смотрим, как это влияет на качество. Удаляем признаки таким жадным способом, пока не достигнем некоторого критерия (количество признаков или ухудшением качества).\n",
    "\n",
    "Заметим, что нельзя оценивать качество по тестовой выборке, иначе мы можем переобучиться, как, например, при настройке гиперпараметров. Разделите выборку на 2 части, на одной из них обучайте модель без одного из признаков,  на второй части оценивайте качество. Исходную тестовую выборку стоит использовать только на финальной оценке качества.\n",
    "\n",
    "Сделайте одну итерацию и прикиньте, сколько времени займёт такой отбор признаков. Кажется, что чересчур. Давайте возьмём маленький сэмпл данных (например, в 10 тысяч объектов), что сильно уменьшит время итерации. Теперь это долго, но уже приемлимо. \n",
    "\n",
    "Если это всё ещё долго для вашего комьютера, можете попробовать брать не по одному признаку, а сразу по пять (и удалять сразу тоже по 5). Для этого перед каждой итерацией удаления делите заново все признаки на группы по 5 штук.\n",
    "\n",
    "Снова оставьте только 200 признаков и оцените качество на тестовой выборке. Сколько времени занял такой отбор признаков?"
   ]
  },
  {
   "cell_type": "code",
   "execution_count": 698,
   "metadata": {},
   "outputs": [],
   "source": [
    "X_tr, X_ts, y_tr, y_ts = train_test_split(X_train, y_train, test_size=0.4, random_state=124)"
   ]
  },
  {
   "cell_type": "code",
   "execution_count": 681,
   "metadata": {},
   "outputs": [
    {
     "data": {
      "text/plain": [
       "(285701, 227)"
      ]
     },
     "execution_count": 681,
     "metadata": {},
     "output_type": "execute_result"
    }
   ],
   "source": [
    "X_tr.shape"
   ]
  },
  {
   "cell_type": "code",
   "execution_count": 700,
   "metadata": {},
   "outputs": [],
   "source": [
    "from random import shuffle\n",
    "import time"
   ]
  },
  {
   "cell_type": "code",
   "execution_count": 703,
   "metadata": {},
   "outputs": [
    {
     "name": "stdout",
     "output_type": "stream",
     "text": [
      "0.6263039852579375\n",
      "0.6142721107005779\n",
      "0.6182151023202673\n",
      "0.6181707528418158\n",
      "0.6186798596783575\n",
      "0.6234292153760064\n",
      "0.6161526378611516\n",
      "0.619242566114722\n",
      "0.6231724182964773\n",
      "0.6103699575166391\n",
      "0.6216293547809806\n",
      "0.6173919114445099\n",
      "0.6184528147583556\n",
      "73.39654684066772\n"
     ]
    }
   ],
   "source": [
    "cnt = 227\n",
    "start = time.time()\n",
    "while(cnt > 200):\n",
    "\n",
    "    numbers = list(range(cnt))\n",
    "    shuffle(numbers)\n",
    "    tmp = numbers[:3]\n",
    "    fold = numbers[3:]    \n",
    "    \n",
    "    model = linear_model.LogisticRegression(C = c)\n",
    "    \n",
    "    numbers = list(range(X_tr.shape[0]))\n",
    "    shuffle(numbers)\n",
    "    idx = numbers[:100000]\n",
    "    \n",
    "        \n",
    "    X = X_tr[idx]\n",
    "    X = X[:, fold]\n",
    "    \n",
    "    model.fit(X, y_tr[idx])\n",
    "    \n",
    "    numbers = list(range(X_ts.shape[0]))\n",
    "    shuffle(numbers)\n",
    "    idx = numbers[:100000] \n",
    "    \n",
    "    \n",
    "    X = X_ts[idx]\n",
    "    X = X[:, fold]\n",
    "    pred = model.predict_proba(X)\n",
    "    \n",
    "    score = roc_auc_score(y_ts[idx], pred[:, 1])\n",
    "    print(score)\n",
    "    \n",
    "    if score <= 0.62:\n",
    "        X_tr = X_tr[:, fold]\n",
    "        X_ts = X_ts[:, fold]\n",
    "        X_test = X_test[:, fold]\n",
    "        X_train = X_train[:, fold]\n",
    "        cnt -= 3 \n",
    "end = time.time()\n",
    "print(end - start)"
   ]
  },
  {
   "cell_type": "code",
   "execution_count": 706,
   "metadata": {},
   "outputs": [
    {
     "data": {
      "text/plain": [
       "0.6375153611329435"
      ]
     },
     "execution_count": 706,
     "metadata": {},
     "output_type": "execute_result"
    }
   ],
   "source": [
    "model = linear_model.LogisticRegression()\n",
    "model.fit(X_train, y_train)\n",
    "pred = model.predict_proba(X_test)\n",
    "roc_auc_score (y_test ,  pred[:,1])"
   ]
  },
  {
   "cell_type": "code",
   "execution_count": 230,
   "metadata": {},
   "outputs": [],
   "source": [
    "from sklearn.feature_selection import RFE\n",
    "from sklearn.linear_model import LogisticRegression\n",
    "import time\n",
    "lr = LogisticRegression()\n",
    "#select 5 the most informative features\n",
    "rfe = RFE(lr, 200) \n",
    "start = time.time()\n",
    "selector = rfe.fit(X_train,y_train)\n",
    "end = time.time()"
   ]
  },
  {
   "cell_type": "code",
   "execution_count": 233,
   "metadata": {},
   "outputs": [
    {
     "data": {
      "text/plain": [
       "827.2384502887726"
      ]
     },
     "execution_count": 233,
     "metadata": {},
     "output_type": "execute_result"
    }
   ],
   "source": [
    "end-start"
   ]
  },
  {
   "cell_type": "code",
   "execution_count": 234,
   "metadata": {},
   "outputs": [
    {
     "data": {
      "text/plain": [
       "0.638129743914594"
      ]
     },
     "execution_count": 234,
     "metadata": {},
     "output_type": "execute_result"
    }
   ],
   "source": [
    "model = linear_model.LogisticRegression()\n",
    "model.fit(X_train[:,selector.support_], y_train)\n",
    "pred = model.predict_proba(X_test[:,selector.support_])\n",
    "roc_auc_score (y_test ,  pred[:,1])"
   ]
  },
  {
   "cell_type": "markdown",
   "metadata": {},
   "source": [
    "**Ответ:** при применении собственной реализации метрика roc-auc понизилась на 0.0005. Время отбора - 73с. При применении реализации с Sklearn roc-auc повысилась на 0.0001. Время отбора - 827с"
   ]
  },
  {
   "cell_type": "markdown",
   "metadata": {},
   "source": [
    "Давайте подведём итоги по отбору признаков. Назовите преимущества и недостатки каждого из методов. Какой метод привёл к наилучшему качеству?\n",
    "\n",
    "**Ответ:** Оптимальным методом является метод фильтрации: он дает максимальную точность и минимальное время для отбора признаков. Высокая скорость работы достигается благодаря возможности векторизованных вычислений. Недостатком метода явлется то, что в нем каждый признак рассматривается отдельно, но из-за корреляции признаков итоговое качество модели может не оказаться наилучшим на выбранном таким образом подмножестве.\n",
    "\n",
    "Встроенные методы также дают повышение качества работы, однако требуют большего времени для отбора признаков, так как он происходит в результате обучения модели, а не простых вычислений, как при фильтрации.\n",
    "\n",
    "Методы-обертки позволяют выбрать лучшее подмножество признаков из всевозможных с помощью проверки качества при обучении на них, то есть признаки рассматриваются уже не сами по себе, а в совокупности, что позволяет повысить качество модели. Недостатком таких алгоритмов явлется то, что требуют много времени для отбора признаков и дополнительной настройки параметров, например, порога точности, при котором признаки отбрасываются."
   ]
  },
  {
   "cell_type": "markdown",
   "metadata": {},
   "source": [
    "## Настройка порога для бинаризации вероятностей"
   ]
  },
  {
   "cell_type": "markdown",
   "metadata": {},
   "source": [
    "В этой части мы будем проделывать стандартные операции для подготовки модели к её реальному использованию — подбора порога для бинаризации вероятностей с учётом потребностей бизнеса или продукта. Хороший алгоритм с точки зрения ROC-AUC это, конечно, хорошо, но ведь в реальности нам надо принимать решение бинарно, например, выдавать ли кредит человеку. \n",
    "\n",
    "Воспользуемся той же самый задачей, что и в предыдущем разделе — определение обращение клиента в страховую в ближайшее время. Положительные объекты в нашей выборки как раз обратившиеся в страховую клиенты. \n",
    "\n",
    "Не вдаваясь в подробности бизнеса страховых, можно понять, что обращение клиента по страховому случаю для нас как страховой невыгодно, ведь мы теряем на этом деньги. Клиенты, которые не обращаются в страховую и ездят аккуратно, приносят нам деньги.\n",
    "\n",
    "Пусть на каждом клиенте, который обратился в нашу страховую, мы теряем 100000, а на клиенте, который не обратился в страховую, мы зарабатываем 5000. \n",
    "\n",
    "Будем строить алгоритм, который прогнозирует обращение по страховому случаю, чтобы некоторым потенциальным клиентам отказывать в обслуживании, если мы уверены, что на них мы потеряем деньги."
   ]
  },
  {
   "cell_type": "code",
   "execution_count": 236,
   "metadata": {
    "ExecuteTime": {
     "end_time": "2018-10-12T07:36:04.765536Z",
     "start_time": "2018-10-12T07:35:57.814973Z"
    }
   },
   "outputs": [],
   "source": [
    "data = pd.read_csv('train.csv', index_col=0)\n",
    "target = data.target.values\n",
    "data = data.drop('target', axis=1)\n",
    "X_train, X_test, y_train, y_test = train_test_split(data, target, test_size=0.2, random_state=124)"
   ]
  },
  {
   "cell_type": "code",
   "execution_count": 237,
   "metadata": {},
   "outputs": [
    {
     "data": {
      "text/plain": [
       "(476169, 57)"
      ]
     },
     "execution_count": 237,
     "metadata": {},
     "output_type": "execute_result"
    }
   ],
   "source": [
    "X_train.shape"
   ]
  },
  {
   "cell_type": "markdown",
   "metadata": {},
   "source": [
    "В этот раз мы не будем сэмплировать данные и будем использовать их \"как есть\".\n",
    "\n",
    "Посчитайте долю положительных примеров в выборке? Скажите, почему она такая?"
   ]
  },
  {
   "cell_type": "code",
   "execution_count": 238,
   "metadata": {},
   "outputs": [
    {
     "data": {
      "text/plain": [
       "0.036447517859182946"
      ]
     },
     "execution_count": 238,
     "metadata": {},
     "output_type": "execute_result"
    }
   ],
   "source": [
    "np.mean(target)"
   ]
  },
  {
   "cell_type": "markdown",
   "metadata": {},
   "source": [
    "**Ответ:** Доля положительных ответов в выборке мала $(3.6\\%)$ в силу особенностей задачи: число людей, которые обращаются по страховым случаем, гораздо меньше, чем тех, кто ездит аккуратно."
   ]
  },
  {
   "cell_type": "markdown",
   "metadata": {},
   "source": [
    "Как вы помните, в данных много категориальных признаков. Давайте закодируем их с помощью one-hot кодирования. Исходные колонки с категориальными признаками можно удалить."
   ]
  },
  {
   "cell_type": "code",
   "execution_count": 239,
   "metadata": {},
   "outputs": [],
   "source": [
    "cat = []\n",
    "other = []\n",
    "\n",
    "for col in X_train:\n",
    "    if(col[-3:] == 'cat'):\n",
    "        cat.append(col)\n",
    "    else:\n",
    "        other.append(col)\n",
    "\n",
    "X_train_cat = X_train[cat]\n",
    "X_train_other = X_train[other]\n",
    "X_test_cat = X_test[cat]\n",
    "X_test_other = X_test[other]\n",
    "\n",
    "from time import time\n",
    "from sklearn.preprocessing import OneHotEncoder\n",
    "enc = OneHotEncoder(handle_unknown='ignore')\n",
    "X_train_cat_hot = enc.fit_transform(X_train_cat+1).toarray()\n",
    "X_test_cat_hot = enc.transform(X_test_cat+1).toarray()\n",
    "\n",
    "X_train = np.hstack((X_train_cat_hot, X_train_other))\n",
    "X_test = np.hstack((X_test_cat_hot, X_test_other))"
   ]
  },
  {
   "cell_type": "code",
   "execution_count": 240,
   "metadata": {},
   "outputs": [
    {
     "data": {
      "text/plain": [
       "(476169, 14)"
      ]
     },
     "execution_count": 240,
     "metadata": {},
     "output_type": "execute_result"
    }
   ],
   "source": [
    "X_train_cat.shape"
   ]
  },
  {
   "cell_type": "markdown",
   "metadata": {},
   "source": [
    "В качестве нашей основной модели будем использовать логистическую регрессию, которая возвращает вероятность положительного класса. Обучите модель, сделайте предсказания на тестовой выборке."
   ]
  },
  {
   "cell_type": "code",
   "execution_count": 241,
   "metadata": {},
   "outputs": [],
   "source": [
    "model = linear_model.LogisticRegression()\n",
    "model.fit(X_train, y_train)\n",
    "pred = model.predict_proba(X_test)"
   ]
  },
  {
   "cell_type": "markdown",
   "metadata": {},
   "source": [
    "Посчитайте ROC-AUC. Что вы можете про него сказать? Как вы считаете, почему получилось так?"
   ]
  },
  {
   "cell_type": "code",
   "execution_count": 242,
   "metadata": {},
   "outputs": [
    {
     "data": {
      "text/plain": [
       "0.6380749522140562"
      ]
     },
     "execution_count": 242,
     "metadata": {},
     "output_type": "execute_result"
    }
   ],
   "source": [
    "roc_auc_score (y_test ,  pred[:,1])"
   ]
  },
  {
   "cell_type": "code",
   "execution_count": 247,
   "metadata": {},
   "outputs": [
    {
     "data": {
      "image/png": "[encoded data removed]",
      "text/plain": [
       "<Figure size 432x288 with 1 Axes>"
      ]
     },
     "metadata": {},
     "output_type": "display_data"
    }
   ],
   "source": [
    "fpr, tpr, thresholds = roc_curve(y_test, pred[:,1])\n",
    "\n",
    "cl = ['l1', 'l2']\n",
    "fig, ax = plt.subplots(figsize=(6, 4), ncols = 1)\n",
    "ax.plot(fpr, tpr, lw = '2')\n",
    "\n",
    "ax.set_xlabel('False Positive Rate')\n",
    "ax.set_ylabel('True Positive Rate')\n",
    "\n",
    "ax.set_title(\"ROC Curve\")\n",
    "ax.grid()"
   ]
  },
  {
   "cell_type": "code",
   "execution_count": 243,
   "metadata": {},
   "outputs": [],
   "source": [
    "pred_1 = model.predict(X_test)"
   ]
  },
  {
   "cell_type": "markdown",
   "metadata": {},
   "source": [
    "Постройте precision-recall кривую на тестовой выборке. Что вы можете по ней сказать?"
   ]
  },
  {
   "cell_type": "code",
   "execution_count": 827,
   "metadata": {},
   "outputs": [
    {
     "data": {
      "image/png": "[encoded data removed]",
      "text/plain": [
       "<Figure size 432x288 with 1 Axes>"
      ]
     },
     "metadata": {},
     "output_type": "display_data"
    }
   ],
   "source": [
    "from sklearn.metrics import precision_recall_curve, auc\n",
    "import matplotlib.pyplot as plt\n",
    "\n",
    "precision, recall, _ = precision_recall_curve(y_test, pred_1)\n",
    "\n",
    "plt.plot(recall, precision)\n",
    "\n",
    "plt.xlabel('Recall')a\n",
    "plt.ylabel('Precision')\n",
    "\n",
    "plt.title('Precision-Recall curve')\n",
    "plt.grid()"
   ]
  },
  {
   "cell_type": "markdown",
   "metadata": {},
   "source": [
    "**Ответ:** по показателям roc-auc и precision-recall можно сказать, что у модели низкое качество классификации, прогноз близок к случайному. Это может быть вызвано тем, что в выборке представлено слишком мало объектов истинно положительного класса. "
   ]
  },
  {
   "cell_type": "markdown",
   "metadata": {},
   "source": [
    "У нас есть алгоритм, который определяет вероятность обращения клиента по страховому случаю, но мы хотим использовать этот алгоритм, чтобы отказывать клиентам в обслуживании в страховой. Для этого нам нужны бинарные предсказания алгоритма. Давайте искать этот порог для получения бинарных предсказаний.\n",
    "\n",
    "__Задание 11.__\n",
    "\n",
    "__(0.5 балла)__\n",
    "\n",
    "Предположим, что нам надо подобрать порог такой, чтобы среди наших положителных предсказаний 95\\% действительно обратились бы по страховому случаю. Подберите соответствующий порог, оцените на нём precision, recall. Скажите, какой части потенциальных клиентов мы откажем?"
   ]
  },
  {
   "cell_type": "code",
   "execution_count": 909,
   "metadata": {},
   "outputs": [
    {
     "name": "stdout",
     "output_type": "stream",
     "text": [
      "0.018999999999999947\n",
      "0.959731543624161\n",
      "0.9014487195132581\n"
     ]
    }
   ],
   "source": [
    "for i in np.arange(0.01, 0.9, 0.0001):\n",
    "    y = np.zeros(y_test.shape[0])\n",
    "    for j , p in enumerate(pred):\n",
    "        y[j] = int(p[1] > i)\n",
    "    tpr = np.sum((y == y_test) & (y == 1)) / np.sum(y_test == 1)\n",
    "    res = np.sum((y == 1) & (y_test == 0)) / np.sum(y_test == 0)\n",
    "    \n",
    "    if abs(tpr - 0.95) <1e-2:\n",
    "        print(i)\n",
    "        print(tpr)\n",
    "        print(res)\n",
    "        break"
   ]
  },
  {
   "cell_type": "code",
   "execution_count": 911,
   "metadata": {},
   "outputs": [],
   "source": [
    "from sklearn.metrics import precision_score, recall_score"
   ]
  },
  {
   "cell_type": "code",
   "execution_count": 912,
   "metadata": {},
   "outputs": [
    {
     "data": {
      "text/plain": [
       "0.03855414966112883"
      ]
     },
     "execution_count": 912,
     "metadata": {},
     "output_type": "execute_result"
    }
   ],
   "source": [
    "precision_score(y_test, y)"
   ]
  },
  {
   "cell_type": "code",
   "execution_count": 913,
   "metadata": {},
   "outputs": [
    {
     "data": {
      "text/plain": [
       "0.959731543624161"
      ]
     },
     "execution_count": 913,
     "metadata": {},
     "output_type": "execute_result"
    }
   ],
   "source": [
    "recall_score(y_test, y)"
   ]
  },
  {
   "cell_type": "markdown",
   "metadata": {},
   "source": [
    "**Ответ:** \n",
    "подобранный порог для бинаризации - 0.019,\n",
    "precision = 0.038,\n",
    "recall = 0.96. Откажем 90% потенциальных клиентов."
   ]
  },
  {
   "cell_type": "code",
   "execution_count": null,
   "metadata": {},
   "outputs": [],
   "source": []
  },
  {
   "cell_type": "markdown",
   "metadata": {},
   "source": [
    "Иногда сложно решить, какие значения precision и recall нужны в нашей задаче. Однако иногда можно оценить экономический эффект от нашего алгоритма. Мы знаем, во сколько нам обходится клиент, который обратился в страховую, и сколько нам приносит клиент, который не обратился. \n",
    "\n",
    "При фиксированном пороге мы знаем, кому мы бы отказали в обслуживании. Среди них есть те, кто обратился бы в страховую и нам пришлось бы потратить деньги, и те, кто не обратился бы, то есть принёс бы нам деньги. Мы можем посчитать разницу между нашими доходами и расходами от этой группы людей и надеяться, что она будет положительной. \n",
    "\n",
    "__Задание 12.__ Найдите такой порог, при котором наш баланс (разница между доходами и расходами на группе клиентов, которым мы отказали) неотрицательный. \n",
    "\n",
    "__(1 балл)__"
   ]
  },
  {
   "cell_type": "code",
   "execution_count": 904,
   "metadata": {},
   "outputs": [
    {
     "name": "stdout",
     "output_type": "stream",
     "text": [
      "0.03909999999999982\n",
      "392885000 392625000\n",
      "260000\n"
     ]
    }
   ],
   "source": [
    "for i in np.arange(0.01, 0.9, 0.0001):\n",
    "    \n",
    "    y = np.zeros(y_test.shape[0])   \n",
    "    for j , p in enumerate(pred):\n",
    "        y[j] = int(p[1] > i)\n",
    "\n",
    "    a = np.sum(((y == 0) & (y_test == 0)))*5000\n",
    "    b = np.sum(((y == 0) & (y_test == 1)))*100000 + np.sum(((y == 1) & (y_test == 0)))*5000\n",
    "    #расходами считаем то, что действительно потеряли и то, что могли бы заработать, но не заработали\n",
    "    \n",
    "    if (a- b) >0:\n",
    "        print(i)\n",
    "        print(a, b)\n",
    "        print(a - b)\n",
    "        break"
   ]
  },
  {
   "cell_type": "markdown",
   "metadata": {},
   "source": [
    "**Ответ:** значение порога 0.039, наш баланс при этом 260000."
   ]
  },
  {
   "cell_type": "markdown",
   "metadata": {},
   "source": [
    "А на каком значение порога это разнциа максимальна? Скольким клиентам мы отказали в обслуживании?"
   ]
  },
  {
   "cell_type": "code",
   "execution_count": 905,
   "metadata": {},
   "outputs": [],
   "source": [
    "mx = 0\n",
    "for i in np.arange(0.04, 0.9, 0.001):\n",
    "    y = np.zeros(y_test.shape[0])   \n",
    "    for j , p in enumerate(pred):\n",
    "        y[j] = int(p[1] > i)\n",
    "\n",
    "    a = np.sum(((y == 0) & (y_test == 0)))*5000\n",
    "    b = np.sum(((y == 0) & (y_test == 1)))*100000 + np.sum(((y == 1) & (y_test == 0)))*5000\n",
    "       \n",
    "    if (a- b) > mx:\n",
    "        mx = a -b\n",
    "        mx_i = i"
   ]
  },
  {
   "cell_type": "code",
   "execution_count": 906,
   "metadata": {},
   "outputs": [
    {
     "data": {
      "text/plain": [
       "0.08500000000000005"
      ]
     },
     "execution_count": 906,
     "metadata": {},
     "output_type": "execute_result"
    }
   ],
   "source": [
    "mx_i"
   ]
  },
  {
   "cell_type": "code",
   "execution_count": 907,
   "metadata": {},
   "outputs": [
    {
     "data": {
      "text/plain": [
       "143930000"
      ]
     },
     "execution_count": 907,
     "metadata": {},
     "output_type": "execute_result"
    }
   ],
   "source": [
    "mx"
   ]
  },
  {
   "cell_type": "code",
   "execution_count": 908,
   "metadata": {},
   "outputs": [
    {
     "data": {
      "text/plain": [
       "3080"
      ]
     },
     "execution_count": 908,
     "metadata": {},
     "output_type": "execute_result"
    }
   ],
   "source": [
    "y = np.zeros(y_test.shape[0])   \n",
    "for j , p in enumerate(pred):\n",
    "        y[j] = int(p[1] > mx_i)\n",
    "np.sum(np.sum(y == 1))"
   ]
  },
  {
   "cell_type": "code",
   "execution_count": 250,
   "metadata": {},
   "outputs": [
    {
     "data": {
      "text/plain": [
       "0.077"
      ]
     },
     "execution_count": 250,
     "metadata": {},
     "output_type": "execute_result"
    }
   ],
   "source": [
    "3080 / y.shape[0]"
   ]
  },
  {
   "cell_type": "markdown",
   "metadata": {},
   "source": [
    "**Ответ:** значение порога = 0.085, максимальный баланс = 143930000, при этом отказали 3080 клиентам."
   ]
  },
  {
   "cell_type": "markdown",
   "metadata": {},
   "source": [
    "## Часть 5 (бонус). Vowpal Wabbit"
   ]
  },
  {
   "cell_type": "markdown",
   "metadata": {},
   "source": [
    "В этой части мы научимся использовать библиотеку [vowpal wabbit](https://github.com/JohnLangford/vowpal_wabbit). У неё есть несколько особенностей:\n",
    "- можно обучать только линейные модели, но за счёт большого количества опций и возможностей по усложнению, можно построить и довольно сложные вещи\n",
    "- можно обучаться на выборках, которые не помещаются в оперативную память\n",
    "- можно обрабатывать большое количество признаков (например, мешки слов текстов) и \"на ходу\" строить на них комбинации (не переделывать датасет)\n",
    "- другие особенности, как например, активное обучение и возможность распараллеленного обучения.\n",
    "\n",
    "Основные особенности при использовании следующие:\n",
    "- Свой формат данных: \"label |A feature1:value1 |B feature2:value2\", позволяющий, во-первых, указывать не все признаки (не нужно хранить много нулей в разреженных данных), а во-вторых, группировать и иметь возможность отключать или взаимодействовать (\"отключать\", добавлять квадратичные признаки и т.д.) сразу со всей группой признаков. По этой причине вам понадобится реализовать конвертер датасета и загрузку своих предсказаний, чтобы посчитать качество предсказаний.\n",
    "- Запуск обучения из командной строки (однако можно запускать эти же команды из ноутбука).\n",
    "\n",
    "В этот раз мы будем использовать данные с конкурса [Kaggle Avazu Click-Through Rate Prediction](https://www.kaggle.com/c/avazu-ctr-prediction) по предсказанию кликов (бинарная классификация). В обучающей выборке 40kk строк, так что у вас не должно быть желания загружать их в оперативную память. Предлагается взять первые 30kk строк в качестве обучающей выборке и оставшуюся часть для тестирования.\n",
    "\n",
    "__Задание 13.__ Работа с vowpal wabbit. \n",
    "\n",
    "- Скачайте данные, разделите их на обучающую и тестовую выборки.\n",
    "- Подготовьте функции для конвертирования датасета в формат vowpal wabbit и для загрузки предсказаний в ноутбук для подсчёта функционала.\n",
    "- Сделайте простейшее решение на vowpal wabbit. Оцените качество.\n",
    "- Изучите возможности и параметры vowpal wabbit. Поэксперементируйте. \n",
    "- Расскажите, что интересного вы узнали (какие-нибудь особенности, режимы работы, фишки, параметры).\n",
    "- Удалось ли вам улучшить качество базовой модели? Насколько? Что ещё можно было бы попробовать?\n",
    "\n",
    "В этом задании предусмотрены баллы по двум критериям:\n",
    "- достижение ROC-AUC на отложенной выборки более 0.738 __(1 балл)__\n",
    "- несколько занимательных фактов и возможностей vowpal-wabbit __(0.5 балла)__."
   ]
  },
  {
   "cell_type": "code",
   "execution_count": 1,
   "metadata": {},
   "outputs": [],
   "source": [
    "### ╰( ͡° ͜ʖ ͡° )つ──☆*:・ﾟ"
   ]
  }
 ],
 "metadata": {
  "kernelspec": {
   "display_name": "Python 3",
   "language": "python",
   "name": "python3"
  },
  "language_info": {
   "codemirror_mode": {
    "name": "ipython",
    "version": 3
   },
   "file_extension": ".py",
   "mimetype": "text/x-python",
   "name": "python",
   "nbconvert_exporter": "python",
   "pygments_lexer": "ipython3",
   "version": "3.6.5"
  },
  "toc": {
   "base_numbering": 1,
   "nav_menu": {},
   "number_sections": true,
   "sideBar": true,
   "skip_h1_title": true,
   "title_cell": "Table of Contents",
   "title_sidebar": "Contents",
   "toc_cell": false,
   "toc_position": {},
   "toc_section_display": true,
   "toc_window_display": false
  },
  "varInspector": {
   "cols": {
    "lenName": 16,
    "lenType": 16,
    "lenVar": 40
   },
   "kernels_config": {
    "python": {
     "delete_cmd_postfix": "",
     "delete_cmd_prefix": "del ",
     "library": "var_list.py",
     "varRefreshCmd": "print(var_dic_list())"
    },
    "r": {
     "delete_cmd_postfix": ") ",
     "delete_cmd_prefix": "rm(",
     "library": "var_list.r",
     "varRefreshCmd": "cat(var_dic_list()) "
    }
   },
   "types_to_exclude": [
    "module",
    "function",
    "builtin_function_or_method",
    "instance",
    "_Feature"
   ],
   "window_display": false
  }
 },
 "nbformat": 4,
 "nbformat_minor": 2
}
